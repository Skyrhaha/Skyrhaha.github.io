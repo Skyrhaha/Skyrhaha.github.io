{
 "cells": [
  {
   "cell_type": "markdown",
   "id": "ff88f7e5",
   "metadata": {
    "tags": []
   },
   "source": [
    "# jupyterlab安装配置\n",
    "\n",
    "1. jupyterlab安装 `pip install jupyterlab`\n",
    "1. jupyterlab配置:\n",
    "    - 配置文件生成: `cd $HOME; jupyter lab --generate-config`,生成配置文件`$HOME/.jupyter/jupyter_lab_config.py`\n",
    "    - 登录密码生成: `cd $HOME; jupyter lab password`,根据提示输入登录密码,生成加密后的文件`$HOME/.jupyter/jupyter_server_config.json`\n",
    "    - 配置修改:\n",
    "        ```\n",
    "        c.ServerApp.ip='0.0.0.0'               # server listen on ip\n",
    "        c.ServerApp.port=8080                  # server listen port\n",
    "        c.ServerApp.allow_remote_access = True #允许远程访问\n",
    "        c.ServerApp.password = '<$HOME/.jupyter/jupyter_server_config.json中的password>'  # 登录密码\n",
    "        ```\n",
    "1. 后台启动: `nohup jupyter lab &`\n",
    "    - 也可在命令行指定参数启动: `nohup jupyter lab --port=8080 --ip='0.0.0.0' >> jupyter.log 2>&1 &`"
   ]
  },
  {
   "cell_type": "markdown",
   "id": "cccb5525-4c1e-4b1e-a199-982889f521b8",
   "metadata": {
    "tags": []
   },
   "source": [
    "# jupyterlab版本升级 "
   ]
  },
  {
   "cell_type": "code",
   "execution_count": null,
   "id": "e2d79f81-25a3-4915-93b7-d0bd955c8fba",
   "metadata": {
    "tags": []
   },
   "outputs": [],
   "source": [
    "import jupyterlab\n",
    "print(jupyterlab.__version__)"
   ]
  },
  {
   "cell_type": "code",
   "execution_count": null,
   "id": "ac432556-b787-435d-8256-bc03c5d326e6",
   "metadata": {
    "tags": []
   },
   "outputs": [],
   "source": [
    "!jupyter --version"
   ]
  },
  {
   "cell_type": "code",
   "execution_count": null,
   "id": "4f8d11cb-11d5-49d8-9291-c8adf71a803d",
   "metadata": {},
   "outputs": [],
   "source": [
    "!pip install --upgrade jupyterlab -i https://pypi.tuna.tsinghua.edu.cn/simple"
   ]
  },
  {
   "cell_type": "code",
   "execution_count": null,
   "id": "aac48a5a-5822-4429-8dfa-e5d7cbb91a89",
   "metadata": {},
   "outputs": [],
   "source": [
    "!pip install nbclassic==0.2.8 -i https://pypi.tuna.tsinghua.edu.cn/simple"
   ]
  },
  {
   "cell_type": "code",
   "execution_count": null,
   "id": "5d90c620-ca53-4d41-bf32-96baa71e6e26",
   "metadata": {
    "tags": []
   },
   "outputs": [],
   "source": [
    "name=''\n",
    "name?\n",
    "print"
   ]
  },
  {
   "cell_type": "markdown",
   "id": "ac7c0e73-21ff-4818-89a2-34fe515cdc1c",
   "metadata": {
    "tags": []
   },
   "source": [
    "# 快捷键\n",
    "## 编辑模式\n",
    "```\n",
    "- 自动补全: Tab\n",
    "- 文档提示\n",
    "    - Shift+Tab\n",
    "    - 使用问号?\n",
    "```\n",
    "## 命令模式\n",
    "```\n",
    "命令模式 (按键 Esc 开启) 编辑模式(按键 Enter 切换)\n",
    "\n",
    "Shift-Enter : 运行本单元，选中下个单元\n",
    "Ctrl-Enter : 运行本单元\n",
    "Alt-Enter : 运行本单元，在其下插入新单元\n",
    "Y : 单元转入代码状态(命令模式下)\n",
    "M :单元转入markdown状态(命令模式下)\n",
    "R : 单元转入raw状态\n",
    "1 : 设定 1 级标题\n",
    "2 : 设定 2 级标题\n",
    "3 : 设定 3 级标题\n",
    "4 : 设定 4 级标题\n",
    "5 : 设定 5 级标题\n",
    "6 : 设定 6 级标题\n",
    "Up : 选中上方单元\n",
    "K : 选中上方单元\n",
    "Down : 选中下方单元\n",
    "J : 选中下方单元\n",
    "Shift-K : 扩大选中上方单元\n",
    "Shift-J : 扩大选中下方单元\n",
    "A : 在上方插入新单元\n",
    "B : 在下方插入新单元\n",
    "X : 剪切选中的单元\n",
    "C : 复制选中的单元\n",
    "V : 粘贴到下方单元\n",
    "Z : 恢复删除的最后一个单元\n",
    "D,D : 删除选中的单元\n",
    "Shift-M : 合并选中的单元\n",
    "Ctrl-S : 文件存盘\n",
    "S : 文件存盘\n",
    "L : 转换行号\n",
    "O : 转换输出\n",
    "Shift-O : 转换输出滚动\n",
    "Esc : 关闭页面\n",
    "Q : 关闭页面\n",
    "H : 显示快捷键帮助\n",
    "Shift : 忽略\n",
    "Shift-Space : 向上滚动\n",
    "Space : 向下滚动\n",
    "```\n",
    "\n",
    "## 魔术符号\n",
    "\n",
    "- % 行魔术 (写在一行)\n",
    "- %% 格子魔术 (写在这个格子Cell里)\n",
    "- %lsmagic 列举所有魔术符号"
   ]
  },
  {
   "cell_type": "code",
   "execution_count": null,
   "id": "c0062b51-1738-4ffb-a2fd-7fee34d559ea",
   "metadata": {
    "tags": []
   },
   "outputs": [],
   "source": [
    "%%time \n",
    "# 记录模块耗时\n",
    "print('jupyter')"
   ]
  },
  {
   "cell_type": "code",
   "execution_count": null,
   "id": "229c627a-5cbc-41af-8d89-40f3e3cd9670",
   "metadata": {
    "tags": []
   },
   "outputs": [],
   "source": [
    "%lsmagic"
   ]
  },
  {
   "cell_type": "code",
   "execution_count": null,
   "id": "8f6598ba-80bb-438b-86c9-f8d1d7dc41ef",
   "metadata": {
    "tags": []
   },
   "outputs": [],
   "source": [
    "%%html\n",
    "\n",
    "<iframe src=\"https://www.bilibili.com/video/BV1614y1b7Bm/?spm_id_from=333.337.search-card.all.click\" scrolling=\"no\" width=100% height=\"800px\" />"
   ]
  },
  {
   "cell_type": "code",
   "execution_count": null,
   "id": "789fb87a-9b8b-4646-b57a-73d31118e84c",
   "metadata": {
    "tags": []
   },
   "outputs": [],
   "source": [
    "%%markdown\n",
    "\n",
    "```\n",
    "%%markdown\n",
    "cell使用markdown\n",
    "```"
   ]
  },
  {
   "cell_type": "markdown",
   "id": "e3db2a7e-63a4-4ffe-aeaa-24daa70b779e",
   "metadata": {
    "execution": {
     "iopub.execute_input": "2023-03-19T09:22:17.140504Z",
     "iopub.status.busy": "2023-03-19T09:22:17.139697Z",
     "iopub.status.idle": "2023-03-19T09:22:17.146926Z",
     "shell.execute_reply": "2023-03-19T09:22:17.145605Z",
     "shell.execute_reply.started": "2023-03-19T09:22:17.140468Z"
    },
    "tags": []
   },
   "source": [
    "# 插件"
   ]
  },
  {
   "cell_type": "markdown",
   "id": "3b76c7a3-8708-4038-9f52-3eba12d3757c",
   "metadata": {
    "execution": {
     "iopub.execute_input": "2023-03-19T09:23:00.319832Z",
     "iopub.status.busy": "2023-03-19T09:23:00.318982Z",
     "iopub.status.idle": "2023-03-19T09:23:00.324888Z",
     "shell.execute_reply": "2023-03-19T09:23:00.324260Z",
     "shell.execute_reply.started": "2023-03-19T09:23:00.319796Z"
    },
    "tags": []
   },
   "source": [
    "## jupyterlab-drawio"
   ]
  },
  {
   "cell_type": "code",
   "execution_count": null,
   "id": "260beddf-4939-4082-91dc-f6598383db30",
   "metadata": {
    "tags": []
   },
   "outputs": [],
   "source": [
    "# !pip install jupyterlab-drawio\n",
    "!pip install ipydrawio -i https://pypi.tuna.tsinghua.edu.cn/simple"
   ]
  },
  {
   "cell_type": "code",
   "execution_count": null,
   "id": "ad364f5d-a3b3-44f7-a100-4e1d762b8d15",
   "metadata": {
    "tags": []
   },
   "outputs": [],
   "source": [
    "from IPython.display import display,update_display\n",
    "display({\"application/x-drawio\" : open(\"test.dio\", \"r\")}, raw=True)"
   ]
  },
  {
   "cell_type": "markdown",
   "id": "84e7a57f-9ddb-42b7-b8b7-0c4bbe22073d",
   "metadata": {},
   "source": [
    "## jupyterlab集成PySpark\n",
    "\n",
    "1. 安装PySpark: `pip install PySpark`\n",
    "1. 获取spark关于py4j的文件信息: `ls $SPARK_HOME/python/lib/py4j-*-src.zip`\n",
    "1. 在.bash_profile中配置环境变量:\n",
    "    ```\n",
    "    export SPARK_HOME=<your spark setup path>\n",
    "    export PYSPARK_DRIVER_PYTHON=jupyter\n",
    "    export PYTHONPATH=$SPARK_HOME/python:$SPARK_HOME/python/lib/py4j-0.10.9.3-src.zip:$PYTHONPATH\n",
    "    ```\n",
    "1. 重启jupyterlab\n",
    "1. 通过`import pyspark`是否报错来检查是否集成成功"
   ]
  },
  {
   "cell_type": "code",
   "execution_count": null,
   "id": "8c224c0a",
   "metadata": {},
   "outputs": [],
   "source": [
    "pip install PySpark"
   ]
  },
  {
   "cell_type": "code",
   "execution_count": null,
   "id": "077b3f67-de22-4de5-a70b-7e31c3a25c24",
   "metadata": {
    "tags": []
   },
   "outputs": [],
   "source": [
    "import pyspark\n",
    "pyspark.__version__"
   ]
  },
  {
   "cell_type": "code",
   "execution_count": null,
   "id": "0f379cc0-f283-4eb6-a96d-64b783d68aba",
   "metadata": {
    "tags": []
   },
   "outputs": [],
   "source": [
    "from pyspark.sql import SparkSession\n",
    "\n",
    "spark = SparkSession \\\n",
    "    .builder \\\n",
    "    .appName(\"Python Spark SQL basic example\") \\\n",
    "    .getOrCreate()"
   ]
  },
  {
   "cell_type": "code",
   "execution_count": null,
   "id": "7c8d7c91-1063-4786-9482-a9544e16a483",
   "metadata": {
    "tags": []
   },
   "outputs": [],
   "source": [
    "import os\n",
    "\n",
    "df = spark.read.json(f\"{os.environ['SPARK_HOME']}/examples/src/main/resources/people.json\")\n",
    "df.show()"
   ]
  },
  {
   "cell_type": "markdown",
   "id": "18355d03-15be-4ba9-9dd6-0858e0d17f3a",
   "metadata": {},
   "source": [
    "## pgywalker"
   ]
  },
  {
   "cell_type": "code",
   "execution_count": null,
   "id": "e640ebf7-ddec-4dcb-97e9-6dadc248b2b9",
   "metadata": {
    "tags": []
   },
   "outputs": [],
   "source": [
    "import pandas as pd\n",
    "import pygwalker as pyg\n",
    "\n",
    "json_data=[\n",
    "    {'name': 'name1','age': 10},\n",
    "    {'name': 'name2','age': 20},\n",
    "    {'name': 'name3','age': 30},\n",
    "    {'name': 'name4','age': 40},\n",
    "]\n",
    "\n",
    "df=pd.json_normalize(json_data)\n",
    "# display(df)\n",
    "\n",
    "gwalker=pyg.walk(df)"
   ]
  },
  {
   "cell_type": "markdown",
   "id": "26a6f017-668e-4609-9c0f-7b09b9fcc7c3",
   "metadata": {},
   "source": [
    "## jupyterlab集成plantuml\n",
    "- https://github.com/jbn/IPlantUML/blob/master/README.rst\n",
    "- https://stackoverflow.com/questions/20303335/ipython-notebook-plantuml-extension\n",
    "\n",
    "\n",
    "```\n",
    "pip install iplantuml\n",
    "\n",
    "import iplantuml\n",
    "\n",
    "cell magic:\n",
    "%%plantuml --jar\n",
    "```"
   ]
  },
  {
   "cell_type": "code",
   "execution_count": null,
   "id": "a2f22522-a942-4760-abb5-5f3de20847c2",
   "metadata": {
    "tags": []
   },
   "outputs": [],
   "source": [
    "import iplantuml"
   ]
  },
  {
   "cell_type": "code",
   "execution_count": null,
   "id": "703a1468-abb3-4bc9-b12a-5026169f821b",
   "metadata": {
    "tags": []
   },
   "outputs": [],
   "source": [
    "# %%plantuml -h\n",
    "\n",
    "# usage: ipykernel_launcher.py [-h] [-j] [-n NAME] [-p PLANTUML_PATH]\n",
    "\n",
    "# optional arguments:\n",
    "#   -h, --help            show this help message and exit\n",
    "#   -j, --jar             render using plantuml.jar (default is plantweb)\n",
    "#   -n NAME, --name NAME  persist as <name>.uml and <name>.svg after rendering\n",
    "#   -p PLANTUML_PATH, --plantuml-path PLANTUML_PATH\n",
    "#                         specify PlantUML jar path\n",
    "#                         (default=/usr/local/bin/plantuml.jar)"
   ]
  },
  {
   "cell_type": "code",
   "execution_count": null,
   "id": "cd640be4-a8e1-4e99-a4e1-a444fe5a03bd",
   "metadata": {
    "tags": []
   },
   "outputs": [],
   "source": [
    "%plantuml -h"
   ]
  },
  {
   "cell_type": "code",
   "execution_count": null,
   "id": "faf48e0b-5c8d-4617-a70f-5f84e46a44c4",
   "metadata": {
    "tags": []
   },
   "outputs": [],
   "source": [
    "%%plantuml -h\n",
    "\n",
    "@startuml\n",
    "Alice -> Bob: Authentication Request\n",
    "Bob --> Alice: Authentication Response\n",
    "@enduml"
   ]
  },
  {
   "cell_type": "code",
   "execution_count": 1,
   "id": "9491cdc0-b214-417a-8ae3-a37ae1dcf9d2",
   "metadata": {
    "tags": []
   },
   "outputs": [
    {
     "name": "stderr",
     "output_type": "stream",
     "text": [
      "UsageError: Cell magic `%%plantuml` not found.\n"
     ]
    }
   ],
   "source": [
    "%%plantuml \n",
    "\n",
    "' @startmindmap routemap\n",
    "@startwbs routemap\n",
    "\n",
    "* 大数据\n",
    "\n",
    "** python3\n",
    "*** 开发环境\n",
    "**** visual studio code\n",
    "**** jupyterlab(notebook)\n",
    "***** 集成PySpark\n",
    "***** 集成plantuml\n",
    "***** 集成SQL(mysql)\n",
    "\n",
    "*** python基础\n",
    "*** 框架/包\n",
    "**** Flask(web)\n",
    "**** jieba(中文分词库)\n",
    "**** requests+json(http)\n",
    "**** apscheduler(调度)\n",
    "\n",
    "** 常用组件\n",
    "*** PySpark(Spark)\n",
    "**** SparkSQL\n",
    "**** Spark Structured Streaming\n",
    "**** GraphFrames\n",
    "\n",
    "*** Hadoop\n",
    "**** HDFS\n",
    "**** YARN\n",
    "**** MapReduce\n",
    "\n",
    "*** Hive\n",
    "**** metadata\n",
    "*** Kafka\n",
    "\n",
    "** 应用\n",
    "*** 数据分析\n",
    "**** numpy\n",
    "**** pandas\n",
    "\n",
    "*** 数据可视化\n",
    "**** pyecharts\\n(echarts)\n",
    "**** PygWalker\\n(Graphic Walker-Tableau)\n",
    "**** matplotlib\n",
    "\n",
    "*** 数据治理\n",
    "**** sqllineage(分析SQL血缘)\n",
    "**** apache atlas\n",
    "**** 图数据库\n",
    "***** HugeGraph\n",
    "****** HugeGraph Server\n",
    "****** HugeGraph Loader\n",
    "****** HugeGraph Hubble(UI)\n",
    "***** JanusGraph\n",
    "***** Neo4j\n",
    "***** Gremlin Query Language\n",
    "**** 搜索引擎\n",
    "***** solr\n",
    "\n",
    "** 云平台\n",
    "*** Azure Data Factory\n",
    "*** Azure Databricks\n",
    "**** Spark\n",
    "**** delta lake(Lake House)\n",
    "*** Azure Event Hub\n",
    "\n",
    "' @endmindmap\n",
    "@endwbs"
   ]
  },
  {
   "cell_type": "markdown",
   "id": "3e2dba2c-2617-4855-8892-135c74ceb5af",
   "metadata": {
    "execution": {
     "iopub.execute_input": "2023-03-19T06:00:54.451183Z",
     "iopub.status.busy": "2023-03-19T06:00:54.450680Z",
     "iopub.status.idle": "2023-03-19T06:00:54.922870Z",
     "shell.execute_reply": "2023-03-19T06:00:54.921246Z",
     "shell.execute_reply.started": "2023-03-19T06:00:54.451149Z"
    },
    "tags": []
   },
   "source": [
    "## jupyterlab统计cell耗时\n",
    "- https://github.com/deshaw/jupyterlab-execute-time"
   ]
  },
  {
   "cell_type": "code",
   "execution_count": null,
   "id": "32560faf-4466-4cee-8a91-1930bf561751",
   "metadata": {
    "tags": []
   },
   "outputs": [],
   "source": [
    "pip install jupyterlab_execute_time"
   ]
  },
  {
   "cell_type": "code",
   "execution_count": null,
   "id": "c10a87d3-948f-4ae1-bc19-7f510855d38a",
   "metadata": {
    "tags": []
   },
   "outputs": [],
   "source": [
    "import time\n",
    "time.sleep(5)"
   ]
  },
  {
   "cell_type": "markdown",
   "id": "692ca585-4542-4496-9c44-37b4b8173eea",
   "metadata": {},
   "source": [
    "## jupyterlab-lsp\n",
    "- https://github.com/jupyter-lsp/jupyterlab-lsp"
   ]
  },
  {
   "cell_type": "markdown",
   "id": "8a4c0637-2d47-49b3-8614-7a79714825b6",
   "metadata": {},
   "source": [
    "### 安装jupterlab-lsp"
   ]
  },
  {
   "cell_type": "code",
   "execution_count": null,
   "id": "624f0a7c-f76e-4c2f-9f38-5b0ef041551b",
   "metadata": {
    "tags": []
   },
   "outputs": [],
   "source": [
    "pip install jupyterlab-lsp  -i https://pypi.tuna.tsinghua.edu.cn/simple"
   ]
  },
  {
   "cell_type": "markdown",
   "id": "2f82815d-75fd-41b1-8b73-511f8e70c994",
   "metadata": {},
   "source": [
    "### 安装语言服务器"
   ]
  },
  {
   "cell_type": "code",
   "execution_count": null,
   "id": "fc7730af-c145-4a00-a8a8-7cb4a56c3f96",
   "metadata": {},
   "outputs": [],
   "source": [
    "pip install python-lsp-server[all]  -i https://pypi.tuna.tsinghua.edu.cn/simple"
   ]
  },
  {
   "cell_type": "markdown",
   "id": "fe97ea4f-0f7f-4094-a0e3-225fb55e82e7",
   "metadata": {
    "tags": []
   },
   "source": [
    "### python提示加速"
   ]
  },
  {
   "cell_type": "code",
   "execution_count": null,
   "id": "ec484c7b-2915-4278-9bc8-04a30f1c24bb",
   "metadata": {
    "tags": []
   },
   "outputs": [],
   "source": [
    "%config Completer.use_jedi = False"
   ]
  },
  {
   "cell_type": "markdown",
   "id": "7ddc09f7-0546-4a9a-886c-95dcf45a14a4",
   "metadata": {},
   "source": [
    "- 永久加速配置修改:\n",
    "`jupyter_lab_config.py`添加配置`c.Completer.use_jedi=False`\n"
   ]
  },
  {
   "cell_type": "code",
   "execution_count": null,
   "id": "538e578d-a7fd-4fb6-a9c5-956098e5d650",
   "metadata": {
    "tags": []
   },
   "outputs": [],
   "source": [
    "from pandas import DataFrame\n",
    "import pandas as pd\n",
    "\n",
    "# pd.read_csv\n",
    "import os\n",
    "pd.read_sql_query"
   ]
  }
 ],
 "metadata": {
  "kernelspec": {
   "display_name": "Python 3 (ipykernel)",
   "language": "python",
   "name": "python3"
  },
  "language_info": {
   "codemirror_mode": {
    "name": "ipython",
    "version": 3
   },
   "file_extension": ".py",
   "mimetype": "text/x-python",
   "name": "python",
   "nbconvert_exporter": "python",
   "pygments_lexer": "ipython3",
   "version": "3.10.7"
  },
  "toc-autonumbering": true,
  "toc-showcode": false,
  "toc-showmarkdowntxt": true,
  "toc-showtags": false,
  "vscode": {
   "interpreter": {
    "hash": "fbc768028c3e6ead51d9a200ddcb2ec858ae62844dcd1994729a8279be9b48f2"
   }
  }
 },
 "nbformat": 4,
 "nbformat_minor": 5
}
