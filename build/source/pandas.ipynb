{
 "cells": [
  {
   "cell_type": "markdown",
   "id": "162374f4-3b51-4f7e-b0f0-ac5806e1e044",
   "metadata": {
    "tags": [],
    "toc-hr-collapsed": true
   },
   "source": [
    "# numpy"
   ]
  },
  {
   "cell_type": "code",
   "execution_count": 3,
   "id": "1445a23b-0bfc-4e4b-a38a-cfba4a50ccd7",
   "metadata": {
    "tags": []
   },
   "outputs": [
    {
     "data": {
      "text/plain": [
       "'1.23.3'"
      ]
     },
     "execution_count": 3,
     "metadata": {},
     "output_type": "execute_result"
    }
   ],
   "source": [
    "import numpy as np\n",
    "np.__version__"
   ]
  },
  {
   "cell_type": "markdown",
   "id": "aa672f34-98f9-4e55-a287-dca6bc50cf1f",
   "metadata": {},
   "source": [
    "## numpy数据类型\n",
    "1. 布尔 bool_\n",
    "1. 整型 int_/int8.../uint8...\n",
    "1. 浮点型 float_/float16...\n",
    "1. 复数型 complex_/complex64..."
   ]
  },
  {
   "cell_type": "code",
   "execution_count": 12,
   "id": "f7ffa111-1e73-4f25-a843-44a41d1aeb3c",
   "metadata": {
    "tags": []
   },
   "outputs": [
    {
     "name": "stdout",
     "output_type": "stream",
     "text": [
      "bool int32 float64 complex128\n"
     ]
    },
    {
     "data": {
      "text/plain": [
       "dtype('bool')"
      ]
     },
     "metadata": {},
     "output_type": "display_data"
    },
    {
     "data": {
      "text/plain": [
       "dtype('int32')"
      ]
     },
     "metadata": {},
     "output_type": "display_data"
    },
    {
     "data": {
      "text/plain": [
       "dtype('float64')"
      ]
     },
     "metadata": {},
     "output_type": "display_data"
    },
    {
     "data": {
      "text/plain": [
       "dtype('complex128')"
      ]
     },
     "metadata": {},
     "output_type": "display_data"
    }
   ],
   "source": [
    "d1=np.dtype(np.bool_)\n",
    "d2=np.dtype(np.int_)\n",
    "d3=np.dtype(np.float_)\n",
    "d4=np.dtype(np.complex_)\n",
    "\n",
    "print(d1,d2,d3,d4)\n",
    "display(d1,d2,d3,d4)"
   ]
  },
  {
   "cell_type": "markdown",
   "id": "4e26b2ea-2a23-4522-83c6-7f1870a9fdb2",
   "metadata": {},
   "source": [
    "## ndarray类型"
   ]
  },
  {
   "cell_type": "code",
   "execution_count": 13,
   "id": "d6032629-b294-483f-942c-d8bebce36db3",
   "metadata": {
    "tags": []
   },
   "outputs": [
    {
     "name": "stdout",
     "output_type": "stream",
     "text": [
      "a1=[1 2 3] type(a1)=<class 'numpy.ndarray'>\n",
      "a2=[[1 2 3]\n",
      " [1 2 3]]\n",
      "a3.ndim=2 a3=[[1 2 3 4 5]]\n",
      "a4=[1.+0.j 2.+0.j 3.+0.j]\n"
     ]
    }
   ],
   "source": [
    "# 一维\n",
    "a1=np.array([1,2,3])\n",
    "print(f\"a1={a1} {type(a1)=}\")\n",
    "\n",
    "# 多维\n",
    "a2=np.array([[1,2,3], [1,2,3]])\n",
    "print(f\"a2={a2}\")\n",
    "\n",
    "# 指定ndmin最小维度:注意 ndmin 与 ndim 区别\n",
    "a3=np.array([1,2,3,4,5], ndmin=2)\n",
    "print(f\"a3.ndim={a3.ndim} a3={a3}\")\n",
    "\n",
    "# 指定dtype数据类型\n",
    "a4=np.array([1,2,3], dtype=complex)\n",
    "print(f\"a4={a4}\")"
   ]
  },
  {
   "cell_type": "markdown",
   "id": "7e31bb48-71e9-4902-a7f5-ec524bebfe9e",
   "metadata": {},
   "source": [
    "## ndarray属性\n",
    "- ndarray.ndim 矩阵的秩，即轴的数量或维度数\n",
    "- ndarray.shape 数组的维度，对于矩阵，n 行 m 列\n",
    "- ndarray.size 数组元素个数, n*m\n",
    "- ndarray.dtype 元素类型"
   ]
  },
  {
   "cell_type": "code",
   "execution_count": 14,
   "id": "eed3bd7a-8859-4fc3-8866-658294c0f241",
   "metadata": {
    "tags": []
   },
   "outputs": [
    {
     "name": "stdout",
     "output_type": "stream",
     "text": [
      "a=[ 0  1  2  3  4  5  6  7  8  9 10 11] ndim=1 shape=(12,) size=12 dtype=int32\n",
      "after reshape a=[[[ 0  1]\n",
      "  [ 2  3]\n",
      "  [ 4  5]]\n",
      "\n",
      " [[ 6  7]\n",
      "  [ 8  9]\n",
      "  [10 11]]] ndim=3 shape=(2, 3, 2) size=12 dtype=int32\n"
     ]
    }
   ],
   "source": [
    "a=np.arange(12)\n",
    "print(f\"a={a} ndim={a.ndim} shape={a.shape} size={a.size} dtype={a.dtype}\")\n",
    "\n",
    "a=a.reshape(2,3,2)\n",
    "print(f\"after reshape a={a} ndim={a.ndim} shape={a.shape} size={a.size} dtype={a.dtype}\")"
   ]
  },
  {
   "cell_type": "markdown",
   "id": "c550068d-2a7c-418d-a94e-ccd718296447",
   "metadata": {},
   "source": [
    "## 创建数组"
   ]
  },
  {
   "cell_type": "code",
   "execution_count": 25,
   "id": "b9bccbd9-0153-4084-b66e-ff042e1e548b",
   "metadata": {
    "tags": []
   },
   "outputs": [
    {
     "name": "stdout",
     "output_type": "stream",
     "text": [
      "[2.07955588e-312 2.12199579e-312 2.16443571e-312]\n",
      "[[0 0]]\n",
      "[1. 1. 1.]\n",
      "[[1 1]\n",
      " [1 1]]\n",
      "[1 2 3]\n",
      "<U1\n",
      "[['a' 'b' 'c']\n",
      " ['d' 'e' 'f']]\n",
      "[0 1 2]\n",
      "[0 2]\n"
     ]
    }
   ],
   "source": [
    "# 创建空数组（值未初始化）\n",
    "print(np.empty(3))\n",
    "\n",
    "# 创建0填充的数组\n",
    "print(np.zeros(shape=(1,2), dtype=int))\n",
    "\n",
    "# 创建1填充的数组\n",
    "print(np.ones(3))\n",
    "print(np.ones([2,2], dtype=int))\n",
    "\n",
    "# 从已有数据创建数组\n",
    "d1=[1,2,3]\n",
    "print(np.asarray(d1))\n",
    "\n",
    "d2=[(\"a\",\"b\",\"c\"),(\"d\",\"e\",\"f\")]\n",
    "a2=np.asarray(a=d2, dtype=\"<U1\")\n",
    "print(a2.dtype)\n",
    "print(a2)\n",
    "\n",
    "# 从数组范围创建 np.arange(start,stop,step,dtype)\n",
    "print(np.arange(3))\n",
    "print(np.arange(0,3,2))"
   ]
  },
  {
   "cell_type": "markdown",
   "id": "a885d85f-454d-4ee7-a145-8828ae688d87",
   "metadata": {},
   "source": [
    "## 索引(元素访问)"
   ]
  },
  {
   "cell_type": "code",
   "execution_count": 26,
   "id": "632c0119-8e83-43aa-9d63-23de925683b9",
   "metadata": {
    "tags": []
   },
   "outputs": [
    {
     "data": {
      "text/plain": [
       "array([[1, 2, 3],\n",
       "       [4, 5, 6],\n",
       "       [7, 8, 9]])"
      ]
     },
     "metadata": {},
     "output_type": "display_data"
    },
    {
     "data": {
      "text/plain": [
       "array([3, 5, 7])"
      ]
     },
     "metadata": {},
     "output_type": "display_data"
    },
    {
     "data": {
      "text/plain": [
       "array([1, 3, 7, 9])"
      ]
     },
     "metadata": {},
     "output_type": "display_data"
    },
    {
     "data": {
      "text/plain": [
       "array([[1, 3],\n",
       "       [7, 9]])"
      ]
     },
     "metadata": {},
     "output_type": "display_data"
    }
   ],
   "source": [
    "a=np.array([\n",
    "    [1,2,3],\n",
    "    [4,5,6],\n",
    "    [7,8,9]\n",
    "])\n",
    "display(a)\n",
    "\n",
    "# 访问格式:通过行列数组索引访问\n",
    "# 访问(0,2) (1,1) (2,0)位置元素\n",
    "rows=[0,1,2]\n",
    "cols=[2,1,0]\n",
    "display(a[rows,cols]) # => [3,5,7]\n",
    "\n",
    "# 访问四个角元素 (0,0) (0,2) (2, 0) (2,2)\n",
    "# 返回结果是一维数组\n",
    "rows=[0, 0, 2, 2]\n",
    "cols=[0, 2, 0, 2]\n",
    "display(a[rows,cols])\n",
    "# 返回结果是二维数组\n",
    "rows=[[0,0],[2,2]]\n",
    "cols=[[0,2],[0,2]]\n",
    "display(a[rows, cols])"
   ]
  },
  {
   "cell_type": "markdown",
   "id": "b3b168a0-dd10-4356-8d1b-5caea13d19f2",
   "metadata": {},
   "source": [
    "## 随机函数"
   ]
  },
  {
   "cell_type": "code",
   "execution_count": 27,
   "id": "0272a261-b80d-4c91-abec-25ea88a72ffb",
   "metadata": {
    "tags": []
   },
   "outputs": [
    {
     "name": "stdout",
     "output_type": "stream",
     "text": [
      "[[0.69646919 0.28613933]\n",
      " [0.22685145 0.55131477]]\n",
      "[[-0.57860025  1.65143654]\n",
      " [-2.42667924 -0.42891263]]\n",
      "[[1 4 5]\n",
      " [1 1 5]\n",
      " [2 8 4]]\n"
     ]
    }
   ],
   "source": [
    "# 设定随机种子，这样每次生成的随机数会相同\n",
    "np.random.seed(123)\n",
    "\n",
    "# 返回数据在[0,1)之间，具有均匀分布\n",
    "print(np.random.rand(2,2))\n",
    "\n",
    "# 返回具有标准正态分布，均值为0，方差为1\n",
    "print(np.random.randn(2,2))\n",
    "\n",
    "# 生成随机整数randint(low[,high,size,dtype])，包含low，不包含high\n",
    "print(np.random.randint(1,10,size=(3,3)))"
   ]
  },
  {
   "cell_type": "markdown",
   "id": "0ddee8d6-d4c9-42db-92d6-b91a7bb400c3",
   "metadata": {
    "tags": []
   },
   "source": [
    "# pandas\n",
    "- https://www.runoob.com/pandas/pandas-tutorial.html\n",
    "- https://pandas.pydata.org/"
   ]
  },
  {
   "cell_type": "code",
   "execution_count": 20,
   "id": "5ff34ffb-4f61-47f5-b74d-43a5c1224d8e",
   "metadata": {
    "tags": []
   },
   "outputs": [
    {
     "data": {
      "text/plain": [
       "'1.5.0'"
      ]
     },
     "execution_count": 20,
     "metadata": {},
     "output_type": "execute_result"
    }
   ],
   "source": [
    "import pandas as pd\n",
    "pd.__version__"
   ]
  },
  {
   "cell_type": "code",
   "execution_count": 27,
   "id": "d8a816a3-453f-4e65-b01e-55e8855aef4e",
   "metadata": {
    "tags": []
   },
   "outputs": [
    {
     "data": {
      "text/html": [
       "<div>\n",
       "<style scoped>\n",
       "    .dataframe tbody tr th:only-of-type {\n",
       "        vertical-align: middle;\n",
       "    }\n",
       "\n",
       "    .dataframe tbody tr th {\n",
       "        vertical-align: top;\n",
       "    }\n",
       "\n",
       "    .dataframe thead th {\n",
       "        text-align: right;\n",
       "    }\n",
       "</style>\n",
       "<table border=\"1\" class=\"dataframe\">\n",
       "  <thead>\n",
       "    <tr style=\"text-align: right;\">\n",
       "      <th></th>\n",
       "      <th>数据分析</th>\n",
       "      <th>Spark</th>\n",
       "    </tr>\n",
       "  </thead>\n",
       "  <tbody>\n",
       "    <tr>\n",
       "      <th>0</th>\n",
       "      <td>numpy</td>\n",
       "      <td>RDD</td>\n",
       "    </tr>\n",
       "    <tr>\n",
       "      <th>1</th>\n",
       "      <td>pandas</td>\n",
       "      <td>SparkSQL</td>\n",
       "    </tr>\n",
       "    <tr>\n",
       "      <th>2</th>\n",
       "      <td>matplotlib</td>\n",
       "      <td>Structured-Streaming</td>\n",
       "    </tr>\n",
       "  </tbody>\n",
       "</table>\n",
       "</div>"
      ],
      "text/plain": [
       "         数据分析                 Spark\n",
       "0       numpy                   RDD\n",
       "1      pandas              SparkSQL\n",
       "2  matplotlib  Structured-Streaming"
      ]
     },
     "execution_count": 27,
     "metadata": {},
     "output_type": "execute_result"
    }
   ],
   "source": [
    "mydataset = {\n",
    "    '数据分析': ['numpy', 'pandas', 'matplotlib'],\n",
    "    'Spark': ['RDD', 'SparkSQL', 'Structured-Streaming']\n",
    "}\n",
    "df = pd.DataFrame(mydataset)\n",
    "df"
   ]
  },
  {
   "cell_type": "markdown",
   "id": "00a86766-0009-4123-b835-bf8d77d46fc1",
   "metadata": {
    "toc-hr-collapsed": true
   },
   "source": [
    "## pandas主要数据结构\n",
    "- 一维(Series)\n",
    "    - pandas.Series( data, index, dtype, name, copy)\n",
    "- 二维(DataFrame)\n",
    "    - pandas.DataFrame( data, index, columns, dtype, copy)"
   ]
  },
  {
   "cell_type": "code",
   "execution_count": 31,
   "id": "0598da6a",
   "metadata": {
    "tags": []
   },
   "outputs": [
    {
     "name": "stdout",
     "output_type": "stream",
     "text": [
      "ps=10    a\n",
      "20    b\n",
      "30    c\n",
      "40    d\n",
      "dtype: object type(pd.Series(names))=<class 'pandas.core.series.Series'>\n"
     ]
    },
    {
     "data": {
      "text/plain": [
       "'c'"
      ]
     },
     "execution_count": 31,
     "metadata": {},
     "output_type": "execute_result"
    }
   ],
   "source": [
    "import numpy as np\n",
    "import pandas as pd\n",
    "\n",
    "names = ['a', 'b', 'c', 'd']\n",
    "ps = pd.Series(names, index=[10, 20, 30, 40])\n",
    "print(f\"{ps=} {type(pd.Series(names))=}\")\n",
    "\n",
    "ps[30]"
   ]
  },
  {
   "cell_type": "markdown",
   "id": "063b17db-3a19-4bb9-ad71-69225c2a1600",
   "metadata": {},
   "source": [
    "### 层次索引"
   ]
  },
  {
   "cell_type": "markdown",
   "id": "be3fda92-d9a3-4ea5-8e50-c50c70d742b2",
   "metadata": {},
   "source": [
    "#### 列多级"
   ]
  },
  {
   "cell_type": "code",
   "execution_count": 158,
   "id": "2692b5aa-3d54-42b8-a092-ac6fc3e023b0",
   "metadata": {
    "tags": []
   },
   "outputs": [
    {
     "data": {
      "text/html": [
       "<div>\n",
       "<style scoped>\n",
       "    .dataframe tbody tr th:only-of-type {\n",
       "        vertical-align: middle;\n",
       "    }\n",
       "\n",
       "    .dataframe tbody tr th {\n",
       "        vertical-align: top;\n",
       "    }\n",
       "\n",
       "    .dataframe thead tr th {\n",
       "        text-align: left;\n",
       "    }\n",
       "</style>\n",
       "<table border=\"1\" class=\"dataframe\">\n",
       "  <thead>\n",
       "    <tr>\n",
       "      <th></th>\n",
       "      <th colspan=\"3\" halign=\"left\">上半年</th>\n",
       "      <th colspan=\"3\" halign=\"left\">下半年</th>\n",
       "    </tr>\n",
       "    <tr>\n",
       "      <th></th>\n",
       "      <th>收入</th>\n",
       "      <th>成本</th>\n",
       "      <th>费用</th>\n",
       "      <th>收入</th>\n",
       "      <th>成本</th>\n",
       "      <th>费用</th>\n",
       "    </tr>\n",
       "  </thead>\n",
       "  <tbody>\n",
       "    <tr>\n",
       "      <th>92#</th>\n",
       "      <td>4741</td>\n",
       "      <td>5837</td>\n",
       "      <td>1981</td>\n",
       "      <td>1622</td>\n",
       "      <td>3252</td>\n",
       "      <td>566</td>\n",
       "    </tr>\n",
       "    <tr>\n",
       "      <th>95#</th>\n",
       "      <td>7353</td>\n",
       "      <td>4336</td>\n",
       "      <td>3072</td>\n",
       "      <td>9805</td>\n",
       "      <td>2967</td>\n",
       "      <td>4359</td>\n",
       "    </tr>\n",
       "    <tr>\n",
       "      <th>93#</th>\n",
       "      <td>3745</td>\n",
       "      <td>2028</td>\n",
       "      <td>5793</td>\n",
       "      <td>6488</td>\n",
       "      <td>6675</td>\n",
       "      <td>2034</td>\n",
       "    </tr>\n",
       "  </tbody>\n",
       "</table>\n",
       "</div>"
      ],
      "text/plain": [
       "      上半年               下半年            \n",
       "       收入    成本    费用    收入    成本    费用\n",
       "92#  4741  5837  1981  1622  3252   566\n",
       "95#  7353  4336  3072  9805  2967  4359\n",
       "93#  3745  2028  5793  6488  6675  2034"
      ]
     },
     "execution_count": 158,
     "metadata": {},
     "output_type": "execute_result"
    }
   ],
   "source": [
    "# 显示构造多层索引(使用乘积构造product)\n",
    "l1 = [\"上半年\", \"下半年\"]\n",
    "l2 = [\"收入\", \"成本\", \"费用\"]\n",
    "columns = pd.MultiIndex.from_product([l1, l2])\n",
    "columns\n",
    "\n",
    "data = np.random.randint(0, 10000, size=(3, 6))\n",
    "index = [\"92#\", \"95#\", \"93#\"]\n",
    "df = pd.DataFrame(data=data, index=index, columns=columns)\n",
    "df"
   ]
  },
  {
   "cell_type": "markdown",
   "id": "01ee454d-61d8-4fa4-86fc-c6b8aa27fefd",
   "metadata": {},
   "source": [
    "#### 行多级"
   ]
  },
  {
   "cell_type": "code",
   "execution_count": 159,
   "id": "44e4c700-8d95-445d-aea9-3e8ccba4d034",
   "metadata": {
    "tags": []
   },
   "outputs": [
    {
     "data": {
      "text/html": [
       "<div>\n",
       "<style scoped>\n",
       "    .dataframe tbody tr th:only-of-type {\n",
       "        vertical-align: middle;\n",
       "    }\n",
       "\n",
       "    .dataframe tbody tr th {\n",
       "        vertical-align: top;\n",
       "    }\n",
       "\n",
       "    .dataframe thead th {\n",
       "        text-align: right;\n",
       "    }\n",
       "</style>\n",
       "<table border=\"1\" class=\"dataframe\">\n",
       "  <thead>\n",
       "    <tr style=\"text-align: right;\">\n",
       "      <th></th>\n",
       "      <th></th>\n",
       "      <th>python</th>\n",
       "      <th>java</th>\n",
       "      <th>c</th>\n",
       "    </tr>\n",
       "  </thead>\n",
       "  <tbody>\n",
       "    <tr>\n",
       "      <th rowspan=\"2\" valign=\"top\">期中</th>\n",
       "      <th>张三</th>\n",
       "      <td>1</td>\n",
       "      <td>83</td>\n",
       "      <td>90</td>\n",
       "    </tr>\n",
       "    <tr>\n",
       "      <th>李四</th>\n",
       "      <td>22</td>\n",
       "      <td>74</td>\n",
       "      <td>93</td>\n",
       "    </tr>\n",
       "    <tr>\n",
       "      <th rowspan=\"2\" valign=\"top\">期末</th>\n",
       "      <th>张三</th>\n",
       "      <td>56</td>\n",
       "      <td>8</td>\n",
       "      <td>0</td>\n",
       "    </tr>\n",
       "    <tr>\n",
       "      <th>李四</th>\n",
       "      <td>87</td>\n",
       "      <td>5</td>\n",
       "      <td>68</td>\n",
       "    </tr>\n",
       "  </tbody>\n",
       "</table>\n",
       "</div>"
      ],
      "text/plain": [
       "       python  java   c\n",
       "期中 张三       1    83  90\n",
       "   李四      22    74  93\n",
       "期末 张三      56     8   0\n",
       "   李四      87     5  68"
      ]
     },
     "execution_count": 159,
     "metadata": {},
     "output_type": "execute_result"
    }
   ],
   "source": [
    "# 行多级\n",
    "columns = [\"python\", \"java\", \"c\"]\n",
    "index = pd.MultiIndex.from_product([[\"期中\", \"期末\"], [\"张三\", \"李四\"]])\n",
    "data = np.random.randint(0, 100, size=(4, 3))\n",
    "df = pd.DataFrame(data=data, index=index, columns=columns)\n",
    "df"
   ]
  },
  {
   "cell_type": "markdown",
   "id": "e7778d02-e709-461d-9bbe-518b640d86bf",
   "metadata": {},
   "source": [
    "#### 多级访问"
   ]
  },
  {
   "cell_type": "code",
   "execution_count": 160,
   "id": "2aa852f4-cdd5-42d0-b5ac-287d55c7f6ac",
   "metadata": {
    "tags": []
   },
   "outputs": [
    {
     "data": {
      "text/html": [
       "<div>\n",
       "<style scoped>\n",
       "    .dataframe tbody tr th:only-of-type {\n",
       "        vertical-align: middle;\n",
       "    }\n",
       "\n",
       "    .dataframe tbody tr th {\n",
       "        vertical-align: top;\n",
       "    }\n",
       "\n",
       "    .dataframe thead th {\n",
       "        text-align: right;\n",
       "    }\n",
       "</style>\n",
       "<table border=\"1\" class=\"dataframe\">\n",
       "  <thead>\n",
       "    <tr style=\"text-align: right;\">\n",
       "      <th></th>\n",
       "      <th>python</th>\n",
       "      <th>java</th>\n",
       "      <th>c</th>\n",
       "    </tr>\n",
       "  </thead>\n",
       "  <tbody>\n",
       "    <tr>\n",
       "      <th>张三</th>\n",
       "      <td>1</td>\n",
       "      <td>83</td>\n",
       "      <td>90</td>\n",
       "    </tr>\n",
       "    <tr>\n",
       "      <th>李四</th>\n",
       "      <td>22</td>\n",
       "      <td>74</td>\n",
       "      <td>93</td>\n",
       "    </tr>\n",
       "  </tbody>\n",
       "</table>\n",
       "</div>"
      ],
      "text/plain": [
       "    python  java   c\n",
       "张三       1    83  90\n",
       "李四      22    74  93"
      ]
     },
     "execution_count": 160,
     "metadata": {},
     "output_type": "execute_result"
    }
   ],
   "source": [
    "df.loc['期中']"
   ]
  },
  {
   "cell_type": "code",
   "execution_count": 161,
   "id": "0409b8b5-410d-4895-b9c9-a851e5fe674c",
   "metadata": {
    "tags": []
   },
   "outputs": [
    {
     "data": {
      "text/plain": [
       "python     1\n",
       "java      83\n",
       "c         90\n",
       "Name: (期中, 张三), dtype: int32"
      ]
     },
     "execution_count": 161,
     "metadata": {},
     "output_type": "execute_result"
    }
   ],
   "source": [
    "# 多层级索引使用元祖来表达索引逻辑\n",
    "df.loc[('期中', '张三')]"
   ]
  },
  {
   "cell_type": "markdown",
   "id": "f83fc999-8909-4798-ade4-61af8e21cab3",
   "metadata": {},
   "source": [
    "#### 多层级索引堆(变形)操作\n",
    "- stack: 列转行\n",
    "- unstack: 行转列"
   ]
  },
  {
   "cell_type": "code",
   "execution_count": 163,
   "id": "69e625ce-e960-4c6b-b37d-f4293dbb20d8",
   "metadata": {
    "tags": []
   },
   "outputs": [
    {
     "data": {
      "text/html": [
       "<div>\n",
       "<style scoped>\n",
       "    .dataframe tbody tr th:only-of-type {\n",
       "        vertical-align: middle;\n",
       "    }\n",
       "\n",
       "    .dataframe tbody tr th {\n",
       "        vertical-align: top;\n",
       "    }\n",
       "\n",
       "    .dataframe thead th {\n",
       "        text-align: right;\n",
       "    }\n",
       "</style>\n",
       "<table border=\"1\" class=\"dataframe\">\n",
       "  <thead>\n",
       "    <tr style=\"text-align: right;\">\n",
       "      <th></th>\n",
       "      <th></th>\n",
       "      <th>python</th>\n",
       "      <th>java</th>\n",
       "      <th>c</th>\n",
       "    </tr>\n",
       "  </thead>\n",
       "  <tbody>\n",
       "    <tr>\n",
       "      <th rowspan=\"2\" valign=\"top\">期中</th>\n",
       "      <th>张三</th>\n",
       "      <td>1</td>\n",
       "      <td>83</td>\n",
       "      <td>90</td>\n",
       "    </tr>\n",
       "    <tr>\n",
       "      <th>李四</th>\n",
       "      <td>22</td>\n",
       "      <td>74</td>\n",
       "      <td>93</td>\n",
       "    </tr>\n",
       "    <tr>\n",
       "      <th rowspan=\"2\" valign=\"top\">期末</th>\n",
       "      <th>张三</th>\n",
       "      <td>56</td>\n",
       "      <td>8</td>\n",
       "      <td>0</td>\n",
       "    </tr>\n",
       "    <tr>\n",
       "      <th>李四</th>\n",
       "      <td>87</td>\n",
       "      <td>5</td>\n",
       "      <td>68</td>\n",
       "    </tr>\n",
       "  </tbody>\n",
       "</table>\n",
       "</div>"
      ],
      "text/plain": [
       "       python  java   c\n",
       "期中 张三       1    83  90\n",
       "   李四      22    74  93\n",
       "期末 张三      56     8   0\n",
       "   李四      87     5  68"
      ]
     },
     "metadata": {},
     "output_type": "display_data"
    },
    {
     "data": {
      "text/html": [
       "<div>\n",
       "<style scoped>\n",
       "    .dataframe tbody tr th:only-of-type {\n",
       "        vertical-align: middle;\n",
       "    }\n",
       "\n",
       "    .dataframe tbody tr th {\n",
       "        vertical-align: top;\n",
       "    }\n",
       "\n",
       "    .dataframe thead tr th {\n",
       "        text-align: left;\n",
       "    }\n",
       "</style>\n",
       "<table border=\"1\" class=\"dataframe\">\n",
       "  <thead>\n",
       "    <tr>\n",
       "      <th></th>\n",
       "      <th colspan=\"2\" halign=\"left\">python</th>\n",
       "      <th colspan=\"2\" halign=\"left\">java</th>\n",
       "      <th colspan=\"2\" halign=\"left\">c</th>\n",
       "    </tr>\n",
       "    <tr>\n",
       "      <th></th>\n",
       "      <th>张三</th>\n",
       "      <th>李四</th>\n",
       "      <th>张三</th>\n",
       "      <th>李四</th>\n",
       "      <th>张三</th>\n",
       "      <th>李四</th>\n",
       "    </tr>\n",
       "  </thead>\n",
       "  <tbody>\n",
       "    <tr>\n",
       "      <th>期中</th>\n",
       "      <td>1</td>\n",
       "      <td>22</td>\n",
       "      <td>83</td>\n",
       "      <td>74</td>\n",
       "      <td>90</td>\n",
       "      <td>93</td>\n",
       "    </tr>\n",
       "    <tr>\n",
       "      <th>期末</th>\n",
       "      <td>56</td>\n",
       "      <td>87</td>\n",
       "      <td>8</td>\n",
       "      <td>5</td>\n",
       "      <td>0</td>\n",
       "      <td>68</td>\n",
       "    </tr>\n",
       "  </tbody>\n",
       "</table>\n",
       "</div>"
      ],
      "text/plain": [
       "   python     java       c    \n",
       "       张三  李四   张三  李四  张三  李四\n",
       "期中      1  22   83  74  90  93\n",
       "期末     56  87    8   5   0  68"
      ]
     },
     "metadata": {},
     "output_type": "display_data"
    }
   ],
   "source": [
    "display(df)\n",
    "\n",
    "display(df.unstack())"
   ]
  },
  {
   "cell_type": "code",
   "execution_count": 164,
   "id": "f5799bde-750d-401d-b1cc-04c03e8b637f",
   "metadata": {
    "tags": []
   },
   "outputs": [
    {
     "data": {
      "text/html": [
       "<div>\n",
       "<style scoped>\n",
       "    .dataframe tbody tr th:only-of-type {\n",
       "        vertical-align: middle;\n",
       "    }\n",
       "\n",
       "    .dataframe tbody tr th {\n",
       "        vertical-align: top;\n",
       "    }\n",
       "\n",
       "    .dataframe thead tr th {\n",
       "        text-align: left;\n",
       "    }\n",
       "</style>\n",
       "<table border=\"1\" class=\"dataframe\">\n",
       "  <thead>\n",
       "    <tr>\n",
       "      <th></th>\n",
       "      <th colspan=\"2\" halign=\"left\">python</th>\n",
       "      <th colspan=\"2\" halign=\"left\">java</th>\n",
       "      <th colspan=\"2\" halign=\"left\">c</th>\n",
       "    </tr>\n",
       "    <tr>\n",
       "      <th></th>\n",
       "      <th>期中</th>\n",
       "      <th>期末</th>\n",
       "      <th>期中</th>\n",
       "      <th>期末</th>\n",
       "      <th>期中</th>\n",
       "      <th>期末</th>\n",
       "    </tr>\n",
       "  </thead>\n",
       "  <tbody>\n",
       "    <tr>\n",
       "      <th>张三</th>\n",
       "      <td>1</td>\n",
       "      <td>56</td>\n",
       "      <td>83</td>\n",
       "      <td>8</td>\n",
       "      <td>90</td>\n",
       "      <td>0</td>\n",
       "    </tr>\n",
       "    <tr>\n",
       "      <th>李四</th>\n",
       "      <td>22</td>\n",
       "      <td>87</td>\n",
       "      <td>74</td>\n",
       "      <td>5</td>\n",
       "      <td>93</td>\n",
       "      <td>68</td>\n",
       "    </tr>\n",
       "  </tbody>\n",
       "</table>\n",
       "</div>"
      ],
      "text/plain": [
       "   python     java      c    \n",
       "       期中  期末   期中 期末  期中  期末\n",
       "张三      1  56   83  8  90   0\n",
       "李四     22  87   74  5  93  68"
      ]
     },
     "execution_count": 164,
     "metadata": {},
     "output_type": "execute_result"
    }
   ],
   "source": [
    "# 从外往里看是0,1,2,3\n",
    "# 从里往外看是-1,-2,-3\n",
    "df1 = df.unstack(level=-2)\n",
    "df1"
   ]
  },
  {
   "cell_type": "code",
   "execution_count": 165,
   "id": "8c0b86e8-17ad-4d81-9541-d021883fd8c9",
   "metadata": {
    "tags": []
   },
   "outputs": [
    {
     "data": {
      "text/html": [
       "<div>\n",
       "<style scoped>\n",
       "    .dataframe tbody tr th:only-of-type {\n",
       "        vertical-align: middle;\n",
       "    }\n",
       "\n",
       "    .dataframe tbody tr th {\n",
       "        vertical-align: top;\n",
       "    }\n",
       "\n",
       "    .dataframe thead th {\n",
       "        text-align: right;\n",
       "    }\n",
       "</style>\n",
       "<table border=\"1\" class=\"dataframe\">\n",
       "  <thead>\n",
       "    <tr style=\"text-align: right;\">\n",
       "      <th></th>\n",
       "      <th></th>\n",
       "      <th>python</th>\n",
       "      <th>java</th>\n",
       "      <th>c</th>\n",
       "    </tr>\n",
       "  </thead>\n",
       "  <tbody>\n",
       "    <tr>\n",
       "      <th rowspan=\"2\" valign=\"top\">张三</th>\n",
       "      <th>期中</th>\n",
       "      <td>1</td>\n",
       "      <td>83</td>\n",
       "      <td>90</td>\n",
       "    </tr>\n",
       "    <tr>\n",
       "      <th>期末</th>\n",
       "      <td>56</td>\n",
       "      <td>8</td>\n",
       "      <td>0</td>\n",
       "    </tr>\n",
       "    <tr>\n",
       "      <th rowspan=\"2\" valign=\"top\">李四</th>\n",
       "      <th>期中</th>\n",
       "      <td>22</td>\n",
       "      <td>74</td>\n",
       "      <td>93</td>\n",
       "    </tr>\n",
       "    <tr>\n",
       "      <th>期末</th>\n",
       "      <td>87</td>\n",
       "      <td>5</td>\n",
       "      <td>68</td>\n",
       "    </tr>\n",
       "  </tbody>\n",
       "</table>\n",
       "</div>"
      ],
      "text/plain": [
       "       python  java   c\n",
       "张三 期中       1    83  90\n",
       "   期末      56     8   0\n",
       "李四 期中      22    74  93\n",
       "   期末      87     5  68"
      ]
     },
     "execution_count": 165,
     "metadata": {},
     "output_type": "execute_result"
    }
   ],
   "source": [
    "df1.stack(level=-1)"
   ]
  },
  {
   "cell_type": "markdown",
   "id": "fd9b9615-4766-472d-82a6-75fb29ad2169",
   "metadata": {},
   "source": [
    "## pd.DataFrame创建"
   ]
  },
  {
   "cell_type": "markdown",
   "id": "6dd99588",
   "metadata": {},
   "source": [
    "### 通过ndarray创建\n",
    "- 通过ndarray创建pd.DataFrame\n",
    "- index指定索引\n",
    "- columns指定列"
   ]
  },
  {
   "cell_type": "code",
   "execution_count": 6,
   "id": "60a84379",
   "metadata": {
    "tags": []
   },
   "outputs": [
    {
     "name": "stdout",
     "output_type": "stream",
     "text": [
      "type(data)=<class 'numpy.ndarray'> data.dtype=dtype('int32')\n"
     ]
    },
    {
     "data": {
      "text/plain": [
       "array([[18, 63, 64, 11, 60],\n",
       "       [81, 64, 69, 18, 38],\n",
       "       [94, 57, 37, 10, 54]])"
      ]
     },
     "metadata": {},
     "output_type": "display_data"
    },
    {
     "data": {
      "text/html": [
       "<div>\n",
       "<style scoped>\n",
       "    .dataframe tbody tr th:only-of-type {\n",
       "        vertical-align: middle;\n",
       "    }\n",
       "\n",
       "    .dataframe tbody tr th {\n",
       "        vertical-align: top;\n",
       "    }\n",
       "\n",
       "    .dataframe thead th {\n",
       "        text-align: right;\n",
       "    }\n",
       "</style>\n",
       "<table border=\"1\" class=\"dataframe\">\n",
       "  <thead>\n",
       "    <tr style=\"text-align: right;\">\n",
       "      <th></th>\n",
       "      <th>A</th>\n",
       "      <th>B</th>\n",
       "      <th>C</th>\n",
       "      <th>D</th>\n",
       "      <th>E</th>\n",
       "    </tr>\n",
       "  </thead>\n",
       "  <tbody>\n",
       "    <tr>\n",
       "      <th>1</th>\n",
       "      <td>18</td>\n",
       "      <td>63</td>\n",
       "      <td>64</td>\n",
       "      <td>11</td>\n",
       "      <td>60</td>\n",
       "    </tr>\n",
       "    <tr>\n",
       "      <th>2</th>\n",
       "      <td>81</td>\n",
       "      <td>64</td>\n",
       "      <td>69</td>\n",
       "      <td>18</td>\n",
       "      <td>38</td>\n",
       "    </tr>\n",
       "    <tr>\n",
       "      <th>3</th>\n",
       "      <td>94</td>\n",
       "      <td>57</td>\n",
       "      <td>37</td>\n",
       "      <td>10</td>\n",
       "      <td>54</td>\n",
       "    </tr>\n",
       "  </tbody>\n",
       "</table>\n",
       "</div>"
      ],
      "text/plain": [
       "    A   B   C   D   E\n",
       "1  18  63  64  11  60\n",
       "2  81  64  69  18  38\n",
       "3  94  57  37  10  54"
      ]
     },
     "execution_count": 6,
     "metadata": {},
     "output_type": "execute_result"
    }
   ],
   "source": [
    "import numpy as np\n",
    "import pandas as pd\n",
    "\n",
    "data=np.random.randint(0,100,size=(3,5))\n",
    "print(f\"{type(data)=} {data.dtype=}\")\n",
    "display(data)\n",
    "\n",
    "df=pd.DataFrame(data=data,index=list('123'),columns=list('ABCDE'))\n",
    "df"
   ]
  },
  {
   "cell_type": "markdown",
   "id": "bf544a11-c17b-450f-8aa5-b746bf175105",
   "metadata": {},
   "source": [
    "### to_excel"
   ]
  },
  {
   "cell_type": "code",
   "execution_count": 8,
   "id": "3fdb0aaf-f587-486f-a841-bb48da50f601",
   "metadata": {
    "tags": []
   },
   "outputs": [
    {
     "data": {
      "text/plain": [
       "(3, 5)"
      ]
     },
     "execution_count": 8,
     "metadata": {},
     "output_type": "execute_result"
    }
   ],
   "source": [
    "df.to_excel('data/pandas/to_excel.xlsx')\n",
    "df.shape"
   ]
  },
  {
   "cell_type": "markdown",
   "id": "136bbc56",
   "metadata": {},
   "source": [
    "### read_excel"
   ]
  },
  {
   "cell_type": "code",
   "execution_count": 14,
   "id": "48bb2f1d-450c-452b-9c74-26bf634e84a6",
   "metadata": {
    "tags": []
   },
   "outputs": [
    {
     "data": {
      "text/html": [
       "<div>\n",
       "<style scoped>\n",
       "    .dataframe tbody tr th:only-of-type {\n",
       "        vertical-align: middle;\n",
       "    }\n",
       "\n",
       "    .dataframe tbody tr th {\n",
       "        vertical-align: top;\n",
       "    }\n",
       "\n",
       "    .dataframe thead th {\n",
       "        text-align: right;\n",
       "    }\n",
       "</style>\n",
       "<table border=\"1\" class=\"dataframe\">\n",
       "  <thead>\n",
       "    <tr style=\"text-align: right;\">\n",
       "      <th></th>\n",
       "      <th>Unnamed: 0</th>\n",
       "      <th>A</th>\n",
       "      <th>B</th>\n",
       "      <th>C</th>\n",
       "      <th>D</th>\n",
       "      <th>E</th>\n",
       "    </tr>\n",
       "  </thead>\n",
       "  <tbody>\n",
       "    <tr>\n",
       "      <th>0</th>\n",
       "      <td>1</td>\n",
       "      <td>18</td>\n",
       "      <td>63</td>\n",
       "      <td>64</td>\n",
       "      <td>11</td>\n",
       "      <td>60</td>\n",
       "    </tr>\n",
       "    <tr>\n",
       "      <th>1</th>\n",
       "      <td>2</td>\n",
       "      <td>81</td>\n",
       "      <td>64</td>\n",
       "      <td>69</td>\n",
       "      <td>18</td>\n",
       "      <td>38</td>\n",
       "    </tr>\n",
       "    <tr>\n",
       "      <th>2</th>\n",
       "      <td>3</td>\n",
       "      <td>94</td>\n",
       "      <td>57</td>\n",
       "      <td>37</td>\n",
       "      <td>10</td>\n",
       "      <td>54</td>\n",
       "    </tr>\n",
       "  </tbody>\n",
       "</table>\n",
       "</div>"
      ],
      "text/plain": [
       "   Unnamed: 0   A   B   C   D   E\n",
       "0           1  18  63  64  11  60\n",
       "1           2  81  64  69  18  38\n",
       "2           3  94  57  37  10  54"
      ]
     },
     "execution_count": 14,
     "metadata": {},
     "output_type": "execute_result"
    }
   ],
   "source": [
    "df = pd.read_excel('data/pandas/to_excel.xlsx')\n",
    "df\n"
   ]
  },
  {
   "cell_type": "markdown",
   "id": "009c037e-5dcc-41f4-9e22-5137c155268e",
   "metadata": {},
   "source": [
    "### to_csv\n",
    "- df.to_string() 不省略显示"
   ]
  },
  {
   "cell_type": "code",
   "execution_count": 51,
   "id": "2aabcf49-8d33-4de8-88bf-86f9320de98c",
   "metadata": {
    "tags": []
   },
   "outputs": [
    {
     "name": "stdout",
     "output_type": "stream",
     "text": [
      "    0   1\n",
      "0  82  82\n",
      "1  44  77\n",
      "2  87  45\n",
      "3   6  68\n",
      "4   3  84\n",
      "5  48  87\n",
      "6  71  72\n",
      "7  58  94\n",
      "8  45  37\n",
      "9  19  27\n"
     ]
    }
   ],
   "source": [
    "import numpy as np\n",
    "import pandas as pd\n",
    "\n",
    "data = np.random.randint(0,100,size=(10,2))\n",
    "df = pd.DataFrame(data)\n",
    "df\n",
    "print(df.to_string())"
   ]
  },
  {
   "cell_type": "markdown",
   "id": "03e99d53-469e-43e4-a09c-8f4c2cd8a56c",
   "metadata": {},
   "source": [
    "### to_sql"
   ]
  },
  {
   "cell_type": "code",
   "execution_count": 55,
   "id": "3fde5775-34f6-4ba2-ab32-4dbbc7cca1b8",
   "metadata": {
    "tags": []
   },
   "outputs": [
    {
     "data": {
      "text/html": [
       "<div>\n",
       "<style scoped>\n",
       "    .dataframe tbody tr th:only-of-type {\n",
       "        vertical-align: middle;\n",
       "    }\n",
       "\n",
       "    .dataframe tbody tr th {\n",
       "        vertical-align: top;\n",
       "    }\n",
       "\n",
       "    .dataframe thead th {\n",
       "        text-align: right;\n",
       "    }\n",
       "</style>\n",
       "<table border=\"1\" class=\"dataframe\">\n",
       "  <thead>\n",
       "    <tr style=\"text-align: right;\">\n",
       "      <th></th>\n",
       "      <th>type</th>\n",
       "      <th>name</th>\n",
       "      <th>tbl_name</th>\n",
       "      <th>rootpage</th>\n",
       "      <th>sql</th>\n",
       "    </tr>\n",
       "  </thead>\n",
       "  <tbody>\n",
       "    <tr>\n",
       "      <th>0</th>\n",
       "      <td>table</td>\n",
       "      <td>test_table</td>\n",
       "      <td>test_table</td>\n",
       "      <td>2</td>\n",
       "      <td>CREATE TABLE \"test_table\" (\\n\"index\" INTEGER,\\...</td>\n",
       "    </tr>\n",
       "    <tr>\n",
       "      <th>1</th>\n",
       "      <td>index</td>\n",
       "      <td>ix_test_table_index</td>\n",
       "      <td>test_table</td>\n",
       "      <td>3</td>\n",
       "      <td>CREATE INDEX \"ix_test_table_index\"ON \"test_tab...</td>\n",
       "    </tr>\n",
       "  </tbody>\n",
       "</table>\n",
       "</div>"
      ],
      "text/plain": [
       "    type                 name    tbl_name  rootpage  \\\n",
       "0  table           test_table  test_table         2   \n",
       "1  index  ix_test_table_index  test_table         3   \n",
       "\n",
       "                                                 sql  \n",
       "0  CREATE TABLE \"test_table\" (\\n\"index\" INTEGER,\\...  \n",
       "1  CREATE INDEX \"ix_test_table_index\"ON \"test_tab...  "
      ]
     },
     "execution_count": 55,
     "metadata": {},
     "output_type": "execute_result"
    }
   ],
   "source": [
    "import sqlite3\n",
    "import pandas as pd\n",
    "\n",
    "conn = sqlite3.connect('data/sqlite3/test.db')\n",
    "\n",
    "data = np.random.randint(0, 100, size=(10, 2))\n",
    "df = pd.DataFrame(data)\n",
    "\n",
    "df.to_sql('test_table', conn, if_exists='replace')\n",
    "\n",
    "df = pd.read_sql('select * from sqlite_master', conn)\n",
    "df"
   ]
  },
  {
   "cell_type": "markdown",
   "id": "ed7ec016-9238-4435-8c90-c05346f5f4af",
   "metadata": {},
   "source": [
    "### read_sql"
   ]
  },
  {
   "cell_type": "code",
   "execution_count": 57,
   "id": "34628743-a0b4-4513-8237-cebfcba806cb",
   "metadata": {
    "tags": []
   },
   "outputs": [
    {
     "data": {
      "text/html": [
       "<div>\n",
       "<style scoped>\n",
       "    .dataframe tbody tr th:only-of-type {\n",
       "        vertical-align: middle;\n",
       "    }\n",
       "\n",
       "    .dataframe tbody tr th {\n",
       "        vertical-align: top;\n",
       "    }\n",
       "\n",
       "    .dataframe thead th {\n",
       "        text-align: right;\n",
       "    }\n",
       "</style>\n",
       "<table border=\"1\" class=\"dataframe\">\n",
       "  <thead>\n",
       "    <tr style=\"text-align: right;\">\n",
       "      <th></th>\n",
       "      <th>index</th>\n",
       "      <th>0</th>\n",
       "      <th>1</th>\n",
       "    </tr>\n",
       "  </thead>\n",
       "  <tbody>\n",
       "    <tr>\n",
       "      <th>0</th>\n",
       "      <td>0</td>\n",
       "      <td>58</td>\n",
       "      <td>82</td>\n",
       "    </tr>\n",
       "    <tr>\n",
       "      <th>1</th>\n",
       "      <td>1</td>\n",
       "      <td>89</td>\n",
       "      <td>41</td>\n",
       "    </tr>\n",
       "    <tr>\n",
       "      <th>2</th>\n",
       "      <td>2</td>\n",
       "      <td>47</td>\n",
       "      <td>28</td>\n",
       "    </tr>\n",
       "    <tr>\n",
       "      <th>3</th>\n",
       "      <td>3</td>\n",
       "      <td>8</td>\n",
       "      <td>71</td>\n",
       "    </tr>\n",
       "    <tr>\n",
       "      <th>4</th>\n",
       "      <td>4</td>\n",
       "      <td>89</td>\n",
       "      <td>40</td>\n",
       "    </tr>\n",
       "    <tr>\n",
       "      <th>5</th>\n",
       "      <td>5</td>\n",
       "      <td>59</td>\n",
       "      <td>28</td>\n",
       "    </tr>\n",
       "    <tr>\n",
       "      <th>6</th>\n",
       "      <td>6</td>\n",
       "      <td>56</td>\n",
       "      <td>9</td>\n",
       "    </tr>\n",
       "    <tr>\n",
       "      <th>7</th>\n",
       "      <td>7</td>\n",
       "      <td>36</td>\n",
       "      <td>47</td>\n",
       "    </tr>\n",
       "    <tr>\n",
       "      <th>8</th>\n",
       "      <td>8</td>\n",
       "      <td>3</td>\n",
       "      <td>86</td>\n",
       "    </tr>\n",
       "    <tr>\n",
       "      <th>9</th>\n",
       "      <td>9</td>\n",
       "      <td>41</td>\n",
       "      <td>77</td>\n",
       "    </tr>\n",
       "  </tbody>\n",
       "</table>\n",
       "</div>"
      ],
      "text/plain": [
       "   index   0   1\n",
       "0      0  58  82\n",
       "1      1  89  41\n",
       "2      2  47  28\n",
       "3      3   8  71\n",
       "4      4  89  40\n",
       "5      5  59  28\n",
       "6      6  56   9\n",
       "7      7  36  47\n",
       "8      8   3  86\n",
       "9      9  41  77"
      ]
     },
     "execution_count": 57,
     "metadata": {},
     "output_type": "execute_result"
    }
   ],
   "source": [
    "df = pd.read_sql('select * from test_table', conn)\n",
    "df"
   ]
  },
  {
   "cell_type": "markdown",
   "id": "8e175875-17d0-4bdb-b83c-49f9e6071970",
   "metadata": {},
   "source": [
    "## 数据查看\n",
    "\n",
    "- df.to_string() 不省略显示\n",
    "- df.head(n) 显示前几行\n",
    "- df.tail(n) 显示后几行\n",
    "- df.info() 显示基本信息,包括列名、数据类型、缺失值等\n",
    "- df.describe() 显示数据的基本统计信息，包括均值、方差、最大值、最小值等\n",
    "    - 只对可运算的列有效\n",
    "- df.shape 显示行数与列数\n",
    "- df.dtypes\n",
    "- df.values"
   ]
  },
  {
   "cell_type": "code",
   "execution_count": 154,
   "id": "1f270f09",
   "metadata": {
    "tags": []
   },
   "outputs": [
    {
     "name": "stdout",
     "output_type": "stream",
     "text": [
      "<class 'pandas.core.frame.DataFrame'>\n",
      "RangeIndex: 10 entries, 0 to 9\n",
      "Data columns (total 2 columns):\n",
      " #   Column  Non-Null Count  Dtype\n",
      "---  ------  --------------  -----\n",
      " 0   c1      10 non-null     int32\n",
      " 1   c2      10 non-null     int32\n",
      "dtypes: int32(2)\n",
      "memory usage: 208.0 bytes\n",
      "df.info()=None\n",
      "df.head(2)=   c1  c2\n",
      "0  65  77\n",
      "1  79  62\n",
      "df.describe()=              c1         c2\n",
      "count  10.000000  10.000000\n",
      "mean   58.700000  62.000000\n",
      "std    31.155702  24.828299\n",
      "min    11.000000   6.000000\n",
      "25%    35.250000  51.500000\n",
      "50%    66.500000  66.000000\n",
      "75%    82.750000  74.750000\n",
      "max    93.000000  98.000000\n",
      "df.shape=(10, 2)\n"
     ]
    }
   ],
   "source": [
    "import numpy as np\n",
    "import pandas as pd\n",
    "\n",
    "df = pd.DataFrame(data=np.random.randint(0, 100, size=(10, 2)), columns=['c1', 'c2'])\n",
    "# display(df)\n",
    "\n",
    "print(f\"{df.info()=}\")\n",
    "print(f\"{df.head(2)=}\")\n",
    "print(f\"{df.describe()=}\")\n",
    "print(f\"{df.shape=}\")"
   ]
  },
  {
   "cell_type": "markdown",
   "id": "69ce8a12-bd21-4569-b910-afd719644a36",
   "metadata": {},
   "source": [
    "### df.dtypes"
   ]
  },
  {
   "cell_type": "code",
   "execution_count": 80,
   "id": "f3350a98-ad85-423d-82fd-76b6c56aa8b6",
   "metadata": {
    "tags": []
   },
   "outputs": [
    {
     "data": {
      "text/plain": [
       "c1    int32\n",
       "c2    int32\n",
       "dtype: object"
      ]
     },
     "execution_count": 80,
     "metadata": {},
     "output_type": "execute_result"
    }
   ],
   "source": [
    "df.dtypes"
   ]
  },
  {
   "cell_type": "markdown",
   "id": "35dd1e3b-c290-4729-8a3e-b5f224b669f2",
   "metadata": {},
   "source": [
    "### df.values"
   ]
  },
  {
   "cell_type": "code",
   "execution_count": 81,
   "id": "5a6757d9-e42d-45ed-8bf5-10a8a5d18a70",
   "metadata": {
    "tags": []
   },
   "outputs": [
    {
     "data": {
      "text/plain": [
       "array([[23, 17],\n",
       "       [82, 79],\n",
       "       [ 3, 57],\n",
       "       [12,  4],\n",
       "       [59, 99],\n",
       "       [33, 18],\n",
       "       [27, 44],\n",
       "       [45, 12],\n",
       "       [52,  4],\n",
       "       [54,  7]])"
      ]
     },
     "execution_count": 81,
     "metadata": {},
     "output_type": "execute_result"
    }
   ],
   "source": [
    "df.values"
   ]
  },
  {
   "cell_type": "markdown",
   "id": "3e92c2b5-0f86-41bf-8099-d89e65260e7a",
   "metadata": {},
   "source": [
    "### df.columns"
   ]
  },
  {
   "cell_type": "code",
   "execution_count": 107,
   "id": "538d8d4f-4599-4c0a-8ed3-0a2541f7fac9",
   "metadata": {
    "tags": []
   },
   "outputs": [
    {
     "data": {
      "text/plain": [
       "Index(['c1', 'c2'], dtype='object')"
      ]
     },
     "execution_count": 107,
     "metadata": {},
     "output_type": "execute_result"
    }
   ],
   "source": [
    "df.columns"
   ]
  },
  {
   "cell_type": "markdown",
   "id": "545438c5-21a3-4f6b-8272-6ce14cf7f10c",
   "metadata": {},
   "source": [
    "### df.items()"
   ]
  },
  {
   "cell_type": "code",
   "execution_count": 111,
   "id": "068449fe-7aff-46ac-aa01-d9796d5e0545",
   "metadata": {
    "tags": []
   },
   "outputs": [
    {
     "name": "stdout",
     "output_type": "stream",
     "text": [
      "----------------\n",
      "c1 0    82\n",
      "1    93\n",
      "2    24\n",
      "3    33\n",
      "4    95\n",
      "5    16\n",
      "6    51\n",
      "7    37\n",
      "8    69\n",
      "9    94\n",
      "Name: c1, dtype: int32\n",
      "----------------\n",
      "c2 0    29\n",
      "1    99\n",
      "2    99\n",
      "3    46\n",
      "4    93\n",
      "5    44\n",
      "6    69\n",
      "7    65\n",
      "8     2\n",
      "9    33\n",
      "Name: c2, dtype: int32\n"
     ]
    }
   ],
   "source": [
    "for col, val in df.items():\n",
    "    print('----------------')\n",
    "    print(col, val)"
   ]
  },
  {
   "cell_type": "markdown",
   "id": "aa8dd325-0f3e-4ec9-895b-73107037eeab",
   "metadata": {},
   "source": [
    "### df.index"
   ]
  },
  {
   "cell_type": "code",
   "execution_count": 155,
   "id": "f430c42a-6e2c-45ff-acd2-510a809f36b8",
   "metadata": {
    "tags": []
   },
   "outputs": [
    {
     "data": {
      "text/plain": [
       "RangeIndex(start=0, stop=10, step=1)"
      ]
     },
     "execution_count": 155,
     "metadata": {},
     "output_type": "execute_result"
    }
   ],
   "source": [
    "df.index"
   ]
  },
  {
   "cell_type": "markdown",
   "id": "e3f17dff-ef0b-42f4-8461-89259c11070f",
   "metadata": {},
   "source": [
    "## 数据清洗\n",
    "- 空值的处理\n",
    "    - df.dropna() 删除包含缺失值的行或列how='all' 'any'\n",
    "    - df.fillna() 空值填充\n",
    "- 值替换\n",
    "    df.replace(old_value, new_value)\n",
    "- 重复值得处理\n",
    "    - df.drop_duplicates()删除重复的行\n",
    "    - df.duplicated() 查看重复的行"
   ]
  },
  {
   "cell_type": "markdown",
   "id": "d3c8a4f6-b833-426b-955c-dec5de55f115",
   "metadata": {},
   "source": [
    "### 空值处理 df.dropna()/df.fillna()"
   ]
  },
  {
   "cell_type": "code",
   "execution_count": 82,
   "id": "68f71ae3-190d-4c52-8ebc-ff6c0f34d5d2",
   "metadata": {
    "tags": []
   },
   "outputs": [
    {
     "data": {
      "text/html": [
       "<div>\n",
       "<style scoped>\n",
       "    .dataframe tbody tr th:only-of-type {\n",
       "        vertical-align: middle;\n",
       "    }\n",
       "\n",
       "    .dataframe tbody tr th {\n",
       "        vertical-align: top;\n",
       "    }\n",
       "\n",
       "    .dataframe thead th {\n",
       "        text-align: right;\n",
       "    }\n",
       "</style>\n",
       "<table border=\"1\" class=\"dataframe\">\n",
       "  <thead>\n",
       "    <tr style=\"text-align: right;\">\n",
       "      <th></th>\n",
       "      <th>name</th>\n",
       "      <th>price</th>\n",
       "      <th>remark</th>\n",
       "    </tr>\n",
       "  </thead>\n",
       "  <tbody>\n",
       "    <tr>\n",
       "      <th>0</th>\n",
       "      <td>numpy</td>\n",
       "      <td>20</td>\n",
       "      <td>NaN</td>\n",
       "    </tr>\n",
       "    <tr>\n",
       "      <th>1</th>\n",
       "      <td>pandas</td>\n",
       "      <td>100</td>\n",
       "      <td>数据分析</td>\n",
       "    </tr>\n",
       "    <tr>\n",
       "      <th>2</th>\n",
       "      <td>matplotlib</td>\n",
       "      <td>30</td>\n",
       "      <td>NaN</td>\n",
       "    </tr>\n",
       "  </tbody>\n",
       "</table>\n",
       "</div>"
      ],
      "text/plain": [
       "         name  price remark\n",
       "0       numpy     20    NaN\n",
       "1      pandas    100   数据分析\n",
       "2  matplotlib     30    NaN"
      ]
     },
     "metadata": {},
     "output_type": "display_data"
    },
    {
     "name": "stdout",
     "output_type": "stream",
     "text": [
      "after df.dropna(how='all')...\n"
     ]
    },
    {
     "data": {
      "text/html": [
       "<div>\n",
       "<style scoped>\n",
       "    .dataframe tbody tr th:only-of-type {\n",
       "        vertical-align: middle;\n",
       "    }\n",
       "\n",
       "    .dataframe tbody tr th {\n",
       "        vertical-align: top;\n",
       "    }\n",
       "\n",
       "    .dataframe thead th {\n",
       "        text-align: right;\n",
       "    }\n",
       "</style>\n",
       "<table border=\"1\" class=\"dataframe\">\n",
       "  <thead>\n",
       "    <tr style=\"text-align: right;\">\n",
       "      <th></th>\n",
       "      <th>name</th>\n",
       "      <th>price</th>\n",
       "      <th>remark</th>\n",
       "    </tr>\n",
       "  </thead>\n",
       "  <tbody>\n",
       "    <tr>\n",
       "      <th>0</th>\n",
       "      <td>numpy</td>\n",
       "      <td>20</td>\n",
       "      <td>NaN</td>\n",
       "    </tr>\n",
       "    <tr>\n",
       "      <th>1</th>\n",
       "      <td>pandas</td>\n",
       "      <td>100</td>\n",
       "      <td>数据分析</td>\n",
       "    </tr>\n",
       "    <tr>\n",
       "      <th>2</th>\n",
       "      <td>matplotlib</td>\n",
       "      <td>30</td>\n",
       "      <td>NaN</td>\n",
       "    </tr>\n",
       "  </tbody>\n",
       "</table>\n",
       "</div>"
      ],
      "text/plain": [
       "         name  price remark\n",
       "0       numpy     20    NaN\n",
       "1      pandas    100   数据分析\n",
       "2  matplotlib     30    NaN"
      ]
     },
     "metadata": {},
     "output_type": "display_data"
    }
   ],
   "source": [
    "import pandas as pd\n",
    "import numpy as np\n",
    "\n",
    "df = pd.DataFrame({\n",
    "    'name': ['numpy', 'pandas', 'matplotlib'],\n",
    "    'price': [20, 100, 30],\n",
    "    'remark': [np.NaN, '数据分析', np.NaN]\n",
    "})\n",
    "display(df)\n",
    "\n",
    "df = df.dropna(how='all')\n",
    "print(\"after df.dropna(how='all')...\")\n",
    "display(df)"
   ]
  },
  {
   "cell_type": "code",
   "execution_count": 17,
   "id": "6c02ed54-e197-4895-95e5-d7091955f5f8",
   "metadata": {
    "tags": []
   },
   "outputs": [
    {
     "data": {
      "text/html": [
       "<div>\n",
       "<style scoped>\n",
       "    .dataframe tbody tr th:only-of-type {\n",
       "        vertical-align: middle;\n",
       "    }\n",
       "\n",
       "    .dataframe tbody tr th {\n",
       "        vertical-align: top;\n",
       "    }\n",
       "\n",
       "    .dataframe thead th {\n",
       "        text-align: right;\n",
       "    }\n",
       "</style>\n",
       "<table border=\"1\" class=\"dataframe\">\n",
       "  <thead>\n",
       "    <tr style=\"text-align: right;\">\n",
       "      <th></th>\n",
       "      <th>name</th>\n",
       "      <th>price</th>\n",
       "      <th>remark</th>\n",
       "    </tr>\n",
       "  </thead>\n",
       "  <tbody>\n",
       "    <tr>\n",
       "      <th>0</th>\n",
       "      <td>numpy</td>\n",
       "      <td>20</td>\n",
       "      <td></td>\n",
       "    </tr>\n",
       "    <tr>\n",
       "      <th>1</th>\n",
       "      <td>pandas</td>\n",
       "      <td>100</td>\n",
       "      <td>数据分析</td>\n",
       "    </tr>\n",
       "    <tr>\n",
       "      <th>2</th>\n",
       "      <td>matplotlib</td>\n",
       "      <td>30</td>\n",
       "      <td></td>\n",
       "    </tr>\n",
       "  </tbody>\n",
       "</table>\n",
       "</div>"
      ],
      "text/plain": [
       "         name  price remark\n",
       "0       numpy     20       \n",
       "1      pandas    100   数据分析\n",
       "2  matplotlib     30       "
      ]
     },
     "execution_count": 17,
     "metadata": {},
     "output_type": "execute_result"
    }
   ],
   "source": [
    "df = df.fillna('')\n",
    "df"
   ]
  },
  {
   "cell_type": "markdown",
   "id": "03ac8ae8-8fdd-4396-8f65-ea11d163ae9a",
   "metadata": {},
   "source": [
    "### 值替换 df.replace()"
   ]
  },
  {
   "cell_type": "code",
   "execution_count": 18,
   "id": "bcd78665-6996-4e7b-82db-4ba606075682",
   "metadata": {
    "tags": []
   },
   "outputs": [
    {
     "data": {
      "text/html": [
       "<div>\n",
       "<style scoped>\n",
       "    .dataframe tbody tr th:only-of-type {\n",
       "        vertical-align: middle;\n",
       "    }\n",
       "\n",
       "    .dataframe tbody tr th {\n",
       "        vertical-align: top;\n",
       "    }\n",
       "\n",
       "    .dataframe thead th {\n",
       "        text-align: right;\n",
       "    }\n",
       "</style>\n",
       "<table border=\"1\" class=\"dataframe\">\n",
       "  <thead>\n",
       "    <tr style=\"text-align: right;\">\n",
       "      <th></th>\n",
       "      <th>name</th>\n",
       "      <th>price</th>\n",
       "      <th>remark</th>\n",
       "    </tr>\n",
       "  </thead>\n",
       "  <tbody>\n",
       "    <tr>\n",
       "      <th>0</th>\n",
       "      <td>numpy</td>\n",
       "      <td>20</td>\n",
       "      <td></td>\n",
       "    </tr>\n",
       "    <tr>\n",
       "      <th>1</th>\n",
       "      <td>pandas</td>\n",
       "      <td>100</td>\n",
       "      <td>数据分析</td>\n",
       "    </tr>\n",
       "    <tr>\n",
       "      <th>2</th>\n",
       "      <td>MATPLOTLIB</td>\n",
       "      <td>30</td>\n",
       "      <td></td>\n",
       "    </tr>\n",
       "  </tbody>\n",
       "</table>\n",
       "</div>"
      ],
      "text/plain": [
       "         name  price remark\n",
       "0       numpy     20       \n",
       "1      pandas    100   数据分析\n",
       "2  MATPLOTLIB     30       "
      ]
     },
     "execution_count": 18,
     "metadata": {},
     "output_type": "execute_result"
    }
   ],
   "source": [
    "df = df.replace('matplotlib', 'MATPLOTLIB')\n",
    "df"
   ]
  },
  {
   "cell_type": "markdown",
   "id": "11df4d43-df7e-4ab5-98d5-23f710e9b697",
   "metadata": {},
   "source": [
    "### 重复值处理 df.duplicated()/df.drop_duplicates()"
   ]
  },
  {
   "cell_type": "code",
   "execution_count": 83,
   "id": "57dfec11-654e-45b1-a83e-0a2ca531f786",
   "metadata": {
    "tags": []
   },
   "outputs": [
    {
     "name": "stdout",
     "output_type": "stream",
     "text": [
      "<class 'pandas.core.series.Series'>\n",
      "0    False\n",
      "1    False\n",
      "2    False\n",
      "dtype: bool\n"
     ]
    },
    {
     "data": {
      "text/html": [
       "<div>\n",
       "<style scoped>\n",
       "    .dataframe tbody tr th:only-of-type {\n",
       "        vertical-align: middle;\n",
       "    }\n",
       "\n",
       "    .dataframe tbody tr th {\n",
       "        vertical-align: top;\n",
       "    }\n",
       "\n",
       "    .dataframe thead th {\n",
       "        text-align: right;\n",
       "    }\n",
       "</style>\n",
       "<table border=\"1\" class=\"dataframe\">\n",
       "  <thead>\n",
       "    <tr style=\"text-align: right;\">\n",
       "      <th></th>\n",
       "      <th>name</th>\n",
       "      <th>price</th>\n",
       "      <th>remark</th>\n",
       "    </tr>\n",
       "  </thead>\n",
       "  <tbody>\n",
       "    <tr>\n",
       "      <th>0</th>\n",
       "      <td>numpy</td>\n",
       "      <td>20</td>\n",
       "      <td>NaN</td>\n",
       "    </tr>\n",
       "    <tr>\n",
       "      <th>1</th>\n",
       "      <td>pandas</td>\n",
       "      <td>100</td>\n",
       "      <td>数据分析</td>\n",
       "    </tr>\n",
       "    <tr>\n",
       "      <th>2</th>\n",
       "      <td>matplotlib</td>\n",
       "      <td>30</td>\n",
       "      <td>NaN</td>\n",
       "    </tr>\n",
       "  </tbody>\n",
       "</table>\n",
       "</div>"
      ],
      "text/plain": [
       "         name  price remark\n",
       "0       numpy     20    NaN\n",
       "1      pandas    100   数据分析\n",
       "2  matplotlib     30    NaN"
      ]
     },
     "execution_count": 83,
     "metadata": {},
     "output_type": "execute_result"
    }
   ],
   "source": [
    "result = df.duplicated()\n",
    "print(type(result))\n",
    "print(result)\n",
    "\n",
    "df = df.drop_duplicates()\n",
    "df"
   ]
  },
  {
   "cell_type": "markdown",
   "id": "8cbea603-e0ef-4e89-8c1b-15ac374a870a",
   "metadata": {},
   "source": [
    "### duplicated()数据查询"
   ]
  },
  {
   "cell_type": "code",
   "execution_count": 125,
   "id": "dabcb6b7-769f-4640-aeb9-339bffa53dbc",
   "metadata": {
    "tags": []
   },
   "outputs": [
    {
     "data": {
      "text/html": [
       "<div>\n",
       "<style scoped>\n",
       "    .dataframe tbody tr th:only-of-type {\n",
       "        vertical-align: middle;\n",
       "    }\n",
       "\n",
       "    .dataframe tbody tr th {\n",
       "        vertical-align: top;\n",
       "    }\n",
       "\n",
       "    .dataframe thead th {\n",
       "        text-align: right;\n",
       "    }\n",
       "</style>\n",
       "<table border=\"1\" class=\"dataframe\">\n",
       "  <thead>\n",
       "    <tr style=\"text-align: right;\">\n",
       "      <th></th>\n",
       "      <th>name</th>\n",
       "      <th>price</th>\n",
       "      <th>remark</th>\n",
       "    </tr>\n",
       "  </thead>\n",
       "  <tbody>\n",
       "    <tr>\n",
       "      <th>0</th>\n",
       "      <td>spark</td>\n",
       "      <td>30</td>\n",
       "      <td>RDD</td>\n",
       "    </tr>\n",
       "    <tr>\n",
       "      <th>1</th>\n",
       "      <td>hadoop</td>\n",
       "      <td>100</td>\n",
       "      <td>HDFS</td>\n",
       "    </tr>\n",
       "    <tr>\n",
       "      <th>2</th>\n",
       "      <td>hive</td>\n",
       "      <td>30</td>\n",
       "      <td>SQL</td>\n",
       "    </tr>\n",
       "  </tbody>\n",
       "</table>\n",
       "</div>"
      ],
      "text/plain": [
       "     name  price remark\n",
       "0   spark     30    RDD\n",
       "1  hadoop    100   HDFS\n",
       "2    hive     30    SQL"
      ]
     },
     "metadata": {},
     "output_type": "display_data"
    },
    {
     "data": {
      "text/html": [
       "<div>\n",
       "<style scoped>\n",
       "    .dataframe tbody tr th:only-of-type {\n",
       "        vertical-align: middle;\n",
       "    }\n",
       "\n",
       "    .dataframe tbody tr th {\n",
       "        vertical-align: top;\n",
       "    }\n",
       "\n",
       "    .dataframe thead th {\n",
       "        text-align: right;\n",
       "    }\n",
       "</style>\n",
       "<table border=\"1\" class=\"dataframe\">\n",
       "  <thead>\n",
       "    <tr style=\"text-align: right;\">\n",
       "      <th></th>\n",
       "      <th>name</th>\n",
       "      <th>price</th>\n",
       "      <th>remark</th>\n",
       "    </tr>\n",
       "  </thead>\n",
       "  <tbody>\n",
       "    <tr>\n",
       "      <th>2</th>\n",
       "      <td>hive</td>\n",
       "      <td>30</td>\n",
       "      <td>SQL</td>\n",
       "    </tr>\n",
       "  </tbody>\n",
       "</table>\n",
       "</div>"
      ],
      "text/plain": [
       "   name  price remark\n",
       "2  hive     30    SQL"
      ]
     },
     "execution_count": 125,
     "metadata": {},
     "output_type": "execute_result"
    }
   ],
   "source": [
    "df = pd.DataFrame({\n",
    "    'name': ['spark', 'hadoop', 'hive'],\n",
    "    'price': [30, 100, 30],\n",
    "    'remark': ['RDD', 'HDFS', 'SQL']\n",
    "})\n",
    "display(df)\n",
    "\n",
    "# 查询price相同的行\n",
    "df.loc[df.duplicated(subset=['price'])]"
   ]
  },
  {
   "cell_type": "markdown",
   "id": "3362eec6-31d6-4201-b030-5078e2348ab7",
   "metadata": {},
   "source": [
    "### 列值转换 df.column_name.map"
   ]
  },
  {
   "cell_type": "code",
   "execution_count": 126,
   "id": "230df608-15be-463e-9574-fc87fa1e606f",
   "metadata": {
    "tags": []
   },
   "outputs": [
    {
     "data": {
      "text/html": [
       "<div>\n",
       "<style scoped>\n",
       "    .dataframe tbody tr th:only-of-type {\n",
       "        vertical-align: middle;\n",
       "    }\n",
       "\n",
       "    .dataframe tbody tr th {\n",
       "        vertical-align: top;\n",
       "    }\n",
       "\n",
       "    .dataframe thead th {\n",
       "        text-align: right;\n",
       "    }\n",
       "</style>\n",
       "<table border=\"1\" class=\"dataframe\">\n",
       "  <thead>\n",
       "    <tr style=\"text-align: right;\">\n",
       "      <th></th>\n",
       "      <th>name</th>\n",
       "      <th>price</th>\n",
       "      <th>remark</th>\n",
       "    </tr>\n",
       "  </thead>\n",
       "  <tbody>\n",
       "    <tr>\n",
       "      <th>0</th>\n",
       "      <td>spark</td>\n",
       "      <td>60</td>\n",
       "      <td>RDD</td>\n",
       "    </tr>\n",
       "    <tr>\n",
       "      <th>1</th>\n",
       "      <td>hadoop</td>\n",
       "      <td>200</td>\n",
       "      <td>HDFS</td>\n",
       "    </tr>\n",
       "    <tr>\n",
       "      <th>2</th>\n",
       "      <td>hive</td>\n",
       "      <td>60</td>\n",
       "      <td>SQL</td>\n",
       "    </tr>\n",
       "  </tbody>\n",
       "</table>\n",
       "</div>"
      ],
      "text/plain": [
       "     name  price remark\n",
       "0   spark     60    RDD\n",
       "1  hadoop    200   HDFS\n",
       "2    hive     60    SQL"
      ]
     },
     "execution_count": 126,
     "metadata": {},
     "output_type": "execute_result"
    }
   ],
   "source": [
    "df.price = df.price.map(lambda x: x * 2)\n",
    "df"
   ]
  },
  {
   "cell_type": "markdown",
   "id": "680cdaf4-85fd-4902-8ffa-bd774c76a2a5",
   "metadata": {},
   "source": [
    "### 列值转换 df.column_name.transform"
   ]
  },
  {
   "cell_type": "code",
   "execution_count": 127,
   "id": "f01618d6-654d-4401-9dff-5a25ddabf127",
   "metadata": {
    "tags": []
   },
   "outputs": [
    {
     "data": {
      "text/html": [
       "<div>\n",
       "<style scoped>\n",
       "    .dataframe tbody tr th:only-of-type {\n",
       "        vertical-align: middle;\n",
       "    }\n",
       "\n",
       "    .dataframe tbody tr th {\n",
       "        vertical-align: top;\n",
       "    }\n",
       "\n",
       "    .dataframe thead th {\n",
       "        text-align: right;\n",
       "    }\n",
       "</style>\n",
       "<table border=\"1\" class=\"dataframe\">\n",
       "  <thead>\n",
       "    <tr style=\"text-align: right;\">\n",
       "      <th></th>\n",
       "      <th>name</th>\n",
       "      <th>price</th>\n",
       "      <th>remark</th>\n",
       "    </tr>\n",
       "  </thead>\n",
       "  <tbody>\n",
       "    <tr>\n",
       "      <th>0</th>\n",
       "      <td>SPARK</td>\n",
       "      <td>60</td>\n",
       "      <td>RDD</td>\n",
       "    </tr>\n",
       "    <tr>\n",
       "      <th>1</th>\n",
       "      <td>HADOOP</td>\n",
       "      <td>200</td>\n",
       "      <td>HDFS</td>\n",
       "    </tr>\n",
       "    <tr>\n",
       "      <th>2</th>\n",
       "      <td>HIVE</td>\n",
       "      <td>60</td>\n",
       "      <td>SQL</td>\n",
       "    </tr>\n",
       "  </tbody>\n",
       "</table>\n",
       "</div>"
      ],
      "text/plain": [
       "     name  price remark\n",
       "0   SPARK     60    RDD\n",
       "1  HADOOP    200   HDFS\n",
       "2    HIVE     60    SQL"
      ]
     },
     "execution_count": 127,
     "metadata": {},
     "output_type": "execute_result"
    }
   ],
   "source": [
    "df.name = df.name.transform(lambda x: x.upper())\n",
    "df"
   ]
  },
  {
   "cell_type": "markdown",
   "id": "54ee7c8a-563c-4ff2-94e5-f73b027acd71",
   "metadata": {},
   "source": [
    "### 重命名 df.rename"
   ]
  },
  {
   "cell_type": "code",
   "execution_count": 151,
   "id": "c9c492f3-b920-48f2-a4a7-5c826ec34b5c",
   "metadata": {
    "tags": []
   },
   "outputs": [
    {
     "data": {
      "text/html": [
       "<div>\n",
       "<style scoped>\n",
       "    .dataframe tbody tr th:only-of-type {\n",
       "        vertical-align: middle;\n",
       "    }\n",
       "\n",
       "    .dataframe tbody tr th {\n",
       "        vertical-align: top;\n",
       "    }\n",
       "\n",
       "    .dataframe thead th {\n",
       "        text-align: right;\n",
       "    }\n",
       "</style>\n",
       "<table border=\"1\" class=\"dataframe\">\n",
       "  <thead>\n",
       "    <tr style=\"text-align: right;\">\n",
       "      <th></th>\n",
       "      <th>name</th>\n",
       "      <th>price</th>\n",
       "      <th>remark</th>\n",
       "    </tr>\n",
       "  </thead>\n",
       "  <tbody>\n",
       "    <tr>\n",
       "      <th>0</th>\n",
       "      <td>spark</td>\n",
       "      <td>30</td>\n",
       "      <td>RDD</td>\n",
       "    </tr>\n",
       "    <tr>\n",
       "      <th>1</th>\n",
       "      <td>hadoop</td>\n",
       "      <td>100</td>\n",
       "      <td>HDFS</td>\n",
       "    </tr>\n",
       "    <tr>\n",
       "      <th>2</th>\n",
       "      <td>hive</td>\n",
       "      <td>30</td>\n",
       "      <td>SQL</td>\n",
       "    </tr>\n",
       "  </tbody>\n",
       "</table>\n",
       "</div>"
      ],
      "text/plain": [
       "     name  price remark\n",
       "0   spark     30    RDD\n",
       "1  hadoop    100   HDFS\n",
       "2    hive     30    SQL"
      ]
     },
     "metadata": {},
     "output_type": "display_data"
    },
    {
     "data": {
      "text/html": [
       "<div>\n",
       "<style scoped>\n",
       "    .dataframe tbody tr th:only-of-type {\n",
       "        vertical-align: middle;\n",
       "    }\n",
       "\n",
       "    .dataframe tbody tr th {\n",
       "        vertical-align: top;\n",
       "    }\n",
       "\n",
       "    .dataframe thead th {\n",
       "        text-align: right;\n",
       "    }\n",
       "</style>\n",
       "<table border=\"1\" class=\"dataframe\">\n",
       "  <thead>\n",
       "    <tr style=\"text-align: right;\">\n",
       "      <th></th>\n",
       "      <th>姓名</th>\n",
       "      <th>价格</th>\n",
       "      <th>remark</th>\n",
       "    </tr>\n",
       "  </thead>\n",
       "  <tbody>\n",
       "    <tr>\n",
       "      <th>0</th>\n",
       "      <td>spark</td>\n",
       "      <td>30</td>\n",
       "      <td>RDD</td>\n",
       "    </tr>\n",
       "    <tr>\n",
       "      <th>1</th>\n",
       "      <td>hadoop</td>\n",
       "      <td>100</td>\n",
       "      <td>HDFS</td>\n",
       "    </tr>\n",
       "    <tr>\n",
       "      <th>2</th>\n",
       "      <td>hive</td>\n",
       "      <td>30</td>\n",
       "      <td>SQL</td>\n",
       "    </tr>\n",
       "  </tbody>\n",
       "</table>\n",
       "</div>"
      ],
      "text/plain": [
       "       姓名   价格 remark\n",
       "0   spark   30    RDD\n",
       "1  hadoop  100   HDFS\n",
       "2    hive   30    SQL"
      ]
     },
     "metadata": {},
     "output_type": "display_data"
    },
    {
     "data": {
      "text/html": [
       "<div>\n",
       "<style scoped>\n",
       "    .dataframe tbody tr th:only-of-type {\n",
       "        vertical-align: middle;\n",
       "    }\n",
       "\n",
       "    .dataframe tbody tr th {\n",
       "        vertical-align: top;\n",
       "    }\n",
       "\n",
       "    .dataframe thead th {\n",
       "        text-align: right;\n",
       "    }\n",
       "</style>\n",
       "<table border=\"1\" class=\"dataframe\">\n",
       "  <thead>\n",
       "    <tr style=\"text-align: right;\">\n",
       "      <th></th>\n",
       "      <th>姓名</th>\n",
       "      <th>价格</th>\n",
       "      <th>remark</th>\n",
       "    </tr>\n",
       "  </thead>\n",
       "  <tbody>\n",
       "    <tr>\n",
       "      <th>first</th>\n",
       "      <td>spark</td>\n",
       "      <td>30</td>\n",
       "      <td>RDD</td>\n",
       "    </tr>\n",
       "    <tr>\n",
       "      <th>1</th>\n",
       "      <td>hadoop</td>\n",
       "      <td>100</td>\n",
       "      <td>HDFS</td>\n",
       "    </tr>\n",
       "    <tr>\n",
       "      <th>2</th>\n",
       "      <td>hive</td>\n",
       "      <td>30</td>\n",
       "      <td>SQL</td>\n",
       "    </tr>\n",
       "  </tbody>\n",
       "</table>\n",
       "</div>"
      ],
      "text/plain": [
       "           姓名   价格 remark\n",
       "first   spark   30    RDD\n",
       "1      hadoop  100   HDFS\n",
       "2        hive   30    SQL"
      ]
     },
     "execution_count": 151,
     "metadata": {},
     "output_type": "execute_result"
    }
   ],
   "source": [
    "# rename函数: 替换索引\n",
    "# mapper 替换所有索引\n",
    "# index 替换行索引\n",
    "# columns 替换列索引\n",
    "# level 指定多维度索引的维度\n",
    "df = pd.DataFrame({\n",
    "    'name': ['spark', 'hadoop', 'hive'],\n",
    "    'price': [30, 100, 30],\n",
    "    'remark': ['RDD', 'HDFS', 'SQL']\n",
    "})\n",
    "display(df)\n",
    "df = df.rename(columns={\"name\": \"姓名\", 'price': '价格'})\n",
    "\n",
    "display(df)\n",
    "df = df.rename(index={0: 'first'})\n",
    "df"
   ]
  },
  {
   "cell_type": "markdown",
   "id": "6250f10b-6b01-4f90-bec6-ec5a46af1151",
   "metadata": {},
   "source": [
    "### 多维rename"
   ]
  },
  {
   "cell_type": "code",
   "execution_count": 152,
   "id": "24f69b6b-903e-4316-a516-73e22ad5c777",
   "metadata": {
    "tags": []
   },
   "outputs": [
    {
     "data": {
      "text/html": [
       "<div>\n",
       "<style scoped>\n",
       "    .dataframe tbody tr th:only-of-type {\n",
       "        vertical-align: middle;\n",
       "    }\n",
       "\n",
       "    .dataframe tbody tr th {\n",
       "        vertical-align: top;\n",
       "    }\n",
       "\n",
       "    .dataframe thead th {\n",
       "        text-align: right;\n",
       "    }\n",
       "</style>\n",
       "<table border=\"1\" class=\"dataframe\">\n",
       "  <thead>\n",
       "    <tr style=\"text-align: right;\">\n",
       "      <th></th>\n",
       "      <th></th>\n",
       "      <th>姓名</th>\n",
       "      <th>价格</th>\n",
       "      <th>remark</th>\n",
       "    </tr>\n",
       "  </thead>\n",
       "  <tbody>\n",
       "    <tr>\n",
       "      <th rowspan=\"3\" valign=\"top\">上半年</th>\n",
       "      <th>first</th>\n",
       "      <td>spark</td>\n",
       "      <td>30</td>\n",
       "      <td>RDD</td>\n",
       "    </tr>\n",
       "    <tr>\n",
       "      <th>1</th>\n",
       "      <td>hadoop</td>\n",
       "      <td>100</td>\n",
       "      <td>HDFS</td>\n",
       "    </tr>\n",
       "    <tr>\n",
       "      <th>2</th>\n",
       "      <td>hive</td>\n",
       "      <td>30</td>\n",
       "      <td>SQL</td>\n",
       "    </tr>\n",
       "    <tr>\n",
       "      <th rowspan=\"3\" valign=\"top\">下半年</th>\n",
       "      <th>first</th>\n",
       "      <td>spark</td>\n",
       "      <td>30</td>\n",
       "      <td>RDD</td>\n",
       "    </tr>\n",
       "    <tr>\n",
       "      <th>1</th>\n",
       "      <td>hadoop</td>\n",
       "      <td>100</td>\n",
       "      <td>HDFS</td>\n",
       "    </tr>\n",
       "    <tr>\n",
       "      <th>2</th>\n",
       "      <td>hive</td>\n",
       "      <td>30</td>\n",
       "      <td>SQL</td>\n",
       "    </tr>\n",
       "  </tbody>\n",
       "</table>\n",
       "</div>"
      ],
      "text/plain": [
       "               姓名   价格 remark\n",
       "上半年 first   spark   30    RDD\n",
       "    1      hadoop  100   HDFS\n",
       "    2        hive   30    SQL\n",
       "下半年 first   spark   30    RDD\n",
       "    1      hadoop  100   HDFS\n",
       "    2        hive   30    SQL"
      ]
     },
     "execution_count": 152,
     "metadata": {},
     "output_type": "execute_result"
    }
   ],
   "source": [
    "df = pd.concat((df, df), axis=0, keys=[\"上半年\", \"下半年\"])\n",
    "df"
   ]
  },
  {
   "cell_type": "code",
   "execution_count": 153,
   "id": "36c14369-bd07-471a-8343-e86921a872a2",
   "metadata": {
    "tags": []
   },
   "outputs": [
    {
     "data": {
      "text/html": [
       "<div>\n",
       "<style scoped>\n",
       "    .dataframe tbody tr th:only-of-type {\n",
       "        vertical-align: middle;\n",
       "    }\n",
       "\n",
       "    .dataframe tbody tr th {\n",
       "        vertical-align: top;\n",
       "    }\n",
       "\n",
       "    .dataframe thead th {\n",
       "        text-align: right;\n",
       "    }\n",
       "</style>\n",
       "<table border=\"1\" class=\"dataframe\">\n",
       "  <thead>\n",
       "    <tr style=\"text-align: right;\">\n",
       "      <th></th>\n",
       "      <th></th>\n",
       "      <th>姓名</th>\n",
       "      <th>价格</th>\n",
       "      <th>remark</th>\n",
       "    </tr>\n",
       "  </thead>\n",
       "  <tbody>\n",
       "    <tr>\n",
       "      <th rowspan=\"3\" valign=\"top\">ONE</th>\n",
       "      <th>first</th>\n",
       "      <td>spark</td>\n",
       "      <td>30</td>\n",
       "      <td>RDD</td>\n",
       "    </tr>\n",
       "    <tr>\n",
       "      <th>1</th>\n",
       "      <td>hadoop</td>\n",
       "      <td>100</td>\n",
       "      <td>HDFS</td>\n",
       "    </tr>\n",
       "    <tr>\n",
       "      <th>2</th>\n",
       "      <td>hive</td>\n",
       "      <td>30</td>\n",
       "      <td>SQL</td>\n",
       "    </tr>\n",
       "    <tr>\n",
       "      <th rowspan=\"3\" valign=\"top\">TWO</th>\n",
       "      <th>first</th>\n",
       "      <td>spark</td>\n",
       "      <td>30</td>\n",
       "      <td>RDD</td>\n",
       "    </tr>\n",
       "    <tr>\n",
       "      <th>1</th>\n",
       "      <td>hadoop</td>\n",
       "      <td>100</td>\n",
       "      <td>HDFS</td>\n",
       "    </tr>\n",
       "    <tr>\n",
       "      <th>2</th>\n",
       "      <td>hive</td>\n",
       "      <td>30</td>\n",
       "      <td>SQL</td>\n",
       "    </tr>\n",
       "  </tbody>\n",
       "</table>\n",
       "</div>"
      ],
      "text/plain": [
       "               姓名   价格 remark\n",
       "ONE first   spark   30    RDD\n",
       "    1      hadoop  100   HDFS\n",
       "    2        hive   30    SQL\n",
       "TWO first   spark   30    RDD\n",
       "    1      hadoop  100   HDFS\n",
       "    2        hive   30    SQL"
      ]
     },
     "execution_count": 153,
     "metadata": {},
     "output_type": "execute_result"
    }
   ],
   "source": [
    "mapper = {\n",
    "    \"上半年\": \"ONE\",\n",
    "    \"下半年\": \"TWO\",\n",
    "    \"first\":  \"第一\"\n",
    "}\n",
    "\n",
    "# level指定替换的级别\n",
    "df = df.rename(mapper=mapper, axis=0, level=-2)\n",
    "df"
   ]
  },
  {
   "cell_type": "markdown",
   "id": "84f1434c-956e-4171-b9ac-9c0382514ec1",
   "metadata": {},
   "source": [
    "### 设置行索引df.set_index"
   ]
  },
  {
   "cell_type": "code",
   "execution_count": 123,
   "id": "5f8d8c51-e0bb-48c3-b576-8134577b3754",
   "metadata": {
    "tags": []
   },
   "outputs": [
    {
     "data": {
      "text/html": [
       "<div>\n",
       "<style scoped>\n",
       "    .dataframe tbody tr th:only-of-type {\n",
       "        vertical-align: middle;\n",
       "    }\n",
       "\n",
       "    .dataframe tbody tr th {\n",
       "        vertical-align: top;\n",
       "    }\n",
       "\n",
       "    .dataframe thead th {\n",
       "        text-align: right;\n",
       "    }\n",
       "</style>\n",
       "<table border=\"1\" class=\"dataframe\">\n",
       "  <thead>\n",
       "    <tr style=\"text-align: right;\">\n",
       "      <th></th>\n",
       "      <th>name</th>\n",
       "      <th>price</th>\n",
       "      <th>remark</th>\n",
       "    </tr>\n",
       "  </thead>\n",
       "  <tbody>\n",
       "    <tr>\n",
       "      <th>0</th>\n",
       "      <td>spark</td>\n",
       "      <td>30</td>\n",
       "      <td>RDD</td>\n",
       "    </tr>\n",
       "    <tr>\n",
       "      <th>1</th>\n",
       "      <td>hadoop</td>\n",
       "      <td>100</td>\n",
       "      <td>HDFS</td>\n",
       "    </tr>\n",
       "    <tr>\n",
       "      <th>2</th>\n",
       "      <td>hive</td>\n",
       "      <td>30</td>\n",
       "      <td>SQL</td>\n",
       "    </tr>\n",
       "  </tbody>\n",
       "</table>\n",
       "</div>"
      ],
      "text/plain": [
       "     name  price remark\n",
       "0   spark     30    RDD\n",
       "1  hadoop    100   HDFS\n",
       "2    hive     30    SQL"
      ]
     },
     "metadata": {},
     "output_type": "display_data"
    },
    {
     "data": {
      "text/html": [
       "<div>\n",
       "<style scoped>\n",
       "    .dataframe tbody tr th:only-of-type {\n",
       "        vertical-align: middle;\n",
       "    }\n",
       "\n",
       "    .dataframe tbody tr th {\n",
       "        vertical-align: top;\n",
       "    }\n",
       "\n",
       "    .dataframe thead th {\n",
       "        text-align: right;\n",
       "    }\n",
       "</style>\n",
       "<table border=\"1\" class=\"dataframe\">\n",
       "  <thead>\n",
       "    <tr style=\"text-align: right;\">\n",
       "      <th></th>\n",
       "      <th>price</th>\n",
       "      <th>remark</th>\n",
       "    </tr>\n",
       "    <tr>\n",
       "      <th>name</th>\n",
       "      <th></th>\n",
       "      <th></th>\n",
       "    </tr>\n",
       "  </thead>\n",
       "  <tbody>\n",
       "    <tr>\n",
       "      <th>spark</th>\n",
       "      <td>30</td>\n",
       "      <td>RDD</td>\n",
       "    </tr>\n",
       "    <tr>\n",
       "      <th>hadoop</th>\n",
       "      <td>100</td>\n",
       "      <td>HDFS</td>\n",
       "    </tr>\n",
       "    <tr>\n",
       "      <th>hive</th>\n",
       "      <td>30</td>\n",
       "      <td>SQL</td>\n",
       "    </tr>\n",
       "  </tbody>\n",
       "</table>\n",
       "</div>"
      ],
      "text/plain": [
       "        price remark\n",
       "name                \n",
       "spark      30    RDD\n",
       "hadoop    100   HDFS\n",
       "hive       30    SQL"
      ]
     },
     "execution_count": 123,
     "metadata": {},
     "output_type": "execute_result"
    }
   ],
   "source": [
    "df = pd.DataFrame({\n",
    "    'name': ['spark', 'hadoop', 'hive'],\n",
    "    'price': [30, 100, 30],\n",
    "    'remark': ['RDD', 'HDFS', 'SQL']\n",
    "})\n",
    "display(df)\n",
    "df=df.set_index('name')\n",
    "df"
   ]
  },
  {
   "cell_type": "markdown",
   "id": "8782f7a4-d3da-41f3-81ce-122bd331ee2b",
   "metadata": {
    "tags": []
   },
   "source": [
    "## 数据选择与切片\n",
    "- df[column_name]\t选择指定的列\n",
    "- df.loc[row_index, column_name]\t通过标签选择数据\n",
    "- df.iloc[row_index, column_index]\t通过位置选择数据\n",
    "- df.ix[row_index, column_name]\t通过标签或位置选择数据\n",
    "- df.filter(items=[column_name1, column_name2])\t选择指定的列\n",
    "- df.filter(regex='regex')\t选择列名匹配正则表达式的列\n",
    "- df.sample(n)\t随机选择 n 行数据"
   ]
  },
  {
   "cell_type": "code",
   "execution_count": 23,
   "id": "3bbe6238-2dae-4e29-8c02-2a006954cec8",
   "metadata": {
    "tags": []
   },
   "outputs": [
    {
     "data": {
      "text/html": [
       "<div>\n",
       "<style scoped>\n",
       "    .dataframe tbody tr th:only-of-type {\n",
       "        vertical-align: middle;\n",
       "    }\n",
       "\n",
       "    .dataframe tbody tr th {\n",
       "        vertical-align: top;\n",
       "    }\n",
       "\n",
       "    .dataframe thead th {\n",
       "        text-align: right;\n",
       "    }\n",
       "</style>\n",
       "<table border=\"1\" class=\"dataframe\">\n",
       "  <thead>\n",
       "    <tr style=\"text-align: right;\">\n",
       "      <th></th>\n",
       "      <th>name</th>\n",
       "      <th>price</th>\n",
       "      <th>remark</th>\n",
       "    </tr>\n",
       "  </thead>\n",
       "  <tbody>\n",
       "    <tr>\n",
       "      <th>0</th>\n",
       "      <td>numpy</td>\n",
       "      <td>20</td>\n",
       "      <td>NaN</td>\n",
       "    </tr>\n",
       "    <tr>\n",
       "      <th>1</th>\n",
       "      <td>pandas</td>\n",
       "      <td>100</td>\n",
       "      <td>数据分析</td>\n",
       "    </tr>\n",
       "    <tr>\n",
       "      <th>2</th>\n",
       "      <td>matplotlib</td>\n",
       "      <td>30</td>\n",
       "      <td>NaN</td>\n",
       "    </tr>\n",
       "  </tbody>\n",
       "</table>\n",
       "</div>"
      ],
      "text/plain": [
       "         name  price remark\n",
       "0       numpy     20    NaN\n",
       "1      pandas    100   数据分析\n",
       "2  matplotlib     30    NaN"
      ]
     },
     "metadata": {},
     "output_type": "display_data"
    }
   ],
   "source": [
    "import pandas as pd\n",
    "import numpy as np\n",
    "\n",
    "df = pd.DataFrame({\n",
    "    'name': ['numpy', 'pandas', 'matplotlib'],\n",
    "    'price': [20, 100, 30],\n",
    "    'remark': [np.NaN, '数据分析', np.NaN]\n",
    "})\n",
    "display(df)"
   ]
  },
  {
   "cell_type": "markdown",
   "id": "424d403d-575c-4d12-8b60-0af26c800505",
   "metadata": {},
   "source": [
    "### 通过列名选择\n",
    "- df[column_name] vs df.column_name"
   ]
  },
  {
   "cell_type": "code",
   "execution_count": 32,
   "id": "e824c0df-c0cd-4e13-acb6-1857636c3260",
   "metadata": {
    "tags": []
   },
   "outputs": [
    {
     "name": "stdout",
     "output_type": "stream",
     "text": [
      "type(df['name'])=<class 'pandas.core.series.Series'>\n",
      "0         numpy\n",
      "1        pandas\n",
      "2    matplotlib\n",
      "Name: name, dtype: object\n",
      "type(df.name)=<class 'pandas.core.series.Series'>\n",
      "0         numpy\n",
      "1        pandas\n",
      "2    matplotlib\n",
      "Name: name, dtype: object\n"
     ]
    }
   ],
   "source": [
    "print(f\"{type(df['name'])=}\\n{df['name']}\")\n",
    "\n",
    "print(f\"{type(df.name)=}\\n{df.name}\")"
   ]
  },
  {
   "cell_type": "markdown",
   "id": "23d9d821-6eec-4714-9759-b8eb788d7978",
   "metadata": {},
   "source": [
    "### 通过标签行访问"
   ]
  },
  {
   "cell_type": "code",
   "execution_count": 59,
   "id": "edd8c5e9-fafa-4758-b5d0-4ba2d6e581f1",
   "metadata": {
    "tags": []
   },
   "outputs": [
    {
     "data": {
      "text/html": [
       "<div>\n",
       "<style scoped>\n",
       "    .dataframe tbody tr th:only-of-type {\n",
       "        vertical-align: middle;\n",
       "    }\n",
       "\n",
       "    .dataframe tbody tr th {\n",
       "        vertical-align: top;\n",
       "    }\n",
       "\n",
       "    .dataframe thead th {\n",
       "        text-align: right;\n",
       "    }\n",
       "</style>\n",
       "<table border=\"1\" class=\"dataframe\">\n",
       "  <thead>\n",
       "    <tr style=\"text-align: right;\">\n",
       "      <th></th>\n",
       "      <th>name</th>\n",
       "      <th>price</th>\n",
       "      <th>remark</th>\n",
       "    </tr>\n",
       "  </thead>\n",
       "  <tbody>\n",
       "    <tr>\n",
       "      <th>label1</th>\n",
       "      <td>numpy</td>\n",
       "      <td>20</td>\n",
       "      <td>NaN</td>\n",
       "    </tr>\n",
       "    <tr>\n",
       "      <th>label2</th>\n",
       "      <td>pandas</td>\n",
       "      <td>100</td>\n",
       "      <td>数据分析</td>\n",
       "    </tr>\n",
       "    <tr>\n",
       "      <th>label3</th>\n",
       "      <td>matplotlib</td>\n",
       "      <td>30</td>\n",
       "      <td>NaN</td>\n",
       "    </tr>\n",
       "  </tbody>\n",
       "</table>\n",
       "</div>"
      ],
      "text/plain": [
       "              name  price remark\n",
       "label1       numpy     20    NaN\n",
       "label2      pandas    100   数据分析\n",
       "label3  matplotlib     30    NaN"
      ]
     },
     "metadata": {},
     "output_type": "display_data"
    },
    {
     "name": "stdout",
     "output_type": "stream",
     "text": [
      "<class 'pandas.core.series.Series'> name      numpy\n",
      "price        20\n",
      "remark      NaN\n",
      "Name: label1, dtype: object\n",
      "              name  price remark\n",
      "label1       numpy     20    NaN\n",
      "label3  matplotlib     30    NaN\n",
      "              name  price remark\n",
      "label2      pandas    100   数据分析\n",
      "label3  matplotlib     30    NaN\n"
     ]
    }
   ],
   "source": [
    "import pandas as pd\n",
    "import numpy as np\n",
    "\n",
    "df = pd.DataFrame(data={\n",
    "    'name': ['numpy', 'pandas', 'matplotlib'],\n",
    "    'price': [20, 100, 30],\n",
    "    'remark': [np.NaN, '数据分析', np.NaN]\n",
    "}, index=['label1', 'label2', 'label3'])\n",
    "display(df)\n",
    "\n",
    "print(type(df.loc['label1']), df.loc['label1'])\n",
    "\n",
    "print(df.loc[['label1', 'label3']])\n",
    "\n",
    "print(df.loc['label2':'label3'])"
   ]
  },
  {
   "cell_type": "markdown",
   "id": "bc9f6f41-d063-47bd-83c4-7d219ab35384",
   "metadata": {},
   "source": [
    "### 通过位置行访问"
   ]
  },
  {
   "cell_type": "code",
   "execution_count": 60,
   "id": "80984860-339b-4577-9bdf-39087db1b6d8",
   "metadata": {
    "tags": []
   },
   "outputs": [
    {
     "data": {
      "text/plain": [
       "name      numpy\n",
       "price        20\n",
       "remark      NaN\n",
       "Name: label1, dtype: object"
      ]
     },
     "execution_count": 60,
     "metadata": {},
     "output_type": "execute_result"
    }
   ],
   "source": [
    "df.iloc[0]"
   ]
  },
  {
   "cell_type": "code",
   "execution_count": 61,
   "id": "15e928ec-e65e-4a05-9494-e8bec7520728",
   "metadata": {
    "tags": []
   },
   "outputs": [
    {
     "data": {
      "text/html": [
       "<div>\n",
       "<style scoped>\n",
       "    .dataframe tbody tr th:only-of-type {\n",
       "        vertical-align: middle;\n",
       "    }\n",
       "\n",
       "    .dataframe tbody tr th {\n",
       "        vertical-align: top;\n",
       "    }\n",
       "\n",
       "    .dataframe thead th {\n",
       "        text-align: right;\n",
       "    }\n",
       "</style>\n",
       "<table border=\"1\" class=\"dataframe\">\n",
       "  <thead>\n",
       "    <tr style=\"text-align: right;\">\n",
       "      <th></th>\n",
       "      <th>name</th>\n",
       "      <th>price</th>\n",
       "      <th>remark</th>\n",
       "    </tr>\n",
       "  </thead>\n",
       "  <tbody>\n",
       "    <tr>\n",
       "      <th>label1</th>\n",
       "      <td>numpy</td>\n",
       "      <td>20</td>\n",
       "      <td>NaN</td>\n",
       "    </tr>\n",
       "    <tr>\n",
       "      <th>label2</th>\n",
       "      <td>pandas</td>\n",
       "      <td>100</td>\n",
       "      <td>数据分析</td>\n",
       "    </tr>\n",
       "  </tbody>\n",
       "</table>\n",
       "</div>"
      ],
      "text/plain": [
       "          name  price remark\n",
       "label1   numpy     20    NaN\n",
       "label2  pandas    100   数据分析"
      ]
     },
     "execution_count": 61,
     "metadata": {},
     "output_type": "execute_result"
    }
   ],
   "source": [
    "df.iloc[[0, 1]]"
   ]
  },
  {
   "cell_type": "code",
   "execution_count": 70,
   "id": "9ad7fad7-95d9-4eb8-9998-115c934f3d0f",
   "metadata": {
    "tags": []
   },
   "outputs": [
    {
     "data": {
      "text/html": [
       "<div>\n",
       "<style scoped>\n",
       "    .dataframe tbody tr th:only-of-type {\n",
       "        vertical-align: middle;\n",
       "    }\n",
       "\n",
       "    .dataframe tbody tr th {\n",
       "        vertical-align: top;\n",
       "    }\n",
       "\n",
       "    .dataframe thead th {\n",
       "        text-align: right;\n",
       "    }\n",
       "</style>\n",
       "<table border=\"1\" class=\"dataframe\">\n",
       "  <thead>\n",
       "    <tr style=\"text-align: right;\">\n",
       "      <th></th>\n",
       "      <th>name</th>\n",
       "      <th>price</th>\n",
       "      <th>remark</th>\n",
       "    </tr>\n",
       "  </thead>\n",
       "  <tbody>\n",
       "    <tr>\n",
       "      <th>label1</th>\n",
       "      <td>numpy</td>\n",
       "      <td>20</td>\n",
       "      <td>NaN</td>\n",
       "    </tr>\n",
       "  </tbody>\n",
       "</table>\n",
       "</div>"
      ],
      "text/plain": [
       "         name  price remark\n",
       "label1  numpy     20    NaN"
      ]
     },
     "execution_count": 70,
     "metadata": {},
     "output_type": "execute_result"
    }
   ],
   "source": [
    "df.iloc[0:1]"
   ]
  },
  {
   "cell_type": "markdown",
   "id": "fe73fd6e-598c-4bc6-9c45-701009b20b96",
   "metadata": {},
   "source": [
    "### 元素访问"
   ]
  },
  {
   "cell_type": "code",
   "execution_count": 48,
   "id": "b235437f-9bb1-40ab-acdf-93a7f6837b5e",
   "metadata": {
    "tags": []
   },
   "outputs": [
    {
     "name": "stdout",
     "output_type": "stream",
     "text": [
      "<class 'str'>\n"
     ]
    },
    {
     "data": {
      "text/plain": [
       "'numpy'"
      ]
     },
     "execution_count": 48,
     "metadata": {},
     "output_type": "execute_result"
    }
   ],
   "source": [
    "print(type(df.loc['label1', 'name']))\n",
    "df.loc['label1', 'name']"
   ]
  },
  {
   "cell_type": "code",
   "execution_count": 73,
   "id": "f3eee3ab-b2a3-4d35-b67e-2fde836f357b",
   "metadata": {
    "tags": []
   },
   "outputs": [
    {
     "data": {
      "text/plain": [
       "'numpy'"
      ]
     },
     "execution_count": 73,
     "metadata": {},
     "output_type": "execute_result"
    }
   ],
   "source": [
    "df.loc['label1'].loc['name']"
   ]
  },
  {
   "cell_type": "code",
   "execution_count": 74,
   "id": "43dad524-fd7b-4a59-a69d-63a640290d68",
   "metadata": {
    "tags": []
   },
   "outputs": [
    {
     "data": {
      "text/plain": [
       "20"
      ]
     },
     "execution_count": 74,
     "metadata": {},
     "output_type": "execute_result"
    }
   ],
   "source": [
    "df.iloc[0, 1]"
   ]
  },
  {
   "cell_type": "markdown",
   "id": "64226e13-b921-4669-9401-4786c25b16aa",
   "metadata": {},
   "source": [
    "### 标签切片"
   ]
  },
  {
   "cell_type": "code",
   "execution_count": 75,
   "id": "be6d1dfd",
   "metadata": {
    "tags": []
   },
   "outputs": [
    {
     "data": {
      "text/html": [
       "<div>\n",
       "<style scoped>\n",
       "    .dataframe tbody tr th:only-of-type {\n",
       "        vertical-align: middle;\n",
       "    }\n",
       "\n",
       "    .dataframe tbody tr th {\n",
       "        vertical-align: top;\n",
       "    }\n",
       "\n",
       "    .dataframe thead th {\n",
       "        text-align: right;\n",
       "    }\n",
       "</style>\n",
       "<table border=\"1\" class=\"dataframe\">\n",
       "  <thead>\n",
       "    <tr style=\"text-align: right;\">\n",
       "      <th></th>\n",
       "      <th>name</th>\n",
       "      <th>price</th>\n",
       "      <th>remark</th>\n",
       "    </tr>\n",
       "  </thead>\n",
       "  <tbody>\n",
       "    <tr>\n",
       "      <th>label2</th>\n",
       "      <td>pandas</td>\n",
       "      <td>100</td>\n",
       "      <td>数据分析</td>\n",
       "    </tr>\n",
       "    <tr>\n",
       "      <th>label3</th>\n",
       "      <td>matplotlib</td>\n",
       "      <td>30</td>\n",
       "      <td>NaN</td>\n",
       "    </tr>\n",
       "  </tbody>\n",
       "</table>\n",
       "</div>"
      ],
      "text/plain": [
       "              name  price remark\n",
       "label2      pandas    100   数据分析\n",
       "label3  matplotlib     30    NaN"
      ]
     },
     "execution_count": 75,
     "metadata": {},
     "output_type": "execute_result"
    }
   ],
   "source": [
    "df['label2':'label3']"
   ]
  },
  {
   "cell_type": "markdown",
   "id": "3d9dcfa0-1f9e-493b-b18c-4f4c04e00f8e",
   "metadata": {},
   "source": [
    "### 列切片"
   ]
  },
  {
   "cell_type": "code",
   "execution_count": 77,
   "id": "bdae825e-2a7a-4a60-9dc7-43e52e6ed02a",
   "metadata": {
    "tags": []
   },
   "outputs": [
    {
     "data": {
      "text/html": [
       "<div>\n",
       "<style scoped>\n",
       "    .dataframe tbody tr th:only-of-type {\n",
       "        vertical-align: middle;\n",
       "    }\n",
       "\n",
       "    .dataframe tbody tr th {\n",
       "        vertical-align: top;\n",
       "    }\n",
       "\n",
       "    .dataframe thead th {\n",
       "        text-align: right;\n",
       "    }\n",
       "</style>\n",
       "<table border=\"1\" class=\"dataframe\">\n",
       "  <thead>\n",
       "    <tr style=\"text-align: right;\">\n",
       "      <th></th>\n",
       "      <th>name</th>\n",
       "      <th>price</th>\n",
       "    </tr>\n",
       "  </thead>\n",
       "  <tbody>\n",
       "    <tr>\n",
       "      <th>label1</th>\n",
       "      <td>numpy</td>\n",
       "      <td>20</td>\n",
       "    </tr>\n",
       "    <tr>\n",
       "      <th>label2</th>\n",
       "      <td>pandas</td>\n",
       "      <td>100</td>\n",
       "    </tr>\n",
       "    <tr>\n",
       "      <th>label3</th>\n",
       "      <td>matplotlib</td>\n",
       "      <td>30</td>\n",
       "    </tr>\n",
       "  </tbody>\n",
       "</table>\n",
       "</div>"
      ],
      "text/plain": [
       "              name  price\n",
       "label1       numpy     20\n",
       "label2      pandas    100\n",
       "label3  matplotlib     30"
      ]
     },
     "execution_count": 77,
     "metadata": {},
     "output_type": "execute_result"
    }
   ],
   "source": [
    "df.loc[:, 'name':'price']"
   ]
  },
  {
   "cell_type": "markdown",
   "id": "fb1587fc-e9ae-4215-8610-60f568815126",
   "metadata": {},
   "source": [
    "### 行列切片"
   ]
  },
  {
   "cell_type": "code",
   "execution_count": 78,
   "id": "5d1b8478-a79c-4cd8-b136-a9423c3250bb",
   "metadata": {
    "tags": []
   },
   "outputs": [
    {
     "data": {
      "text/html": [
       "<div>\n",
       "<style scoped>\n",
       "    .dataframe tbody tr th:only-of-type {\n",
       "        vertical-align: middle;\n",
       "    }\n",
       "\n",
       "    .dataframe tbody tr th {\n",
       "        vertical-align: top;\n",
       "    }\n",
       "\n",
       "    .dataframe thead th {\n",
       "        text-align: right;\n",
       "    }\n",
       "</style>\n",
       "<table border=\"1\" class=\"dataframe\">\n",
       "  <thead>\n",
       "    <tr style=\"text-align: right;\">\n",
       "      <th></th>\n",
       "      <th>name</th>\n",
       "      <th>price</th>\n",
       "    </tr>\n",
       "  </thead>\n",
       "  <tbody>\n",
       "    <tr>\n",
       "      <th>label2</th>\n",
       "      <td>pandas</td>\n",
       "      <td>100</td>\n",
       "    </tr>\n",
       "    <tr>\n",
       "      <th>label3</th>\n",
       "      <td>matplotlib</td>\n",
       "      <td>30</td>\n",
       "    </tr>\n",
       "  </tbody>\n",
       "</table>\n",
       "</div>"
      ],
      "text/plain": [
       "              name  price\n",
       "label2      pandas    100\n",
       "label3  matplotlib     30"
      ]
     },
     "execution_count": 78,
     "metadata": {},
     "output_type": "execute_result"
    }
   ],
   "source": [
    "df.loc['label2':'label3', 'name':'price']"
   ]
  },
  {
   "cell_type": "markdown",
   "id": "05c9f982-7373-4ffa-ab4e-0e0e1fc9896f",
   "metadata": {
    "tags": []
   },
   "source": [
    "## 数据合并\n",
    "- pd.concat([df1, df2])\t将多个数据框按照行或列进行合并\n",
    "- pd.merge(df1, df2, on=column_name)\t按照指定列将两个数据框进行合并"
   ]
  },
  {
   "cell_type": "markdown",
   "id": "22570cf8-c302-448f-9aa3-d0a786599072",
   "metadata": {
    "tags": []
   },
   "source": [
    "### pd.concat()按列合并"
   ]
  },
  {
   "cell_type": "code",
   "execution_count": 140,
   "id": "c1d9bebf",
   "metadata": {
    "tags": []
   },
   "outputs": [
    {
     "data": {
      "text/html": [
       "<div>\n",
       "<style scoped>\n",
       "    .dataframe tbody tr th:only-of-type {\n",
       "        vertical-align: middle;\n",
       "    }\n",
       "\n",
       "    .dataframe tbody tr th {\n",
       "        vertical-align: top;\n",
       "    }\n",
       "\n",
       "    .dataframe thead tr th {\n",
       "        text-align: left;\n",
       "    }\n",
       "</style>\n",
       "<table border=\"1\" class=\"dataframe\">\n",
       "  <thead>\n",
       "    <tr>\n",
       "      <th></th>\n",
       "      <th colspan=\"3\" halign=\"left\">上学期</th>\n",
       "      <th colspan=\"3\" halign=\"left\">下学期</th>\n",
       "    </tr>\n",
       "    <tr>\n",
       "      <th></th>\n",
       "      <th>name</th>\n",
       "      <th>price</th>\n",
       "      <th>remark</th>\n",
       "      <th>name</th>\n",
       "      <th>price</th>\n",
       "      <th>remark</th>\n",
       "    </tr>\n",
       "  </thead>\n",
       "  <tbody>\n",
       "    <tr>\n",
       "      <th>label1</th>\n",
       "      <td>numpy</td>\n",
       "      <td>20</td>\n",
       "      <td>NaN</td>\n",
       "      <td>numpy</td>\n",
       "      <td>20</td>\n",
       "      <td>NaN</td>\n",
       "    </tr>\n",
       "    <tr>\n",
       "      <th>label2</th>\n",
       "      <td>pandas</td>\n",
       "      <td>100</td>\n",
       "      <td>数据分析</td>\n",
       "      <td>pandas</td>\n",
       "      <td>100</td>\n",
       "      <td>数据分析</td>\n",
       "    </tr>\n",
       "    <tr>\n",
       "      <th>label3</th>\n",
       "      <td>matplotlib</td>\n",
       "      <td>30</td>\n",
       "      <td>NaN</td>\n",
       "      <td>matplotlib</td>\n",
       "      <td>30</td>\n",
       "      <td>NaN</td>\n",
       "    </tr>\n",
       "  </tbody>\n",
       "</table>\n",
       "</div>"
      ],
      "text/plain": [
       "               上学期                      下学期             \n",
       "              name price remark        name price remark\n",
       "label1       numpy    20    NaN       numpy    20    NaN\n",
       "label2      pandas   100   数据分析      pandas   100   数据分析\n",
       "label3  matplotlib    30    NaN  matplotlib    30    NaN"
      ]
     },
     "execution_count": 140,
     "metadata": {},
     "output_type": "execute_result"
    }
   ],
   "source": [
    "df = pd.DataFrame(data={\n",
    "    'name': ['numpy', 'pandas', 'matplotlib'],\n",
    "    'price': [20, 100, 30],\n",
    "    'remark': [np.NaN, '数据分析', np.NaN]\n",
    "}, index=['label1', 'label2', 'label3'])\n",
    "\n",
    "df = pd.concat((df, df), axis=1\n",
    "               , keys=[\"上学期\", \"下学期\"]\n",
    "              )\n",
    "df"
   ]
  },
  {
   "cell_type": "markdown",
   "id": "752565e2-f06f-44d3-8b95-c54259e9f425",
   "metadata": {},
   "source": [
    "### pd.concat()按行合并"
   ]
  },
  {
   "cell_type": "code",
   "execution_count": 141,
   "id": "bfea94ed-d4c3-406b-8c0b-8f9a029abfcb",
   "metadata": {
    "tags": []
   },
   "outputs": [
    {
     "data": {
      "text/html": [
       "<div>\n",
       "<style scoped>\n",
       "    .dataframe tbody tr th:only-of-type {\n",
       "        vertical-align: middle;\n",
       "    }\n",
       "\n",
       "    .dataframe tbody tr th {\n",
       "        vertical-align: top;\n",
       "    }\n",
       "\n",
       "    .dataframe thead th {\n",
       "        text-align: right;\n",
       "    }\n",
       "</style>\n",
       "<table border=\"1\" class=\"dataframe\">\n",
       "  <thead>\n",
       "    <tr style=\"text-align: right;\">\n",
       "      <th></th>\n",
       "      <th></th>\n",
       "      <th>name</th>\n",
       "      <th>price</th>\n",
       "      <th>remark</th>\n",
       "    </tr>\n",
       "  </thead>\n",
       "  <tbody>\n",
       "    <tr>\n",
       "      <th rowspan=\"3\" valign=\"top\">上学期</th>\n",
       "      <th>label1</th>\n",
       "      <td>numpy</td>\n",
       "      <td>20</td>\n",
       "      <td>NaN</td>\n",
       "    </tr>\n",
       "    <tr>\n",
       "      <th>label2</th>\n",
       "      <td>pandas</td>\n",
       "      <td>100</td>\n",
       "      <td>数据分析</td>\n",
       "    </tr>\n",
       "    <tr>\n",
       "      <th>label3</th>\n",
       "      <td>matplotlib</td>\n",
       "      <td>30</td>\n",
       "      <td>NaN</td>\n",
       "    </tr>\n",
       "    <tr>\n",
       "      <th rowspan=\"3\" valign=\"top\">下学期</th>\n",
       "      <th>label1</th>\n",
       "      <td>numpy</td>\n",
       "      <td>20</td>\n",
       "      <td>NaN</td>\n",
       "    </tr>\n",
       "    <tr>\n",
       "      <th>label2</th>\n",
       "      <td>pandas</td>\n",
       "      <td>100</td>\n",
       "      <td>数据分析</td>\n",
       "    </tr>\n",
       "    <tr>\n",
       "      <th>label3</th>\n",
       "      <td>matplotlib</td>\n",
       "      <td>30</td>\n",
       "      <td>NaN</td>\n",
       "    </tr>\n",
       "  </tbody>\n",
       "</table>\n",
       "</div>"
      ],
      "text/plain": [
       "                  name  price remark\n",
       "上学期 label1       numpy     20    NaN\n",
       "    label2      pandas    100   数据分析\n",
       "    label3  matplotlib     30    NaN\n",
       "下学期 label1       numpy     20    NaN\n",
       "    label2      pandas    100   数据分析\n",
       "    label3  matplotlib     30    NaN"
      ]
     },
     "execution_count": 141,
     "metadata": {},
     "output_type": "execute_result"
    }
   ],
   "source": [
    "df = pd.DataFrame(data={\n",
    "    'name': ['numpy', 'pandas', 'matplotlib'],\n",
    "    'price': [20, 100, 30],\n",
    "    'remark': [np.NaN, '数据分析', np.NaN]\n",
    "}, index=['label1', 'label2', 'label3'])\n",
    "\n",
    "df = pd.concat((df, df), axis=0, keys=[\"上学期\", \"下学期\"])\n",
    "df"
   ]
  },
  {
   "cell_type": "markdown",
   "id": "9a54034b-7b1f-467c-8b2b-a99227378ded",
   "metadata": {},
   "source": [
    "### pd.concat() ignore_index忽略索引"
   ]
  },
  {
   "cell_type": "code",
   "execution_count": 179,
   "id": "42ba2d83-d018-42f4-a2dd-5149308e3ea8",
   "metadata": {
    "tags": []
   },
   "outputs": [
    {
     "data": {
      "text/html": [
       "<div>\n",
       "<style scoped>\n",
       "    .dataframe tbody tr th:only-of-type {\n",
       "        vertical-align: middle;\n",
       "    }\n",
       "\n",
       "    .dataframe tbody tr th {\n",
       "        vertical-align: top;\n",
       "    }\n",
       "\n",
       "    .dataframe thead th {\n",
       "        text-align: right;\n",
       "    }\n",
       "</style>\n",
       "<table border=\"1\" class=\"dataframe\">\n",
       "  <thead>\n",
       "    <tr style=\"text-align: right;\">\n",
       "      <th></th>\n",
       "      <th>成本</th>\n",
       "      <th>费用</th>\n",
       "      <th>销售额</th>\n",
       "    </tr>\n",
       "  </thead>\n",
       "  <tbody>\n",
       "    <tr>\n",
       "      <th>0</th>\n",
       "      <td>59</td>\n",
       "      <td>45</td>\n",
       "      <td>65</td>\n",
       "    </tr>\n",
       "    <tr>\n",
       "      <th>1</th>\n",
       "      <td>40</td>\n",
       "      <td>35</td>\n",
       "      <td>69</td>\n",
       "    </tr>\n",
       "  </tbody>\n",
       "</table>\n",
       "</div>"
      ],
      "text/plain": [
       "   成本  费用  销售额\n",
       "0  59  45   65\n",
       "1  40  35   69"
      ]
     },
     "metadata": {},
     "output_type": "display_data"
    },
    {
     "data": {
      "text/html": [
       "<div>\n",
       "<style scoped>\n",
       "    .dataframe tbody tr th:only-of-type {\n",
       "        vertical-align: middle;\n",
       "    }\n",
       "\n",
       "    .dataframe tbody tr th {\n",
       "        vertical-align: top;\n",
       "    }\n",
       "\n",
       "    .dataframe thead th {\n",
       "        text-align: right;\n",
       "    }\n",
       "</style>\n",
       "<table border=\"1\" class=\"dataframe\">\n",
       "  <thead>\n",
       "    <tr style=\"text-align: right;\">\n",
       "      <th></th>\n",
       "      <th>成本</th>\n",
       "      <th>费用</th>\n",
       "      <th>销售额</th>\n",
       "    </tr>\n",
       "  </thead>\n",
       "  <tbody>\n",
       "    <tr>\n",
       "      <th>0</th>\n",
       "      <td>72</td>\n",
       "      <td>33</td>\n",
       "      <td>26</td>\n",
       "    </tr>\n",
       "    <tr>\n",
       "      <th>1</th>\n",
       "      <td>11</td>\n",
       "      <td>71</td>\n",
       "      <td>5</td>\n",
       "    </tr>\n",
       "    <tr>\n",
       "      <th>2</th>\n",
       "      <td>61</td>\n",
       "      <td>41</td>\n",
       "      <td>55</td>\n",
       "    </tr>\n",
       "  </tbody>\n",
       "</table>\n",
       "</div>"
      ],
      "text/plain": [
       "   成本  费用  销售额\n",
       "0  72  33   26\n",
       "1  11  71    5\n",
       "2  61  41   55"
      ]
     },
     "metadata": {},
     "output_type": "display_data"
    },
    {
     "data": {
      "text/html": [
       "<div>\n",
       "<style scoped>\n",
       "    .dataframe tbody tr th:only-of-type {\n",
       "        vertical-align: middle;\n",
       "    }\n",
       "\n",
       "    .dataframe tbody tr th {\n",
       "        vertical-align: top;\n",
       "    }\n",
       "\n",
       "    .dataframe thead th {\n",
       "        text-align: right;\n",
       "    }\n",
       "</style>\n",
       "<table border=\"1\" class=\"dataframe\">\n",
       "  <thead>\n",
       "    <tr style=\"text-align: right;\">\n",
       "      <th></th>\n",
       "      <th>成本</th>\n",
       "      <th>费用</th>\n",
       "      <th>销售额</th>\n",
       "    </tr>\n",
       "  </thead>\n",
       "  <tbody>\n",
       "    <tr>\n",
       "      <th>0</th>\n",
       "      <td>59</td>\n",
       "      <td>45</td>\n",
       "      <td>65</td>\n",
       "    </tr>\n",
       "    <tr>\n",
       "      <th>1</th>\n",
       "      <td>40</td>\n",
       "      <td>35</td>\n",
       "      <td>69</td>\n",
       "    </tr>\n",
       "    <tr>\n",
       "      <th>2</th>\n",
       "      <td>72</td>\n",
       "      <td>33</td>\n",
       "      <td>26</td>\n",
       "    </tr>\n",
       "    <tr>\n",
       "      <th>3</th>\n",
       "      <td>11</td>\n",
       "      <td>71</td>\n",
       "      <td>5</td>\n",
       "    </tr>\n",
       "    <tr>\n",
       "      <th>4</th>\n",
       "      <td>61</td>\n",
       "      <td>41</td>\n",
       "      <td>55</td>\n",
       "    </tr>\n",
       "  </tbody>\n",
       "</table>\n",
       "</div>"
      ],
      "text/plain": [
       "   成本  费用  销售额\n",
       "0  59  45   65\n",
       "1  40  35   69\n",
       "2  72  33   26\n",
       "3  11  71    5\n",
       "4  61  41   55"
      ]
     },
     "execution_count": 179,
     "metadata": {},
     "output_type": "execute_result"
    }
   ],
   "source": [
    "import pandas as pd\n",
    "import numpy as np\n",
    "\n",
    "columns = [\"成本\", \"费用\", \"销售额\"]\n",
    "df1 = pd.DataFrame(data=np.random.randint(0, 100, size=(2, 3)), columns=columns)\n",
    "df2 = pd.DataFrame(data=np.random.randint(0, 100, size=(3, 3)), columns=columns)\n",
    "display(df1, df2)\n",
    "\n",
    "# 原始表的索引没有实际意义，可以忽略，避免重复\n",
    "df = pd.concat((df1, df2),\n",
    "               ignore_index=True\n",
    "              )\n",
    "df"
   ]
  },
  {
   "cell_type": "markdown",
   "id": "8a837fce-bda1-4eea-8e93-1ae780cacb25",
   "metadata": {},
   "source": [
    "### pd.concat() 多级索引"
   ]
  },
  {
   "cell_type": "code",
   "execution_count": 182,
   "id": "a75c89e7-c1c1-469e-a38a-9aeaa5f24a25",
   "metadata": {
    "tags": []
   },
   "outputs": [
    {
     "data": {
      "text/html": [
       "<div>\n",
       "<style scoped>\n",
       "    .dataframe tbody tr th:only-of-type {\n",
       "        vertical-align: middle;\n",
       "    }\n",
       "\n",
       "    .dataframe tbody tr th {\n",
       "        vertical-align: top;\n",
       "    }\n",
       "\n",
       "    .dataframe thead th {\n",
       "        text-align: right;\n",
       "    }\n",
       "</style>\n",
       "<table border=\"1\" class=\"dataframe\">\n",
       "  <thead>\n",
       "    <tr style=\"text-align: right;\">\n",
       "      <th></th>\n",
       "      <th>成本</th>\n",
       "      <th>费用</th>\n",
       "      <th>销售额</th>\n",
       "    </tr>\n",
       "  </thead>\n",
       "  <tbody>\n",
       "    <tr>\n",
       "      <th>0</th>\n",
       "      <td>59</td>\n",
       "      <td>45</td>\n",
       "      <td>65</td>\n",
       "    </tr>\n",
       "    <tr>\n",
       "      <th>1</th>\n",
       "      <td>40</td>\n",
       "      <td>35</td>\n",
       "      <td>69</td>\n",
       "    </tr>\n",
       "  </tbody>\n",
       "</table>\n",
       "</div>"
      ],
      "text/plain": [
       "   成本  费用  销售额\n",
       "0  59  45   65\n",
       "1  40  35   69"
      ]
     },
     "metadata": {},
     "output_type": "display_data"
    },
    {
     "data": {
      "text/html": [
       "<div>\n",
       "<style scoped>\n",
       "    .dataframe tbody tr th:only-of-type {\n",
       "        vertical-align: middle;\n",
       "    }\n",
       "\n",
       "    .dataframe tbody tr th {\n",
       "        vertical-align: top;\n",
       "    }\n",
       "\n",
       "    .dataframe thead th {\n",
       "        text-align: right;\n",
       "    }\n",
       "</style>\n",
       "<table border=\"1\" class=\"dataframe\">\n",
       "  <thead>\n",
       "    <tr style=\"text-align: right;\">\n",
       "      <th></th>\n",
       "      <th>成本</th>\n",
       "      <th>费用</th>\n",
       "      <th>销售额</th>\n",
       "    </tr>\n",
       "  </thead>\n",
       "  <tbody>\n",
       "    <tr>\n",
       "      <th>0</th>\n",
       "      <td>72</td>\n",
       "      <td>33</td>\n",
       "      <td>26</td>\n",
       "    </tr>\n",
       "    <tr>\n",
       "      <th>1</th>\n",
       "      <td>11</td>\n",
       "      <td>71</td>\n",
       "      <td>5</td>\n",
       "    </tr>\n",
       "    <tr>\n",
       "      <th>2</th>\n",
       "      <td>61</td>\n",
       "      <td>41</td>\n",
       "      <td>55</td>\n",
       "    </tr>\n",
       "  </tbody>\n",
       "</table>\n",
       "</div>"
      ],
      "text/plain": [
       "   成本  费用  销售额\n",
       "0  72  33   26\n",
       "1  11  71    5\n",
       "2  61  41   55"
      ]
     },
     "metadata": {},
     "output_type": "display_data"
    },
    {
     "data": {
      "text/html": [
       "<div>\n",
       "<style scoped>\n",
       "    .dataframe tbody tr th:only-of-type {\n",
       "        vertical-align: middle;\n",
       "    }\n",
       "\n",
       "    .dataframe tbody tr th {\n",
       "        vertical-align: top;\n",
       "    }\n",
       "\n",
       "    .dataframe thead tr th {\n",
       "        text-align: left;\n",
       "    }\n",
       "</style>\n",
       "<table border=\"1\" class=\"dataframe\">\n",
       "  <thead>\n",
       "    <tr>\n",
       "      <th></th>\n",
       "      <th colspan=\"3\" halign=\"left\">第一季度</th>\n",
       "      <th colspan=\"3\" halign=\"left\">第二季度</th>\n",
       "    </tr>\n",
       "    <tr>\n",
       "      <th></th>\n",
       "      <th>成本</th>\n",
       "      <th>费用</th>\n",
       "      <th>销售额</th>\n",
       "      <th>成本</th>\n",
       "      <th>费用</th>\n",
       "      <th>销售额</th>\n",
       "    </tr>\n",
       "  </thead>\n",
       "  <tbody>\n",
       "    <tr>\n",
       "      <th>0</th>\n",
       "      <td>59.0</td>\n",
       "      <td>45.0</td>\n",
       "      <td>65.0</td>\n",
       "      <td>72</td>\n",
       "      <td>33</td>\n",
       "      <td>26</td>\n",
       "    </tr>\n",
       "    <tr>\n",
       "      <th>1</th>\n",
       "      <td>40.0</td>\n",
       "      <td>35.0</td>\n",
       "      <td>69.0</td>\n",
       "      <td>11</td>\n",
       "      <td>71</td>\n",
       "      <td>5</td>\n",
       "    </tr>\n",
       "    <tr>\n",
       "      <th>2</th>\n",
       "      <td>NaN</td>\n",
       "      <td>NaN</td>\n",
       "      <td>NaN</td>\n",
       "      <td>61</td>\n",
       "      <td>41</td>\n",
       "      <td>55</td>\n",
       "    </tr>\n",
       "  </tbody>\n",
       "</table>\n",
       "</div>"
      ],
      "text/plain": [
       "   第一季度             第二季度        \n",
       "     成本    费用   销售额   成本  费用 销售额\n",
       "0  59.0  45.0  65.0   72  33  26\n",
       "1  40.0  35.0  69.0   11  71   5\n",
       "2   NaN   NaN   NaN   61  41  55"
      ]
     },
     "execution_count": 182,
     "metadata": {},
     "output_type": "execute_result"
    }
   ],
   "source": [
    "display(df1, df2)\n",
    "\n",
    "# 如果级联后，原始索引不能忽略，可以使用多级索引\n",
    "pd.concat((df1, df2), axis=1, keys=[\"第一季度\", \"第二季度\"])"
   ]
  },
  {
   "cell_type": "markdown",
   "id": "0473a65f-b1b9-49a6-8a40-68a029247f78",
   "metadata": {},
   "source": [
    "### pd.concat()链接方式outer/inner\n",
    "- outer链接,外链接，保存链接表的所有字段，缺失补空\n",
    "- inner链接,内链接，只保留公共字段"
   ]
  },
  {
   "cell_type": "code",
   "execution_count": 186,
   "id": "5651c63a-899b-473d-bc8c-3a1ecb853741",
   "metadata": {
    "tags": []
   },
   "outputs": [
    {
     "data": {
      "text/html": [
       "<div>\n",
       "<style scoped>\n",
       "    .dataframe tbody tr th:only-of-type {\n",
       "        vertical-align: middle;\n",
       "    }\n",
       "\n",
       "    .dataframe tbody tr th {\n",
       "        vertical-align: top;\n",
       "    }\n",
       "\n",
       "    .dataframe thead th {\n",
       "        text-align: right;\n",
       "    }\n",
       "</style>\n",
       "<table border=\"1\" class=\"dataframe\">\n",
       "  <thead>\n",
       "    <tr style=\"text-align: right;\">\n",
       "      <th></th>\n",
       "      <th>A</th>\n",
       "      <th>B</th>\n",
       "      <th>C</th>\n",
       "      <th>D</th>\n",
       "      <th>E</th>\n",
       "    </tr>\n",
       "  </thead>\n",
       "  <tbody>\n",
       "    <tr>\n",
       "      <th>0</th>\n",
       "      <td>72</td>\n",
       "      <td>11</td>\n",
       "      <td>52</td>\n",
       "      <td>5</td>\n",
       "      <td>77</td>\n",
       "    </tr>\n",
       "  </tbody>\n",
       "</table>\n",
       "</div>"
      ],
      "text/plain": [
       "    A   B   C  D   E\n",
       "0  72  11  52  5  77"
      ]
     },
     "metadata": {},
     "output_type": "display_data"
    },
    {
     "data": {
      "text/html": [
       "<div>\n",
       "<style scoped>\n",
       "    .dataframe tbody tr th:only-of-type {\n",
       "        vertical-align: middle;\n",
       "    }\n",
       "\n",
       "    .dataframe tbody tr th {\n",
       "        vertical-align: top;\n",
       "    }\n",
       "\n",
       "    .dataframe thead th {\n",
       "        text-align: right;\n",
       "    }\n",
       "</style>\n",
       "<table border=\"1\" class=\"dataframe\">\n",
       "  <thead>\n",
       "    <tr style=\"text-align: right;\">\n",
       "      <th></th>\n",
       "      <th>B</th>\n",
       "      <th>C</th>\n",
       "      <th>D</th>\n",
       "      <th>E</th>\n",
       "      <th>F</th>\n",
       "      <th>G</th>\n",
       "    </tr>\n",
       "  </thead>\n",
       "  <tbody>\n",
       "    <tr>\n",
       "      <th>0</th>\n",
       "      <td>70</td>\n",
       "      <td>33</td>\n",
       "      <td>10</td>\n",
       "      <td>68</td>\n",
       "      <td>57</td>\n",
       "      <td>80</td>\n",
       "    </tr>\n",
       "    <tr>\n",
       "      <th>1</th>\n",
       "      <td>70</td>\n",
       "      <td>77</td>\n",
       "      <td>49</td>\n",
       "      <td>33</td>\n",
       "      <td>42</td>\n",
       "      <td>68</td>\n",
       "    </tr>\n",
       "  </tbody>\n",
       "</table>\n",
       "</div>"
      ],
      "text/plain": [
       "    B   C   D   E   F   G\n",
       "0  70  33  10  68  57  80\n",
       "1  70  77  49  33  42  68"
      ]
     },
     "metadata": {},
     "output_type": "display_data"
    },
    {
     "data": {
      "text/html": [
       "<div>\n",
       "<style scoped>\n",
       "    .dataframe tbody tr th:only-of-type {\n",
       "        vertical-align: middle;\n",
       "    }\n",
       "\n",
       "    .dataframe tbody tr th {\n",
       "        vertical-align: top;\n",
       "    }\n",
       "\n",
       "    .dataframe thead th {\n",
       "        text-align: right;\n",
       "    }\n",
       "</style>\n",
       "<table border=\"1\" class=\"dataframe\">\n",
       "  <thead>\n",
       "    <tr style=\"text-align: right;\">\n",
       "      <th></th>\n",
       "      <th>A</th>\n",
       "      <th>B</th>\n",
       "      <th>C</th>\n",
       "      <th>D</th>\n",
       "      <th>E</th>\n",
       "      <th>F</th>\n",
       "      <th>G</th>\n",
       "    </tr>\n",
       "  </thead>\n",
       "  <tbody>\n",
       "    <tr>\n",
       "      <th>0</th>\n",
       "      <td>72.0</td>\n",
       "      <td>11</td>\n",
       "      <td>52</td>\n",
       "      <td>5</td>\n",
       "      <td>77</td>\n",
       "      <td>NaN</td>\n",
       "      <td>NaN</td>\n",
       "    </tr>\n",
       "    <tr>\n",
       "      <th>0</th>\n",
       "      <td>NaN</td>\n",
       "      <td>70</td>\n",
       "      <td>33</td>\n",
       "      <td>10</td>\n",
       "      <td>68</td>\n",
       "      <td>57.0</td>\n",
       "      <td>80.0</td>\n",
       "    </tr>\n",
       "    <tr>\n",
       "      <th>1</th>\n",
       "      <td>NaN</td>\n",
       "      <td>70</td>\n",
       "      <td>77</td>\n",
       "      <td>49</td>\n",
       "      <td>33</td>\n",
       "      <td>42.0</td>\n",
       "      <td>68.0</td>\n",
       "    </tr>\n",
       "  </tbody>\n",
       "</table>\n",
       "</div>"
      ],
      "text/plain": [
       "      A   B   C   D   E     F     G\n",
       "0  72.0  11  52   5  77   NaN   NaN\n",
       "0   NaN  70  33  10  68  57.0  80.0\n",
       "1   NaN  70  77  49  33  42.0  68.0"
      ]
     },
     "execution_count": 186,
     "metadata": {},
     "output_type": "execute_result"
    }
   ],
   "source": [
    "df1 = pd.DataFrame(data=np.random.randint(0, 100, size=(1, 5)), columns=list(\"ABCDE\"))\n",
    "df2 = pd.DataFrame(data=np.random.randint(0, 100, size=(2, 6)), columns=list(\"BCDEFG\"))\n",
    "display(df1, df2)\n",
    "\n",
    "# outer链接,外链接，保存链接表的所有字段，缺失补空\n",
    "# inner链接,内链接，只保留公共字段\n",
    "\n",
    "pd.concat((df1, df2), join='outer') # 默认方式"
   ]
  },
  {
   "cell_type": "code",
   "execution_count": 187,
   "id": "a8248e13-7c86-4585-803a-95a3f51207b3",
   "metadata": {
    "tags": []
   },
   "outputs": [
    {
     "data": {
      "text/html": [
       "<div>\n",
       "<style scoped>\n",
       "    .dataframe tbody tr th:only-of-type {\n",
       "        vertical-align: middle;\n",
       "    }\n",
       "\n",
       "    .dataframe tbody tr th {\n",
       "        vertical-align: top;\n",
       "    }\n",
       "\n",
       "    .dataframe thead th {\n",
       "        text-align: right;\n",
       "    }\n",
       "</style>\n",
       "<table border=\"1\" class=\"dataframe\">\n",
       "  <thead>\n",
       "    <tr style=\"text-align: right;\">\n",
       "      <th></th>\n",
       "      <th>B</th>\n",
       "      <th>C</th>\n",
       "      <th>D</th>\n",
       "      <th>E</th>\n",
       "    </tr>\n",
       "  </thead>\n",
       "  <tbody>\n",
       "    <tr>\n",
       "      <th>0</th>\n",
       "      <td>11</td>\n",
       "      <td>52</td>\n",
       "      <td>5</td>\n",
       "      <td>77</td>\n",
       "    </tr>\n",
       "    <tr>\n",
       "      <th>0</th>\n",
       "      <td>70</td>\n",
       "      <td>33</td>\n",
       "      <td>10</td>\n",
       "      <td>68</td>\n",
       "    </tr>\n",
       "    <tr>\n",
       "      <th>1</th>\n",
       "      <td>70</td>\n",
       "      <td>77</td>\n",
       "      <td>49</td>\n",
       "      <td>33</td>\n",
       "    </tr>\n",
       "  </tbody>\n",
       "</table>\n",
       "</div>"
      ],
      "text/plain": [
       "    B   C   D   E\n",
       "0  11  52   5  77\n",
       "0  70  33  10  68\n",
       "1  70  77  49  33"
      ]
     },
     "execution_count": 187,
     "metadata": {},
     "output_type": "execute_result"
    }
   ],
   "source": [
    "pd.concat((df1, df2), join='inner')"
   ]
  },
  {
   "cell_type": "markdown",
   "id": "5f772da8-3cee-4d3a-adc2-dc80b6b12199",
   "metadata": {},
   "source": [
    "### pd.merge\n",
    "- merge:\n",
    "    - how\n",
    "    - on\n",
    "    - left_on/right_on\n",
    "    - suffiexes\n",
    "    - left_index/right/index"
   ]
  },
  {
   "cell_type": "code",
   "execution_count": 197,
   "id": "e1e3315e-b2a0-4bec-95ae-f402cef6f2ae",
   "metadata": {
    "tags": []
   },
   "outputs": [
    {
     "data": {
      "text/html": [
       "<div>\n",
       "<style scoped>\n",
       "    .dataframe tbody tr th:only-of-type {\n",
       "        vertical-align: middle;\n",
       "    }\n",
       "\n",
       "    .dataframe tbody tr th {\n",
       "        vertical-align: top;\n",
       "    }\n",
       "\n",
       "    .dataframe thead th {\n",
       "        text-align: right;\n",
       "    }\n",
       "</style>\n",
       "<table border=\"1\" class=\"dataframe\">\n",
       "  <thead>\n",
       "    <tr style=\"text-align: right;\">\n",
       "      <th></th>\n",
       "      <th>cid</th>\n",
       "      <th>course</th>\n",
       "    </tr>\n",
       "  </thead>\n",
       "  <tbody>\n",
       "    <tr>\n",
       "      <th>0</th>\n",
       "      <td>c1</td>\n",
       "      <td>python</td>\n",
       "    </tr>\n",
       "    <tr>\n",
       "      <th>1</th>\n",
       "      <td>c2</td>\n",
       "      <td>spark</td>\n",
       "    </tr>\n",
       "    <tr>\n",
       "      <th>2</th>\n",
       "      <td>c3</td>\n",
       "      <td>hadoop</td>\n",
       "    </tr>\n",
       "  </tbody>\n",
       "</table>\n",
       "</div>"
      ],
      "text/plain": [
       "  cid  course\n",
       "0  c1  python\n",
       "1  c2   spark\n",
       "2  c3  hadoop"
      ]
     },
     "metadata": {},
     "output_type": "display_data"
    },
    {
     "data": {
      "text/html": [
       "<div>\n",
       "<style scoped>\n",
       "    .dataframe tbody tr th:only-of-type {\n",
       "        vertical-align: middle;\n",
       "    }\n",
       "\n",
       "    .dataframe tbody tr th {\n",
       "        vertical-align: top;\n",
       "    }\n",
       "\n",
       "    .dataframe thead th {\n",
       "        text-align: right;\n",
       "    }\n",
       "</style>\n",
       "<table border=\"1\" class=\"dataframe\">\n",
       "  <thead>\n",
       "    <tr style=\"text-align: right;\">\n",
       "      <th></th>\n",
       "      <th>tid</th>\n",
       "      <th>teacher</th>\n",
       "    </tr>\n",
       "  </thead>\n",
       "  <tbody>\n",
       "    <tr>\n",
       "      <th>0</th>\n",
       "      <td>t1</td>\n",
       "      <td>python老师</td>\n",
       "    </tr>\n",
       "    <tr>\n",
       "      <th>1</th>\n",
       "      <td>t2</td>\n",
       "      <td>spark老师</td>\n",
       "    </tr>\n",
       "    <tr>\n",
       "      <th>2</th>\n",
       "      <td>t3</td>\n",
       "      <td>hadoop老师</td>\n",
       "    </tr>\n",
       "  </tbody>\n",
       "</table>\n",
       "</div>"
      ],
      "text/plain": [
       "  tid   teacher\n",
       "0  t1  python老师\n",
       "1  t2   spark老师\n",
       "2  t3  hadoop老师"
      ]
     },
     "metadata": {},
     "output_type": "display_data"
    },
    {
     "data": {
      "text/html": [
       "<div>\n",
       "<style scoped>\n",
       "    .dataframe tbody tr th:only-of-type {\n",
       "        vertical-align: middle;\n",
       "    }\n",
       "\n",
       "    .dataframe tbody tr th {\n",
       "        vertical-align: top;\n",
       "    }\n",
       "\n",
       "    .dataframe thead th {\n",
       "        text-align: right;\n",
       "    }\n",
       "</style>\n",
       "<table border=\"1\" class=\"dataframe\">\n",
       "  <thead>\n",
       "    <tr style=\"text-align: right;\">\n",
       "      <th></th>\n",
       "      <th>sid</th>\n",
       "      <th>student</th>\n",
       "    </tr>\n",
       "  </thead>\n",
       "  <tbody>\n",
       "    <tr>\n",
       "      <th>0</th>\n",
       "      <td>s1</td>\n",
       "      <td>小强</td>\n",
       "    </tr>\n",
       "    <tr>\n",
       "      <th>1</th>\n",
       "      <td>s2</td>\n",
       "      <td>小红</td>\n",
       "    </tr>\n",
       "    <tr>\n",
       "      <th>2</th>\n",
       "      <td>s3</td>\n",
       "      <td>小明</td>\n",
       "    </tr>\n",
       "  </tbody>\n",
       "</table>\n",
       "</div>"
      ],
      "text/plain": [
       "  sid student\n",
       "0  s1      小强\n",
       "1  s2      小红\n",
       "2  s3      小明"
      ]
     },
     "metadata": {},
     "output_type": "display_data"
    },
    {
     "data": {
      "text/html": [
       "<div>\n",
       "<style scoped>\n",
       "    .dataframe tbody tr th:only-of-type {\n",
       "        vertical-align: middle;\n",
       "    }\n",
       "\n",
       "    .dataframe tbody tr th {\n",
       "        vertical-align: top;\n",
       "    }\n",
       "\n",
       "    .dataframe thead th {\n",
       "        text-align: right;\n",
       "    }\n",
       "</style>\n",
       "<table border=\"1\" class=\"dataframe\">\n",
       "  <thead>\n",
       "    <tr style=\"text-align: right;\">\n",
       "      <th></th>\n",
       "      <th>sid</th>\n",
       "      <th>cid</th>\n",
       "    </tr>\n",
       "  </thead>\n",
       "  <tbody>\n",
       "    <tr>\n",
       "      <th>0</th>\n",
       "      <td>s1</td>\n",
       "      <td>c2</td>\n",
       "    </tr>\n",
       "    <tr>\n",
       "      <th>1</th>\n",
       "      <td>s1</td>\n",
       "      <td>c3</td>\n",
       "    </tr>\n",
       "    <tr>\n",
       "      <th>2</th>\n",
       "      <td>s2</td>\n",
       "      <td>c1</td>\n",
       "    </tr>\n",
       "    <tr>\n",
       "      <th>3</th>\n",
       "      <td>s2</td>\n",
       "      <td>c3</td>\n",
       "    </tr>\n",
       "    <tr>\n",
       "      <th>4</th>\n",
       "      <td>s3</td>\n",
       "      <td>c1</td>\n",
       "    </tr>\n",
       "    <tr>\n",
       "      <th>5</th>\n",
       "      <td>s3</td>\n",
       "      <td>c2</td>\n",
       "    </tr>\n",
       "  </tbody>\n",
       "</table>\n",
       "</div>"
      ],
      "text/plain": [
       "  sid cid\n",
       "0  s1  c2\n",
       "1  s1  c3\n",
       "2  s2  c1\n",
       "3  s2  c3\n",
       "4  s3  c1\n",
       "5  s3  c2"
      ]
     },
     "metadata": {},
     "output_type": "display_data"
    }
   ],
   "source": [
    "# 合并只和列有关pd.merge\n",
    "# 合并的两张表一定存在至少一列，在内容上有关系（1对1，1对多,多对多）\n",
    "\n",
    "tdf = pd.DataFrame(data={\n",
    "    'tid': ['t1', 't2', 't3'],\n",
    "    'teacher': ['python老师', 'spark老师', 'hadoop老师']\n",
    "})\n",
    "\n",
    "sdf = pd.DataFrame(data={\n",
    "    'sid': ['s1', 's2', 's3'],\n",
    "    'student': ['小强', '小红', '小明']\n",
    "})\n",
    "\n",
    "cdf = pd.DataFrame(data={\n",
    "    'cid': ['c1', 'c2', 'c3'],\n",
    "    'course': ['python', 'spark', 'hadoop']\n",
    "})\n",
    "\n",
    "sc_df = pd.DataFrame(data={\n",
    "    'sid': ['s1', 's1', 's2', 's2', 's3', 's3'],\n",
    "    'cid': ['c2', 'c3', 'c1', 'c3', 'c1', 'c2'],\n",
    "})\n",
    "\n",
    "display(cdf, tdf, sdf, sc_df)"
   ]
  },
  {
   "cell_type": "markdown",
   "id": "2de29332-3578-4735-833d-d035ff7b9560",
   "metadata": {},
   "source": [
    "### pd.merge on"
   ]
  },
  {
   "cell_type": "code",
   "execution_count": 204,
   "id": "a51fd5d0-a1e2-4f96-a761-0e424aae23dc",
   "metadata": {
    "tags": []
   },
   "outputs": [
    {
     "data": {
      "text/html": [
       "<div>\n",
       "<style scoped>\n",
       "    .dataframe tbody tr th:only-of-type {\n",
       "        vertical-align: middle;\n",
       "    }\n",
       "\n",
       "    .dataframe tbody tr th {\n",
       "        vertical-align: top;\n",
       "    }\n",
       "\n",
       "    .dataframe thead th {\n",
       "        text-align: right;\n",
       "    }\n",
       "</style>\n",
       "<table border=\"1\" class=\"dataframe\">\n",
       "  <thead>\n",
       "    <tr style=\"text-align: right;\">\n",
       "      <th></th>\n",
       "      <th>sid</th>\n",
       "      <th>student</th>\n",
       "      <th>cid</th>\n",
       "      <th>course</th>\n",
       "    </tr>\n",
       "  </thead>\n",
       "  <tbody>\n",
       "    <tr>\n",
       "      <th>0</th>\n",
       "      <td>s1</td>\n",
       "      <td>小强</td>\n",
       "      <td>c2</td>\n",
       "      <td>spark</td>\n",
       "    </tr>\n",
       "    <tr>\n",
       "      <th>1</th>\n",
       "      <td>s3</td>\n",
       "      <td>小明</td>\n",
       "      <td>c2</td>\n",
       "      <td>spark</td>\n",
       "    </tr>\n",
       "    <tr>\n",
       "      <th>2</th>\n",
       "      <td>s1</td>\n",
       "      <td>小强</td>\n",
       "      <td>c3</td>\n",
       "      <td>hadoop</td>\n",
       "    </tr>\n",
       "    <tr>\n",
       "      <th>3</th>\n",
       "      <td>s2</td>\n",
       "      <td>小红</td>\n",
       "      <td>c3</td>\n",
       "      <td>hadoop</td>\n",
       "    </tr>\n",
       "    <tr>\n",
       "      <th>4</th>\n",
       "      <td>s2</td>\n",
       "      <td>小红</td>\n",
       "      <td>c1</td>\n",
       "      <td>python</td>\n",
       "    </tr>\n",
       "    <tr>\n",
       "      <th>5</th>\n",
       "      <td>s3</td>\n",
       "      <td>小明</td>\n",
       "      <td>c1</td>\n",
       "      <td>python</td>\n",
       "    </tr>\n",
       "  </tbody>\n",
       "</table>\n",
       "</div>"
      ],
      "text/plain": [
       "  sid student cid  course\n",
       "0  s1      小强  c2   spark\n",
       "1  s3      小明  c2   spark\n",
       "2  s1      小强  c3  hadoop\n",
       "3  s2      小红  c3  hadoop\n",
       "4  s2      小红  c1  python\n",
       "5  s3      小明  c1  python"
      ]
     },
     "execution_count": 204,
     "metadata": {},
     "output_type": "execute_result"
    }
   ],
   "source": [
    "df = pd.merge(sdf, sc_df, on='sid')\n",
    "df = pd.merge(df, cdf, on='cid')\n",
    "df"
   ]
  },
  {
   "cell_type": "code",
   "execution_count": 205,
   "id": "67810cb8-9b0a-4331-a8a0-3e7928f01eaa",
   "metadata": {
    "tags": []
   },
   "outputs": [
    {
     "data": {
      "text/html": [
       "<div>\n",
       "<style scoped>\n",
       "    .dataframe tbody tr th:only-of-type {\n",
       "        vertical-align: middle;\n",
       "    }\n",
       "\n",
       "    .dataframe tbody tr th {\n",
       "        vertical-align: top;\n",
       "    }\n",
       "\n",
       "    .dataframe thead th {\n",
       "        text-align: right;\n",
       "    }\n",
       "</style>\n",
       "<table border=\"1\" class=\"dataframe\">\n",
       "  <thead>\n",
       "    <tr style=\"text-align: right;\">\n",
       "      <th></th>\n",
       "      <th>student</th>\n",
       "      <th>course</th>\n",
       "    </tr>\n",
       "  </thead>\n",
       "  <tbody>\n",
       "    <tr>\n",
       "      <th>0</th>\n",
       "      <td>小强</td>\n",
       "      <td>spark</td>\n",
       "    </tr>\n",
       "    <tr>\n",
       "      <th>1</th>\n",
       "      <td>小明</td>\n",
       "      <td>spark</td>\n",
       "    </tr>\n",
       "    <tr>\n",
       "      <th>2</th>\n",
       "      <td>小强</td>\n",
       "      <td>hadoop</td>\n",
       "    </tr>\n",
       "    <tr>\n",
       "      <th>3</th>\n",
       "      <td>小红</td>\n",
       "      <td>hadoop</td>\n",
       "    </tr>\n",
       "    <tr>\n",
       "      <th>4</th>\n",
       "      <td>小红</td>\n",
       "      <td>python</td>\n",
       "    </tr>\n",
       "    <tr>\n",
       "      <th>5</th>\n",
       "      <td>小明</td>\n",
       "      <td>python</td>\n",
       "    </tr>\n",
       "  </tbody>\n",
       "</table>\n",
       "</div>"
      ],
      "text/plain": [
       "  student  course\n",
       "0      小强   spark\n",
       "1      小明   spark\n",
       "2      小强  hadoop\n",
       "3      小红  hadoop\n",
       "4      小红  python\n",
       "5      小明  python"
      ]
     },
     "execution_count": 205,
     "metadata": {},
     "output_type": "execute_result"
    }
   ],
   "source": [
    "df = df.drop(['sid', 'cid'], axis=1)\n",
    "df"
   ]
  },
  {
   "cell_type": "markdown",
   "id": "c772ca91-7b7e-401f-9c8b-7055b9bd8ba3",
   "metadata": {},
   "source": [
    "### pd.merge left_on/right_on/suffixes"
   ]
  },
  {
   "cell_type": "code",
   "execution_count": 210,
   "id": "17d616b5-4fd6-453a-b846-9a63134522d1",
   "metadata": {
    "tags": []
   },
   "outputs": [
    {
     "data": {
      "text/html": [
       "<div>\n",
       "<style scoped>\n",
       "    .dataframe tbody tr th:only-of-type {\n",
       "        vertical-align: middle;\n",
       "    }\n",
       "\n",
       "    .dataframe tbody tr th {\n",
       "        vertical-align: top;\n",
       "    }\n",
       "\n",
       "    .dataframe thead th {\n",
       "        text-align: right;\n",
       "    }\n",
       "</style>\n",
       "<table border=\"1\" class=\"dataframe\">\n",
       "  <thead>\n",
       "    <tr style=\"text-align: right;\">\n",
       "      <th></th>\n",
       "      <th>tid</th>\n",
       "      <th>teacher_L1</th>\n",
       "      <th>teacher_L2</th>\n",
       "    </tr>\n",
       "  </thead>\n",
       "  <tbody>\n",
       "    <tr>\n",
       "      <th>0</th>\n",
       "      <td>t1</td>\n",
       "      <td>python老师</td>\n",
       "      <td>python老师</td>\n",
       "    </tr>\n",
       "    <tr>\n",
       "      <th>1</th>\n",
       "      <td>t2</td>\n",
       "      <td>spark老师</td>\n",
       "      <td>spark老师</td>\n",
       "    </tr>\n",
       "    <tr>\n",
       "      <th>2</th>\n",
       "      <td>t3</td>\n",
       "      <td>hadoop老师</td>\n",
       "      <td>hadoop老师</td>\n",
       "    </tr>\n",
       "  </tbody>\n",
       "</table>\n",
       "</div>"
      ],
      "text/plain": [
       "  tid teacher_L1 teacher_L2\n",
       "0  t1   python老师   python老师\n",
       "1  t2    spark老师    spark老师\n",
       "2  t3   hadoop老师   hadoop老师"
      ]
     },
     "execution_count": 210,
     "metadata": {},
     "output_type": "execute_result"
    }
   ],
   "source": [
    "df = pd.DataFrame(data={\n",
    "    'tid': ['t1', 't2', 't3'],\n",
    "    'teacher': ['python老师', 'spark老师', 'hadoop老师']\n",
    "})\n",
    "\n",
    "pd.merge(df, df, left_on='tid', right_on='tid', suffixes=['_L1', '_L2'])"
   ]
  },
  {
   "cell_type": "markdown",
   "id": "7a9f8830-472d-4fe1-b3ea-a494296aaf09",
   "metadata": {},
   "source": [
    "### np.concatenate级联"
   ]
  },
  {
   "cell_type": "code",
   "execution_count": 172,
   "id": "63d5ee05-6974-4f39-b63e-e7ecd673df38",
   "metadata": {
    "tags": []
   },
   "outputs": [
    {
     "data": {
      "text/plain": [
       "array([[1., 1., 1.],\n",
       "       [1., 1., 1.]])"
      ]
     },
     "metadata": {},
     "output_type": "display_data"
    },
    {
     "data": {
      "text/plain": [
       "array([[0., 0., 0.],\n",
       "       [0., 0., 0.],\n",
       "       [0., 0., 0.],\n",
       "       [0., 0., 0.]])"
      ]
     },
     "metadata": {},
     "output_type": "display_data"
    },
    {
     "name": "stdout",
     "output_type": "stream",
     "text": [
      "<class 'numpy.ndarray'>\n"
     ]
    },
    {
     "data": {
      "text/plain": [
       "array([[1., 1., 1.],\n",
       "       [1., 1., 1.],\n",
       "       [0., 0., 0.],\n",
       "       [0., 0., 0.],\n",
       "       [0., 0., 0.],\n",
       "       [0., 0., 0.]])"
      ]
     },
     "execution_count": 172,
     "metadata": {},
     "output_type": "execute_result"
    }
   ],
   "source": [
    "import pandas as pd\n",
    "import numpy as np\n",
    "\n",
    "a1 = np.ones(shape=(2, 3))\n",
    "a2 = np.zeros(shape=(4, 3))\n",
    "display(ar1, ar2)\n",
    "\n",
    "a = np.concatenate((a1, a2), axis=0)\n",
    "print(type(a))\n",
    "a"
   ]
  },
  {
   "cell_type": "markdown",
   "id": "cddad19c-3e84-4cf3-9896-324b0123bb12",
   "metadata": {},
   "source": [
    "## 数据分组与聚合\n",
    "- df.groupby(column_name)\t按照指定列进行分组\n",
    "- df.aggregate(function_name)\t对分组后的数据进行聚合操作\n",
    "- df.pivot_table(values, index, columns, aggfunc)\t生成透视表"
   ]
  },
  {
   "cell_type": "markdown",
   "id": "b3846bd6-8089-4519-90a0-e1703040a059",
   "metadata": {},
   "source": [
    "### df.groupby"
   ]
  },
  {
   "cell_type": "code",
   "execution_count": 235,
   "id": "b5395a09",
   "metadata": {
    "tags": []
   },
   "outputs": [
    {
     "data": {
      "text/html": [
       "<div>\n",
       "<style scoped>\n",
       "    .dataframe tbody tr th:only-of-type {\n",
       "        vertical-align: middle;\n",
       "    }\n",
       "\n",
       "    .dataframe tbody tr th {\n",
       "        vertical-align: top;\n",
       "    }\n",
       "\n",
       "    .dataframe thead th {\n",
       "        text-align: right;\n",
       "    }\n",
       "</style>\n",
       "<table border=\"1\" class=\"dataframe\">\n",
       "  <thead>\n",
       "    <tr style=\"text-align: right;\">\n",
       "      <th></th>\n",
       "      <th>student</th>\n",
       "      <th>course</th>\n",
       "      <th>score</th>\n",
       "    </tr>\n",
       "  </thead>\n",
       "  <tbody>\n",
       "    <tr>\n",
       "      <th>0</th>\n",
       "      <td>小强</td>\n",
       "      <td>python</td>\n",
       "      <td>65</td>\n",
       "    </tr>\n",
       "    <tr>\n",
       "      <th>1</th>\n",
       "      <td>小红</td>\n",
       "      <td>python</td>\n",
       "      <td>84</td>\n",
       "    </tr>\n",
       "    <tr>\n",
       "      <th>2</th>\n",
       "      <td>小明</td>\n",
       "      <td>python</td>\n",
       "      <td>78</td>\n",
       "    </tr>\n",
       "    <tr>\n",
       "      <th>3</th>\n",
       "      <td>小强</td>\n",
       "      <td>spark</td>\n",
       "      <td>97</td>\n",
       "    </tr>\n",
       "    <tr>\n",
       "      <th>4</th>\n",
       "      <td>小红</td>\n",
       "      <td>spark</td>\n",
       "      <td>77</td>\n",
       "    </tr>\n",
       "    <tr>\n",
       "      <th>5</th>\n",
       "      <td>小明</td>\n",
       "      <td>spark</td>\n",
       "      <td>62</td>\n",
       "    </tr>\n",
       "    <tr>\n",
       "      <th>6</th>\n",
       "      <td>小强</td>\n",
       "      <td>hadoop</td>\n",
       "      <td>84</td>\n",
       "    </tr>\n",
       "    <tr>\n",
       "      <th>7</th>\n",
       "      <td>小红</td>\n",
       "      <td>hadoop</td>\n",
       "      <td>75</td>\n",
       "    </tr>\n",
       "    <tr>\n",
       "      <th>8</th>\n",
       "      <td>小明</td>\n",
       "      <td>hadoop</td>\n",
       "      <td>65</td>\n",
       "    </tr>\n",
       "  </tbody>\n",
       "</table>\n",
       "</div>"
      ],
      "text/plain": [
       "  student  course  score\n",
       "0      小强  python     65\n",
       "1      小红  python     84\n",
       "2      小明  python     78\n",
       "3      小强   spark     97\n",
       "4      小红   spark     77\n",
       "5      小明   spark     62\n",
       "6      小强  hadoop     84\n",
       "7      小红  hadoop     75\n",
       "8      小明  hadoop     65"
      ]
     },
     "metadata": {},
     "output_type": "display_data"
    },
    {
     "name": "stdout",
     "output_type": "stream",
     "text": [
      "type(groupDF)=<class 'pandas.core.groupby.generic.DataFrameGroupBy'>\n"
     ]
    },
    {
     "data": {
      "text/plain": [
       "<pandas.core.groupby.generic.DataFrameGroupBy object at 0x0000020F5F360190>"
      ]
     },
     "metadata": {},
     "output_type": "display_data"
    },
    {
     "name": "stdout",
     "output_type": "stream",
     "text": [
      "type(groupDF.groups)=<class 'pandas.io.formats.printing.PrettyDict'>,groupDF.groups={'小强': [0, 3, 6], '小明': [2, 5, 8], '小红': [1, 4, 7]}\n",
      "type(g)=<class 'str'>,g='小强'\n",
      "type(g)=<class 'str'>,g='小明'\n",
      "type(g)=<class 'str'>,g='小红'\n",
      "type(DF)=<class 'tuple'>,DF=('小强',   student  course  score\n",
      "0      小强  python     65\n",
      "3      小强   spark     97\n",
      "6      小强  hadoop     84)\n",
      "type(DF)=<class 'tuple'>,DF=('小明',   student  course  score\n",
      "2      小明  python     78\n",
      "5      小明   spark     62\n",
      "8      小明  hadoop     65)\n",
      "type(DF)=<class 'tuple'>,DF=('小红',   student  course  score\n",
      "1      小红  python     84\n",
      "4      小红   spark     77\n",
      "7      小红  hadoop     75)\n"
     ]
    }
   ],
   "source": [
    "df = pd.DataFrame(data={\n",
    "    'student': ['小强', '小红', '小明', '小强', '小红', '小明', '小强', '小红', '小明'],\n",
    "    'course': ['python', 'python', 'python', 'spark', 'spark', 'spark', 'hadoop', 'hadoop', 'hadoop'],\n",
    "    'score': np.random.randint(60,100, size=9)\n",
    "})\n",
    "display(df)\n",
    "\n",
    "groupDF = df.groupby('student')\n",
    "print(f\"{type(groupDF)=}\")\n",
    "display(groupDF)\n",
    "\n",
    "# 查看分组对象的信息\n",
    "print(f\"{type(groupDF.groups)=},{groupDF.groups=}\")\n",
    "for g in groupDF.groups:\n",
    "    print(f\"{type(g)=},{g=}\")\n",
    "\n",
    "for DF in groupDF:\n",
    "    print(f\"{type(DF)=},{DF=}\")"
   ]
  },
  {
   "cell_type": "code",
   "execution_count": 236,
   "id": "8a87f2f2",
   "metadata": {
    "tags": []
   },
   "outputs": [
    {
     "data": {
      "text/html": [
       "<div>\n",
       "<style scoped>\n",
       "    .dataframe tbody tr th:only-of-type {\n",
       "        vertical-align: middle;\n",
       "    }\n",
       "\n",
       "    .dataframe tbody tr th {\n",
       "        vertical-align: top;\n",
       "    }\n",
       "\n",
       "    .dataframe thead th {\n",
       "        text-align: right;\n",
       "    }\n",
       "</style>\n",
       "<table border=\"1\" class=\"dataframe\">\n",
       "  <thead>\n",
       "    <tr style=\"text-align: right;\">\n",
       "      <th></th>\n",
       "      <th>score</th>\n",
       "    </tr>\n",
       "    <tr>\n",
       "      <th>student</th>\n",
       "      <th></th>\n",
       "    </tr>\n",
       "  </thead>\n",
       "  <tbody>\n",
       "    <tr>\n",
       "      <th>小强</th>\n",
       "      <td>82.000000</td>\n",
       "    </tr>\n",
       "    <tr>\n",
       "      <th>小明</th>\n",
       "      <td>68.333333</td>\n",
       "    </tr>\n",
       "    <tr>\n",
       "      <th>小红</th>\n",
       "      <td>78.666667</td>\n",
       "    </tr>\n",
       "  </tbody>\n",
       "</table>\n",
       "</div>"
      ],
      "text/plain": [
       "             score\n",
       "student           \n",
       "小强       82.000000\n",
       "小明       68.333333\n",
       "小红       78.666667"
      ]
     },
     "execution_count": 236,
     "metadata": {},
     "output_type": "execute_result"
    }
   ],
   "source": [
    "avgDF = pd.DataFrame(data=groupDF.score.mean())\n",
    "avgDF"
   ]
  },
  {
   "cell_type": "code",
   "execution_count": 237,
   "id": "61aa77ab",
   "metadata": {
    "tags": []
   },
   "outputs": [
    {
     "data": {
      "text/html": [
       "<div>\n",
       "<style scoped>\n",
       "    .dataframe tbody tr th:only-of-type {\n",
       "        vertical-align: middle;\n",
       "    }\n",
       "\n",
       "    .dataframe tbody tr th {\n",
       "        vertical-align: top;\n",
       "    }\n",
       "\n",
       "    .dataframe thead th {\n",
       "        text-align: right;\n",
       "    }\n",
       "</style>\n",
       "<table border=\"1\" class=\"dataframe\">\n",
       "  <thead>\n",
       "    <tr style=\"text-align: right;\">\n",
       "      <th></th>\n",
       "      <th>score</th>\n",
       "    </tr>\n",
       "    <tr>\n",
       "      <th>student</th>\n",
       "      <th></th>\n",
       "    </tr>\n",
       "  </thead>\n",
       "  <tbody>\n",
       "    <tr>\n",
       "      <th>小强</th>\n",
       "      <td>97</td>\n",
       "    </tr>\n",
       "    <tr>\n",
       "      <th>小明</th>\n",
       "      <td>78</td>\n",
       "    </tr>\n",
       "    <tr>\n",
       "      <th>小红</th>\n",
       "      <td>84</td>\n",
       "    </tr>\n",
       "  </tbody>\n",
       "</table>\n",
       "</div>"
      ],
      "text/plain": [
       "         score\n",
       "student       \n",
       "小强          97\n",
       "小明          78\n",
       "小红          84"
      ]
     },
     "execution_count": 237,
     "metadata": {},
     "output_type": "execute_result"
    }
   ],
   "source": [
    "maxDF = pd.DataFrame(data=groupDF.score.max())\n",
    "maxDF"
   ]
  },
  {
   "cell_type": "code",
   "execution_count": 243,
   "id": "845aa175",
   "metadata": {
    "tags": []
   },
   "outputs": [
    {
     "data": {
      "text/html": [
       "<div>\n",
       "<style scoped>\n",
       "    .dataframe tbody tr th:only-of-type {\n",
       "        vertical-align: middle;\n",
       "    }\n",
       "\n",
       "    .dataframe tbody tr th {\n",
       "        vertical-align: top;\n",
       "    }\n",
       "\n",
       "    .dataframe thead th {\n",
       "        text-align: right;\n",
       "    }\n",
       "</style>\n",
       "<table border=\"1\" class=\"dataframe\">\n",
       "  <thead>\n",
       "    <tr style=\"text-align: right;\">\n",
       "      <th></th>\n",
       "      <th>student</th>\n",
       "      <th>course</th>\n",
       "      <th>score_学生</th>\n",
       "      <th>score_均值</th>\n",
       "      <th>score</th>\n",
       "    </tr>\n",
       "  </thead>\n",
       "  <tbody>\n",
       "    <tr>\n",
       "      <th>0</th>\n",
       "      <td>小强</td>\n",
       "      <td>python</td>\n",
       "      <td>65</td>\n",
       "      <td>82.000000</td>\n",
       "      <td>97</td>\n",
       "    </tr>\n",
       "    <tr>\n",
       "      <th>3</th>\n",
       "      <td>小强</td>\n",
       "      <td>spark</td>\n",
       "      <td>97</td>\n",
       "      <td>82.000000</td>\n",
       "      <td>97</td>\n",
       "    </tr>\n",
       "    <tr>\n",
       "      <th>6</th>\n",
       "      <td>小强</td>\n",
       "      <td>hadoop</td>\n",
       "      <td>84</td>\n",
       "      <td>82.000000</td>\n",
       "      <td>97</td>\n",
       "    </tr>\n",
       "    <tr>\n",
       "      <th>1</th>\n",
       "      <td>小红</td>\n",
       "      <td>python</td>\n",
       "      <td>84</td>\n",
       "      <td>78.666667</td>\n",
       "      <td>84</td>\n",
       "    </tr>\n",
       "    <tr>\n",
       "      <th>4</th>\n",
       "      <td>小红</td>\n",
       "      <td>spark</td>\n",
       "      <td>77</td>\n",
       "      <td>78.666667</td>\n",
       "      <td>84</td>\n",
       "    </tr>\n",
       "    <tr>\n",
       "      <th>7</th>\n",
       "      <td>小红</td>\n",
       "      <td>hadoop</td>\n",
       "      <td>75</td>\n",
       "      <td>78.666667</td>\n",
       "      <td>84</td>\n",
       "    </tr>\n",
       "    <tr>\n",
       "      <th>2</th>\n",
       "      <td>小明</td>\n",
       "      <td>python</td>\n",
       "      <td>78</td>\n",
       "      <td>68.333333</td>\n",
       "      <td>78</td>\n",
       "    </tr>\n",
       "    <tr>\n",
       "      <th>5</th>\n",
       "      <td>小明</td>\n",
       "      <td>spark</td>\n",
       "      <td>62</td>\n",
       "      <td>68.333333</td>\n",
       "      <td>78</td>\n",
       "    </tr>\n",
       "    <tr>\n",
       "      <th>8</th>\n",
       "      <td>小明</td>\n",
       "      <td>hadoop</td>\n",
       "      <td>65</td>\n",
       "      <td>68.333333</td>\n",
       "      <td>78</td>\n",
       "    </tr>\n",
       "  </tbody>\n",
       "</table>\n",
       "</div>"
      ],
      "text/plain": [
       "  student  course  score_学生   score_均值  score\n",
       "0      小强  python        65  82.000000     97\n",
       "3      小强   spark        97  82.000000     97\n",
       "6      小强  hadoop        84  82.000000     97\n",
       "1      小红  python        84  78.666667     84\n",
       "4      小红   spark        77  78.666667     84\n",
       "7      小红  hadoop        75  78.666667     84\n",
       "2      小明  python        78  68.333333     78\n",
       "5      小明   spark        62  68.333333     78\n",
       "8      小明  hadoop        65  68.333333     78"
      ]
     },
     "execution_count": 243,
     "metadata": {},
     "output_type": "execute_result"
    }
   ],
   "source": [
    "df1 = pd.merge(df, avgDF, left_on=\"student\", right_index=True, suffixes=[\"_学生\", \"_均值\"])\n",
    "df1\n",
    "df2 = pd.merge(df1, maxDF, left_on=\"student\", right_index=True)\n",
    "df2"
   ]
  },
  {
   "cell_type": "markdown",
   "id": "93dc72eb-ca17-44ed-96c4-e808c5f05507",
   "metadata": {},
   "source": [
    "### df.agg"
   ]
  },
  {
   "cell_type": "code",
   "execution_count": 244,
   "id": "bf8524c6",
   "metadata": {
    "tags": []
   },
   "outputs": [
    {
     "data": {
      "text/plain": [
       "{'小强': [0, 3, 6], '小明': [2, 5, 8], '小红': [1, 4, 7]}"
      ]
     },
     "execution_count": 244,
     "metadata": {},
     "output_type": "execute_result"
    }
   ],
   "source": [
    "groupDF.groups"
   ]
  },
  {
   "cell_type": "code",
   "execution_count": 247,
   "id": "ddd36ef0",
   "metadata": {
    "tags": []
   },
   "outputs": [
    {
     "data": {
      "text/html": [
       "<div>\n",
       "<style scoped>\n",
       "    .dataframe tbody tr th:only-of-type {\n",
       "        vertical-align: middle;\n",
       "    }\n",
       "\n",
       "    .dataframe tbody tr th {\n",
       "        vertical-align: top;\n",
       "    }\n",
       "\n",
       "    .dataframe thead tr th {\n",
       "        text-align: left;\n",
       "    }\n",
       "\n",
       "    .dataframe thead tr:last-of-type th {\n",
       "        text-align: right;\n",
       "    }\n",
       "</style>\n",
       "<table border=\"1\" class=\"dataframe\">\n",
       "  <thead>\n",
       "    <tr>\n",
       "      <th></th>\n",
       "      <th colspan=\"3\" halign=\"left\">score</th>\n",
       "    </tr>\n",
       "    <tr>\n",
       "      <th></th>\n",
       "      <th>mean</th>\n",
       "      <th>max</th>\n",
       "      <th>min</th>\n",
       "    </tr>\n",
       "    <tr>\n",
       "      <th>student</th>\n",
       "      <th></th>\n",
       "      <th></th>\n",
       "      <th></th>\n",
       "    </tr>\n",
       "  </thead>\n",
       "  <tbody>\n",
       "    <tr>\n",
       "      <th>小强</th>\n",
       "      <td>82.000000</td>\n",
       "      <td>97</td>\n",
       "      <td>65</td>\n",
       "    </tr>\n",
       "    <tr>\n",
       "      <th>小明</th>\n",
       "      <td>68.333333</td>\n",
       "      <td>78</td>\n",
       "      <td>62</td>\n",
       "    </tr>\n",
       "    <tr>\n",
       "      <th>小红</th>\n",
       "      <td>78.666667</td>\n",
       "      <td>84</td>\n",
       "      <td>75</td>\n",
       "    </tr>\n",
       "  </tbody>\n",
       "</table>\n",
       "</div>"
      ],
      "text/plain": [
       "             score        \n",
       "              mean max min\n",
       "student                   \n",
       "小强       82.000000  97  65\n",
       "小明       68.333333  78  62\n",
       "小红       78.666667  84  75"
      ]
     },
     "execution_count": 247,
     "metadata": {},
     "output_type": "execute_result"
    }
   ],
   "source": [
    "groupDF.agg({\"score\": [\"mean\", \"max\", \"min\"]})"
   ]
  },
  {
   "cell_type": "markdown",
   "id": "4e7b5af3-66dc-4e19-ae8e-6b9051732602",
   "metadata": {},
   "source": [
    "## 数据排序\n",
    "- df.sort_values(column_name)\t按照指定列的值排序\n",
    "- df.sort_values([column_name1, column_name2], ascending=[True, False])\t按照多个列的值排序\n",
    "- df.sort_index()\t按照索引排序"
   ]
  },
  {
   "cell_type": "code",
   "execution_count": 261,
   "id": "7a86836e-58cd-4d66-8524-664b9e7f3a82",
   "metadata": {
    "tags": []
   },
   "outputs": [
    {
     "data": {
      "text/html": [
       "<div>\n",
       "<style scoped>\n",
       "    .dataframe tbody tr th:only-of-type {\n",
       "        vertical-align: middle;\n",
       "    }\n",
       "\n",
       "    .dataframe tbody tr th {\n",
       "        vertical-align: top;\n",
       "    }\n",
       "\n",
       "    .dataframe thead th {\n",
       "        text-align: right;\n",
       "    }\n",
       "</style>\n",
       "<table border=\"1\" class=\"dataframe\">\n",
       "  <thead>\n",
       "    <tr style=\"text-align: right;\">\n",
       "      <th></th>\n",
       "      <th>score</th>\n",
       "    </tr>\n",
       "  </thead>\n",
       "  <tbody>\n",
       "    <tr>\n",
       "      <th>4</th>\n",
       "      <td>83</td>\n",
       "    </tr>\n",
       "    <tr>\n",
       "      <th>3</th>\n",
       "      <td>10</td>\n",
       "    </tr>\n",
       "    <tr>\n",
       "      <th>2</th>\n",
       "      <td>86</td>\n",
       "    </tr>\n",
       "    <tr>\n",
       "      <th>1</th>\n",
       "      <td>0</td>\n",
       "    </tr>\n",
       "    <tr>\n",
       "      <th>0</th>\n",
       "      <td>83</td>\n",
       "    </tr>\n",
       "  </tbody>\n",
       "</table>\n",
       "</div>"
      ],
      "text/plain": [
       "   score\n",
       "4     83\n",
       "3     10\n",
       "2     86\n",
       "1      0\n",
       "0     83"
      ]
     },
     "execution_count": 261,
     "metadata": {},
     "output_type": "execute_result"
    }
   ],
   "source": [
    "df = pd.DataFrame(data=np.random.randint(0, 100, 5), columns=['score'])\n",
    "df.sort_values('score', ascending=False)\n",
    "df.sort_index(ascending=False)"
   ]
  },
  {
   "cell_type": "markdown",
   "id": "b1074a4c-4e09-46fc-84d9-2c9c1378c6c1",
   "metadata": {
    "tags": []
   },
   "source": [
    "# matplotlib\n",
    "- 参考文档\n",
    "    - [matplotlib官网](https://matplotlib.org/stable/tutorials/index.html)\n",
    "    - [matplotlib 菜鸟教程](https://www.runoob.com/matplotlib/matplotlib-tutorial.html)\n",
    "\n",
    "## matplotlib绘图标记\n",
    "1. fmt参数,fmt 参数定义了基本格式，如标记、线条样式和颜色\n",
    "      - fmt = '[marker][line][color]',如o:r，o 表示实心圆标记，: 表示虚线，r 表示颜色为红色\n",
    "1. 标记大小与颜色\n",
    "      - markersize，简写为 ms：定义标记的大小\n",
    "      - markerfacecolor，简写为 mfc：定义标记内部的颜色\n",
    "      - markeredgecolor，简写为 mec：定义标记边框的颜色"
   ]
  },
  {
   "cell_type": "code",
   "execution_count": 35,
   "id": "a6b8b8d4-c816-4e81-b46f-ffb96055121f",
   "metadata": {
    "tags": []
   },
   "outputs": [
    {
     "data": {
      "text/plain": [
       "'3.6.0'"
      ]
     },
     "execution_count": 35,
     "metadata": {},
     "output_type": "execute_result"
    }
   ],
   "source": [
    "import matplotlib\n",
    "import matplotlib.pyplot as plt\n",
    "matplotlib.__version__"
   ]
  },
  {
   "cell_type": "markdown",
   "id": "80b05f3f-bf48-46a7-b06b-ccc5824ca048",
   "metadata": {},
   "source": [
    "## line"
   ]
  },
  {
   "cell_type": "markdown",
   "id": "bd98d7ec-51f3-421f-9932-f5d53c422ec1",
   "metadata": {},
   "source": [
    "### 直线"
   ]
  },
  {
   "cell_type": "code",
   "execution_count": 37,
   "id": "722af853-85bf-4e02-8c51-2ecf17726db6",
   "metadata": {
    "tags": []
   },
   "outputs": [
    {
     "data": {
      "image/png": "[encoded data removed]",
      "text/plain": [
       "<Figure size 640x480 with 1 Axes>"
      ]
     },
     "metadata": {},
     "output_type": "display_data"
    },
    {
     "data": {
      "image/png": "[encoded data removed]",
      "text/plain": [
       "<Figure size 640x480 with 1 Axes>"
      ]
     },
     "metadata": {},
     "output_type": "display_data"
    }
   ],
   "source": [
    "from matplotlib import pyplot as plt\n",
    "\n",
    "x = np.arange(1, 11)\n",
    "y = 2 * x + 5\n",
    "plt.title(\"Line\")\n",
    "plt.xlabel(\"x axis\")\n",
    "plt.ylabel(\"y axis\")\n",
    "plt.plot(x, y)\n",
    "plt.show()\n",
    "\n",
    "# 只绘制坐标点\n",
    "plt.plot(x, y, 'o')\n",
    "plt.show()"
   ]
  },
  {
   "cell_type": "markdown",
   "id": "85d893aa-8fcb-4996-9318-71c7e55d7d86",
   "metadata": {},
   "source": [
    "### 折线"
   ]
  },
  {
   "cell_type": "code",
   "execution_count": 38,
   "id": "b12da8c8-cbda-4c0e-8694-f8e4f809e243",
   "metadata": {
    "tags": []
   },
   "outputs": [
    {
     "data": {
      "image/png": "[encoded data removed]",
      "text/plain": [
       "<Figure size 640x480 with 1 Axes>"
      ]
     },
     "metadata": {},
     "output_type": "display_data"
    }
   ],
   "source": [
    "# 绘制折线\n",
    "x=np.array([1,2,6,8,10])\n",
    "y=np.array([7,3,9,4,8])\n",
    "plt.plot(x,y)\n",
    "plt.show()"
   ]
  },
  {
   "cell_type": "markdown",
   "id": "48b29754-8852-436f-abaa-25855e7edc6d",
   "metadata": {},
   "source": [
    "### 不指定x轴的点"
   ]
  },
  {
   "cell_type": "code",
   "execution_count": 39,
   "id": "e14544a2-01e1-4f04-9e26-17fb13c311d0",
   "metadata": {
    "tags": []
   },
   "outputs": [
    {
     "data": {
      "image/png": "[encoded data removed]",
      "text/plain": [
       "<Figure size 640x480 with 1 Axes>"
      ]
     },
     "metadata": {},
     "output_type": "display_data"
    }
   ],
   "source": [
    "# 不指定x轴的点,x轴默认值[0,1]\n",
    "y=np.array([1,500])\n",
    "plt.plot(y)\n",
    "plt.show()"
   ]
  },
  {
   "cell_type": "code",
   "execution_count": 40,
   "id": "f08623c9-6668-4f52-93ab-ac4ee23fe998",
   "metadata": {
    "tags": []
   },
   "outputs": [
    {
     "data": {
      "image/png": "[encoded data removed]",
      "text/plain": [
       "<Figure size 640x480 with 1 Axes>"
      ]
     },
     "metadata": {},
     "output_type": "display_data"
    }
   ],
   "source": [
    "# 不指定x轴的点,x轴默认值[0, 1, 2, 3, 4, 5]\n",
    "y=np.array([8,6,9,3,7,1])\n",
    "plt.plot(y)\n",
    "plt.show()"
   ]
  },
  {
   "cell_type": "markdown",
   "id": "fe4fc940-8c8d-490f-8287-2cdf73811d70",
   "metadata": {},
   "source": [
    "### 正弦/余弦绘图"
   ]
  },
  {
   "cell_type": "code",
   "execution_count": 41,
   "id": "0888ab41-7b38-444f-80a7-237e2ea3e6ed",
   "metadata": {
    "tags": []
   },
   "outputs": [
    {
     "data": {
      "image/png": "[encoded data removed]",
      "text/plain": [
       "<Figure size 640x480 with 1 Axes>"
      ]
     },
     "metadata": {},
     "output_type": "display_data"
    }
   ],
   "source": [
    "# 正弦/余弦绘图\n",
    "x=np.arange(0, 4*np.pi, 0.1) # start,stop,step\n",
    "y=np.sin(x)\n",
    "z=np.cos(x)\n",
    "plt.plot(x,y,x,z)\n",
    "plt.show()"
   ]
  },
  {
   "cell_type": "markdown",
   "id": "4a31f96d-554f-4c47-8669-1818996977b0",
   "metadata": {},
   "source": [
    "### 绘图标记"
   ]
  },
  {
   "cell_type": "code",
   "execution_count": 43,
   "id": "1c17f6a4-29a5-46e2-bd98-a63e999c5806",
   "metadata": {
    "tags": []
   },
   "outputs": [
    {
     "data": {
      "image/png": "[encoded data removed]",
      "text/plain": [
       "<Figure size 640x480 with 1 Axes>"
      ]
     },
     "metadata": {},
     "output_type": "display_data"
    },
    {
     "data": {
      "image/png": "[encoded data removed]",
      "text/plain": [
       "<Figure size 640x480 with 1 Axes>"
      ]
     },
     "metadata": {},
     "output_type": "display_data"
    }
   ],
   "source": [
    "y=np.array([1,3,7,9])\n",
    "plt.plot(y, marker='o')\n",
    "plt.show()\n",
    "\n",
    "plt.plot(y, \"o:r\")\n",
    "plt.show()"
   ]
  },
  {
   "cell_type": "markdown",
   "id": "76b5fbe0-91d0-4b83-8a52-95fe27884c73",
   "metadata": {
    "tags": []
   },
   "source": [
    "### 案例-多任务耗时图"
   ]
  },
  {
   "cell_type": "code",
   "execution_count": 47,
   "id": "f409039e-4465-4046-bbe6-81e1449bab72",
   "metadata": {
    "tags": []
   },
   "outputs": [
    {
     "data": {
      "text/html": [
       "<div>\n",
       "<style scoped>\n",
       "    .dataframe tbody tr th:only-of-type {\n",
       "        vertical-align: middle;\n",
       "    }\n",
       "\n",
       "    .dataframe tbody tr th {\n",
       "        vertical-align: top;\n",
       "    }\n",
       "\n",
       "    .dataframe thead th {\n",
       "        text-align: right;\n",
       "    }\n",
       "</style>\n",
       "<table border=\"1\" class=\"dataframe\">\n",
       "  <thead>\n",
       "    <tr style=\"text-align: right;\">\n",
       "      <th></th>\n",
       "      <th>task</th>\n",
       "      <th>spentTime</th>\n",
       "    </tr>\n",
       "    <tr>\n",
       "      <th>runDate</th>\n",
       "      <th></th>\n",
       "      <th></th>\n",
       "    </tr>\n",
       "  </thead>\n",
       "  <tbody>\n",
       "    <tr>\n",
       "      <th>2020-09-01</th>\n",
       "      <td>task1</td>\n",
       "      <td>50</td>\n",
       "    </tr>\n",
       "    <tr>\n",
       "      <th>2020-09-01</th>\n",
       "      <td>task2</td>\n",
       "      <td>46</td>\n",
       "    </tr>\n",
       "    <tr>\n",
       "      <th>2020-09-02</th>\n",
       "      <td>task1</td>\n",
       "      <td>55</td>\n",
       "    </tr>\n",
       "    <tr>\n",
       "      <th>2020-09-02</th>\n",
       "      <td>task2</td>\n",
       "      <td>60</td>\n",
       "    </tr>\n",
       "    <tr>\n",
       "      <th>2020-09-03</th>\n",
       "      <td>task1</td>\n",
       "      <td>48</td>\n",
       "    </tr>\n",
       "    <tr>\n",
       "      <th>2020-09-03</th>\n",
       "      <td>task2</td>\n",
       "      <td>53</td>\n",
       "    </tr>\n",
       "    <tr>\n",
       "      <th>2020-09-04</th>\n",
       "      <td>task1</td>\n",
       "      <td>88</td>\n",
       "    </tr>\n",
       "    <tr>\n",
       "      <th>2020-09-04</th>\n",
       "      <td>task2</td>\n",
       "      <td>99</td>\n",
       "    </tr>\n",
       "  </tbody>\n",
       "</table>\n",
       "</div>"
      ],
      "text/plain": [
       "             task  spentTime\n",
       "runDate                     \n",
       "2020-09-01  task1         50\n",
       "2020-09-01  task2         46\n",
       "2020-09-02  task1         55\n",
       "2020-09-02  task2         60\n",
       "2020-09-03  task1         48\n",
       "2020-09-03  task2         53\n",
       "2020-09-04  task1         88\n",
       "2020-09-04  task2         99"
      ]
     },
     "metadata": {},
     "output_type": "display_data"
    },
    {
     "data": {
      "image/png": "[encoded data removed]",
      "text/plain": [
       "<Figure size 600x300 with 1 Axes>"
      ]
     },
     "metadata": {},
     "output_type": "display_data"
    }
   ],
   "source": [
    "import pandas as pd\n",
    "\n",
    "df = pd.DataFrame(data=[\n",
    "    ['2020-09-01', 'task1', 50],\n",
    "    ['2020-09-02', 'task1', 55],\n",
    "    ['2020-09-03', 'task1', 48],\n",
    "    ['2020-09-04', 'task1', 88],\n",
    "    ['2020-09-01', 'task2', 46],\n",
    "    ['2020-09-02', 'task2', 60],\n",
    "    ['2020-09-03', 'task2', 53],\n",
    "    ['2020-09-04', 'task2', 99],\n",
    "], columns=[\"runDate\", \"task\", \"spentTime\"])\n",
    "\n",
    "# 设置pandas.DataFrame index并对数据按runDate列进行排序\n",
    "df = df.set_index(\"runDate\").sort_values(by=[\"runDate\"])\n",
    "display(df)\n",
    "\n",
    "# 获取索引列值数组\n",
    "x = df.index.drop_duplicates().to_list()\n",
    "\n",
    "# 按task列进行分组\n",
    "gdf=df.groupby(\"task\")\n",
    "\n",
    "# 按spentTime列作为y抽的值进行折线图绘图\n",
    "gdf[\"spentTime\"].plot(marker='o', figsize=(6,3), legend=True)\n",
    "\n",
    "# 设置x轴的标签显示间隔、标签值、标签旋转度\n",
    "plt.xticks(ticks=[i for i in range(len(x))], labels=x, rotation=30)\n",
    "\n",
    "plt.show()"
   ]
  },
  {
   "cell_type": "markdown",
   "id": "fb4b1aba-6660-47fd-86e9-d80a32ca8ef5",
   "metadata": {},
   "source": [
    "## bar"
   ]
  },
  {
   "cell_type": "code",
   "execution_count": 32,
   "id": "d076dda7-357c-4f92-b661-484974482ad3",
   "metadata": {
    "tags": []
   },
   "outputs": [
    {
     "data": {
      "image/png": "[encoded data removed]",
      "text/plain": [
       "<Figure size 640x480 with 1 Axes>"
      ]
     },
     "metadata": {},
     "output_type": "display_data"
    }
   ],
   "source": [
    "from matplotlib import pyplot as plt\n",
    "\n",
    "x = [5, 8, 10]\n",
    "y = [12, 16, 6]\n",
    "x2 = [6, 9, 11]\n",
    "y2 = [6, 15, 7]\n",
    "plt.bar(x, y, align='center')\n",
    "plt.bar(x2, y2, color='g', align='center')\n",
    "plt.title('Bar')\n",
    "plt.ylabel('y axis')\n",
    "plt.xlabel('x axis')\n",
    "plt.show()"
   ]
  },
  {
   "cell_type": "markdown",
   "id": "5380ce6f-b421-46e6-929a-fece6a77473f",
   "metadata": {},
   "source": [
    "## hist"
   ]
  },
  {
   "cell_type": "code",
   "execution_count": 33,
   "id": "75a721b6-7bfe-4084-9100-5850aa4ee911",
   "metadata": {
    "tags": []
   },
   "outputs": [
    {
     "data": {
      "image/png": "[encoded data removed]",
      "text/plain": [
       "<Figure size 640x480 with 1 Axes>"
      ]
     },
     "metadata": {},
     "output_type": "display_data"
    }
   ],
   "source": [
    "# 数据的频率分布的图\n",
    "a = np.array([22,87,5,43,56,73,55,54,11,20,51,5,79,31,27]) \n",
    "# a=np.random.randint(0,100, 30)\n",
    "plt.hist(a, bins =  [0,20,40,60,80,100]) \n",
    "# plt.hist(a)\n",
    "plt.title(\"histogram\") \n",
    "plt.show()"
   ]
  }
 ],
 "metadata": {
  "celltoolbar": "原始单元格格式",
  "kernelspec": {
   "display_name": "Python 3 (ipykernel)",
   "language": "python",
   "name": "python3"
  },
  "language_info": {
   "codemirror_mode": {
    "name": "ipython",
    "version": 3
   },
   "file_extension": ".py",
   "mimetype": "text/x-python",
   "name": "python",
   "nbconvert_exporter": "python",
   "pygments_lexer": "ipython3",
   "version": "3.10.7"
  },
  "toc-autonumbering": true,
  "toc-showmarkdowntxt": false
 },
 "nbformat": 4,
 "nbformat_minor": 5
}
