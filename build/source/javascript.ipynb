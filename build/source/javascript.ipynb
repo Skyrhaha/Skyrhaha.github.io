{
 "cells": [
  {
   "cell_type": "markdown",
   "id": "931ada05-7694-42e9-824f-9e9e25f10ac3",
   "metadata": {},
   "source": [
    "# js预解析"
   ]
  },
  {
   "cell_type": "code",
   "execution_count": 3,
   "id": "583a30d0-c92d-47c8-8b6f-4a2da412c9e8",
   "metadata": {
    "tags": []
   },
   "outputs": [
    {
     "data": {
      "text/html": [
       "\n",
       "<!DOCTYPE html>\n",
       "<html lang=\"en\">\n",
       "<head>\n",
       "    <meta charset=\"UTF-8\">\n",
       "    <meta name=\"viewport\" content=\"width=device-width, initial-scale=1.0\">\n",
       "    <title>Document</title>\n",
       "</head>\n",
       "<body>\n",
       "    <script>\n",
       "        var otherBefore = 111;\n",
       "    </script>\n",
       "    <script>\n",
       "        // 1问\n",
       "        console.log(num);\n",
       "        // 2问\n",
       "        console.log('num=', num); //坑1： 此处并不会报错,而是输出num= undefined\n",
       "        var num = 10;\n",
       "        /*\n",
       "         变量提升,相当于 \n",
       "         var num;\n",
       "         console.log('num=', num); \n",
       "         num = 10;\n",
       "        */\n",
       "        // 3问\n",
       "        // function fn() {\n",
       "        //     console.log('fn() exec...', 11);\n",
       "        // }\n",
       "        // fn(); //fn()能调用\n",
       "        fn(); //fn()能调用吗？也是可以的\n",
       "        function fn() {\n",
       "            console.log('fn() exec...', 11);\n",
       "        }\n",
       "        // 4问\n",
       "        // var fun = function() {\n",
       "        //     console.log('fun() exec...', 22);\n",
       "        // }\n",
       "        // fun();//fun()能调用\n",
       "        // fun();//fun()能调用吗? 不能，报错: Uncaught TypeError: fun is not a function\n",
       "        var fun = function () {\n",
       "            console.log('fun() exec...', 22);\n",
       "        }\n",
       "        /*\n",
       "         fun是变量，变量提升,fun不是函数\n",
       "         */\n",
       "        // 1.js引擎运行js分为两步: 1.预解析 2.代码执行\n",
       "        // (1).预解析：js引擎会将js里面所有的var和函数提升到当前作用域的最前面\n",
       "        // (2).代码执行：按照代码的书写顺序执行\n",
       "        // 2.预解析分为 变量预解析（变量提升） 和 函数预解析（函数提升)\n",
       "        // (1).变量提升：就是把变量声明提升到当前作用域的最前面，不提升赋值（****）\n",
       "        // (2).函数提升：就是把所有的使用函数关键字function声明的函数提升到当前作用域的最前面，fun=function(){}不会提升，这是函数表达式\n",
       "        console.log('otherBefore=', otherBefore); //otherBefore=111\n",
       "        console.log('otherAfter=', otherAfter); //报错: Uncaught ReferenceError: otherAfter is not defined\n",
       "    </script>\n",
       "    <script>\n",
       "        var otherAfter;\n",
       "    </script>\n",
       "</body>\n",
       "</html>\n",
       "\n",
       "案例\n",
       "<!DOCTYPE html>\n",
       "<html lang=\"en\">\n",
       "<head>\n",
       "    <meta charset=\"UTF-8\">\n",
       "    <meta name=\"viewport\" content=\"width=device-width, initial-scale=1.0\">\n",
       "    <title>Document</title>\n",
       "</head>\n",
       "<body>\n",
       "    <script>\n",
       "        //案例1\n",
       "        var num=10;\n",
       "        fn();\n",
       "        function fn() {\n",
       "            console.log(num); //由于变量提升原因,输出undefined\n",
       "            var num=20;\n",
       "        }\n",
       "        // 相当于\n",
       "        // var num;\n",
       "        // function fn() {\n",
       "        //     var num;\n",
       "        //     console.log(num);\n",
       "        //     num=20;\n",
       "        // }\n",
       "        // num=10\n",
       "        // fn();\n",
       "        //案例4\n",
       "        f1();\n",
       "        console.log(c);\n",
       "        console.log(b);\n",
       "        console.log(a);\n",
       "        function f1() {\n",
       "            var a=b=c=9;\n",
       "            console.log(a);\n",
       "            console.log(b);\n",
       "            console.log(c);\n",
       "        }\n",
       "        // 相当于\n",
       "        // b=9; c=9;\n",
       "        // function f1() {\n",
       "        //     // var a=b=c=9; \n",
       "        //     //相当于var a=9; b=9; c=9;并不是集体赋值,b和c没有var,是全局作用域\n",
       "        //     //集体赋值为 var a=9,b=9,c=9;\n",
       "        //     var a;\n",
       "        //     a = 9;\n",
       "        //     console.log(a); //a=9\n",
       "        //     console.log(b); //b=9\n",
       "        //     console.log(c); //c=9\n",
       "        // }\n",
       "        // f1();\n",
       "        // console.log(c); //9\n",
       "        // console.log(b); //9\n",
       "        // console.log(a); //报错：Uncaught ReferenceError: a is not defined\n",
       "    </script>\n",
       "</body>\n",
       "</html>\n"
      ],
      "text/plain": [
       "<IPython.core.display.HTML object>"
      ]
     },
     "metadata": {},
     "output_type": "display_data"
    }
   ],
   "source": [
    "%%html\n",
    "\n",
    "<!DOCTYPE html>\n",
    "<html lang=\"en\">\n",
    "<head>\n",
    "    <meta charset=\"UTF-8\">\n",
    "    <meta name=\"viewport\" content=\"width=device-width, initial-scale=1.0\">\n",
    "    <title>Document</title>\n",
    "</head>\n",
    "<body>\n",
    "    <script>\n",
    "        var otherBefore = 111;\n",
    "    </script>\n",
    "    <script>\n",
    "        // 1问\n",
    "        console.log(num);\n",
    "        // 2问\n",
    "        console.log('num=', num); //坑1： 此处并不会报错,而是输出num= undefined\n",
    "        var num = 10;\n",
    "        /*\n",
    "         变量提升,相当于 \n",
    "         var num;\n",
    "         console.log('num=', num); \n",
    "         num = 10;\n",
    "        */\n",
    "        // 3问\n",
    "        // function fn() {\n",
    "        //     console.log('fn() exec...', 11);\n",
    "        // }\n",
    "        // fn(); //fn()能调用\n",
    "        fn(); //fn()能调用吗？也是可以的\n",
    "        function fn() {\n",
    "            console.log('fn() exec...', 11);\n",
    "        }\n",
    "        // 4问\n",
    "        // var fun = function() {\n",
    "        //     console.log('fun() exec...', 22);\n",
    "        // }\n",
    "        // fun();//fun()能调用\n",
    "        // fun();//fun()能调用吗? 不能，报错: Uncaught TypeError: fun is not a function\n",
    "        var fun = function () {\n",
    "            console.log('fun() exec...', 22);\n",
    "        }\n",
    "        /*\n",
    "         fun是变量，变量提升,fun不是函数\n",
    "         */\n",
    "        // 1.js引擎运行js分为两步: 1.预解析 2.代码执行\n",
    "        // (1).预解析：js引擎会将js里面所有的var和函数提升到当前作用域的最前面\n",
    "        // (2).代码执行：按照代码的书写顺序执行\n",
    "        // 2.预解析分为 变量预解析（变量提升） 和 函数预解析（函数提升)\n",
    "        // (1).变量提升：就是把变量声明提升到当前作用域的最前面，不提升赋值（****）\n",
    "        // (2).函数提升：就是把所有的使用函数关键字function声明的函数提升到当前作用域的最前面，fun=function(){}不会提升，这是函数表达式\n",
    "        console.log('otherBefore=', otherBefore); //otherBefore=111\n",
    "        console.log('otherAfter=', otherAfter); //报错: Uncaught ReferenceError: otherAfter is not defined\n",
    "    </script>\n",
    "    <script>\n",
    "        var otherAfter;\n",
    "    </script>\n",
    "</body>\n",
    "</html>\n",
    "\n",
    "案例\n",
    "<!DOCTYPE html>\n",
    "<html lang=\"en\">\n",
    "<head>\n",
    "    <meta charset=\"UTF-8\">\n",
    "    <meta name=\"viewport\" content=\"width=device-width, initial-scale=1.0\">\n",
    "    <title>Document</title>\n",
    "</head>\n",
    "<body>\n",
    "    <script>\n",
    "        //案例1\n",
    "        var num=10;\n",
    "        fn();\n",
    "        function fn() {\n",
    "            console.log(num); //由于变量提升原因,输出undefined\n",
    "            var num=20;\n",
    "        }\n",
    "        // 相当于\n",
    "        // var num;\n",
    "        // function fn() {\n",
    "        //     var num;\n",
    "        //     console.log(num);\n",
    "        //     num=20;\n",
    "        // }\n",
    "        // num=10\n",
    "        // fn();\n",
    "        //案例4\n",
    "        f1();\n",
    "        console.log(c);\n",
    "        console.log(b);\n",
    "        console.log(a);\n",
    "        function f1() {\n",
    "            var a=b=c=9;\n",
    "            console.log(a);\n",
    "            console.log(b);\n",
    "            console.log(c);\n",
    "        }\n",
    "        // 相当于\n",
    "        // b=9; c=9;\n",
    "        // function f1() {\n",
    "        //     // var a=b=c=9; \n",
    "        //     //相当于var a=9; b=9; c=9;并不是集体赋值,b和c没有var,是全局作用域\n",
    "        //     //集体赋值为 var a=9,b=9,c=9;\n",
    "        //     var a;\n",
    "        //     a = 9;\n",
    "        //     console.log(a); //a=9\n",
    "        //     console.log(b); //b=9\n",
    "        //     console.log(c); //c=9\n",
    "        // }\n",
    "        // f1();\n",
    "        // console.log(c); //9\n",
    "        // console.log(b); //9\n",
    "        // console.log(a); //报错：Uncaught ReferenceError: a is not defined\n",
    "    </script>\n",
    "</body>\n",
    "</html>"
   ]
  },
  {
   "cell_type": "markdown",
   "id": "f81b72eb-560e-4c41-9b0b-861d62ecbfab",
   "metadata": {
    "tags": []
   },
   "source": [
    "# Proxy"
   ]
  },
  {
   "cell_type": "code",
   "execution_count": 13,
   "id": "173f133d-fa8b-40b3-bcd7-7471eca3091e",
   "metadata": {
    "tags": [],
    "vscode": {
     "languageId": "javascript"
    }
   },
   "outputs": [
    {
     "data": {
      "application/javascript": [
       "\n",
       "const target = {\n",
       "\tmsg1: 'hello',\n",
       "\tmsg2: 'everyone'\n",
       "}\n",
       "\n",
       "const handler1={}\n",
       "const proxy1=new Proxy(target, handler1)\n",
       "console.log(proxy1.msg1, proxy1.msg2) // hello everyone\n",
       "\n",
       "const handler2={\n",
       "\tget(target,prop, receiver) {\n",
       "\t\treturn 'world'\n",
       "\t}\n",
       "}\n",
       "const proxy2=new Proxy(target, handler2)\n",
       "console.log(proxy2.msg1, proxy2.msg2) // world world\n",
       "\n",
       "const handler3={\n",
       "\tget(target,prop,receiver) {\n",
       "\t\tif (prop === 'msg2') {\n",
       "\t\t\treturn 'world'\n",
       "\t\t}\n",
       "\n",
       "\t\treturn Reflect.get(...arguments)\n",
       "\t}\n",
       "}\n",
       "const proxy3=new Proxy(target, handler3)\n",
       "console.log(proxy3.msg1, proxy3.msg2)\n"
      ],
      "text/plain": [
       "<IPython.core.display.Javascript object>"
      ]
     },
     "metadata": {},
     "output_type": "display_data"
    }
   ],
   "source": [
    "%%js\n",
    "\n",
    "const target = {\n",
    "\tmsg1: 'hello',\n",
    "\tmsg2: 'everyone'\n",
    "}\n",
    "\n",
    "const handler1={}\n",
    "const proxy1=new Proxy(target, handler1)\n",
    "console.log(proxy1.msg1, proxy1.msg2) // hello everyone\n",
    "\n",
    "const handler2={\n",
    "\tget(target,prop, receiver) {\n",
    "\t\treturn 'world'\n",
    "\t}\n",
    "}\n",
    "const proxy2=new Proxy(target, handler2)\n",
    "console.log(proxy2.msg1, proxy2.msg2) // world world\n",
    "\n",
    "const handler3={\n",
    "\tget(target,prop,receiver) {\n",
    "\t\tif (prop === 'msg2') {\n",
    "\t\t\treturn 'world'\n",
    "\t\t}\n",
    "\n",
    "\t\treturn Reflect.get(...arguments)\n",
    "\t}\n",
    "}\n",
    "const proxy3=new Proxy(target, handler3)\n",
    "console.log(proxy3.msg1, proxy3.msg2)\n"
   ]
  },
  {
   "cell_type": "markdown",
   "id": "6a99d179-a976-4e96-ae7b-fd23ec4be2e9",
   "metadata": {},
   "source": [
    "# Event"
   ]
  },
  {
   "cell_type": "markdown",
   "id": "e32349c2-d659-4619-bed5-993daaf3388c",
   "metadata": {},
   "source": [
    "## 事件注册\n",
    "```javascript\n",
    "eventTarget.addEventListerner(type, listener[, useCapture])\n",
    "// type: 事件类型, click、mouseover、不带on\n",
    "// listerner: 事件处理函数\n",
    "// useCapture: 可选,true/false, 默认值false\n",
    "//     - true 表示在事件捕获阶段调用事件处理程序\n",
    "//     - false 表示在事件冒泡阶段调用事件处理程序\n",
    "```"
   ]
  },
  {
   "cell_type": "markdown",
   "id": "b2e35a96-6fb1-48c0-bfea-29fbdba584b0",
   "metadata": {},
   "source": [
    "## 事件删除\n",
    "```javascript\n",
    "// 传统方式\n",
    "eventTarget.onclick = null;\n",
    "\n",
    "// 方法监听方式\n",
    "eventTarget.removeEventListerner(type, listerner[, useCapture]);\n",
    "eventTarget.detachEvent(eventNameWithOn, callback);\n",
    "```"
   ]
  },
  {
   "cell_type": "markdown",
   "id": "85bae91a-1add-4f0a-9541-a96f2cedc1a1",
   "metadata": {},
   "source": [
    "## DOM事件流\n",
    "- 事件流描述的是从页面接收事件的顺序\n",
    "- 事件发生时会在元素节点之间按照特定的顺序传播\n",
    "- 分为3个阶段:\n",
    "    - 捕获阶段\n",
    "    - 当前目标阶段\n",
    "    - 冒泡阶段\n",
    "    - 捕获阶段(document->html->body->div) => 目标阶段 => 冒泡阶段(div->body->html->document)\n",
    "- JavaScript代码只能执行捕获或者冒泡其中的一个阶段\n",
    "- 实际开发中很少使用事件捕获，更关注事件冒泡\n",
    "- onclick/attachEvent只能得到冒泡阶段\n",
    "- 有些事件没有冒泡,如onblur、onfocus、onmouseenter、onmouseleave"
   ]
  },
  {
   "cell_type": "markdown",
   "id": "115a9cc7-3f0c-4cdd-a401-3120cdc3c878",
   "metadata": {},
   "source": [
    "## 事件对象\n",
    "```javascript\n",
    "eventTarget.onclick = function(event) {}\n",
    "eventTarget.addEventListener('click', function(event){})\n",
    "// 这里的event就是事件对象,经常写成e或者evt\n",
    "// event对象代表事件的状态，如键盘按键状态、鼠标位置等\n",
    "```\n",
    "- 常见属性和方法\n",
    "    - e.target 返回触发事件的对象\n",
    "    - e.type 事件类型\n",
    "    - e.preventDefault() 阻止默认事件（默认行为）标准，如不让链接跳转\n",
    "    - e.stopPropagation() 阻止冒泡 标准"
   ]
  },
  {
   "cell_type": "markdown",
   "id": "37f53da4-d8f9-4e54-9b37-0f71d77e02a1",
   "metadata": {},
   "source": [
    "## 常用事件"
   ]
  },
  {
   "cell_type": "markdown",
   "id": "03ff13f7-b109-4ad0-a96e-4f19890d5834",
   "metadata": {},
   "source": [
    "### 常用鼠标事件\n",
    "- onclick\n",
    "- onmouseover 鼠标经过\n",
    "- onmouseout 鼠标离开\n",
    "- onfoucs 获得鼠标焦点\n",
    "- onblur 失去鼠标焦点\n",
    "- onmousemove 鼠标移动\n",
    "- onmouseup 鼠标弹起\n",
    "- onmousedown 鼠标按下\n",
    "- contextmenu\n",
    "    ```javascript\n",
    "    // 禁止鼠标右键菜单\n",
    "    document.addEventListener('contextmenu', function(e) {\n",
    "        e.preventDefault()\n",
    "    })\n",
    "    ```\n",
    "- selectstart\n",
    "    ```javascript\n",
    "    // 禁止鼠标选中\n",
    "    document.addEventListener('selectstart', function(e) {\n",
    "        e.preventDefault()\n",
    "    })\n",
    "    ```\n",
    "- MouseEvent\n",
    "    ```javascript\n",
    "    e.clientX 鼠标相对于浏览器窗口可视区的x坐标\n",
    "    e.clientY 鼠标相对于浏览器窗口可视区的y坐标\n",
    "    e.screenX 鼠标相对于电脑屏幕x坐标\n",
    "    e.screenY 鼠标相对于电脑屏幕y坐标\n",
    "    ```"
   ]
  },
  {
   "cell_type": "markdown",
   "id": "86202527-c82f-4608-b593-6e3c558fd6f3",
   "metadata": {
    "tags": []
   },
   "source": [
    "### 常用键盘事件\n",
    "- onkeydown 识别功能键，不区分大小写\n",
    "- onkeypress 不识别功能键，区分大小写\n",
    "- onkeyup 识别功能键，不区分大小写\n",
    "- KeyboardEvent\n",
    "    ```javascript\n",
    "    e.keyCode\n",
    "    ```"
   ]
  },
  {
   "cell_type": "markdown",
   "id": "e3d03453-6260-47f0-9541-423043d1ad7b",
   "metadata": {},
   "source": [
    "# BOM\n",
    "- window\n",
    "    - document\n",
    "    - location\n",
    "    - navigation\n",
    "    - screen\n",
    "    - history"
   ]
  },
  {
   "cell_type": "markdown",
   "id": "945634e0-7ba2-4a73-b28b-e71b04aadf54",
   "metadata": {},
   "source": [
    "## 事件"
   ]
  },
  {
   "cell_type": "markdown",
   "id": "1bcc0e6c-08c7-47d1-be49-b3ec0538fd51",
   "metadata": {},
   "source": [
    "### load事件\n",
    "- 当文档内容完成加载完成会触发该事件(包括图像、脚本、css等),调用处理函数\n",
    "\n",
    "    ```javascript\n",
    "    // 传统方式: 只能写一次，多次以最后一次为准\n",
    "    window.onload = function() {}\n",
    "\n",
    "    // addEventListener方式没有次数限制\n",
    "    window.addEventListener('load', function(){});\n",
    "    ```"
   ]
  },
  {
   "cell_type": "markdown",
   "id": "5ad49855-6312-4b9c-b50d-bae96e497f55",
   "metadata": {},
   "source": [
    "### DOMContentLoaded事件\n",
    "- 仅当DOM加载完成是触发，不包含css,图片等\n",
    "- 页面图片很多时使用onload需要比较长的时间，此时使用DOMContentLoaded比较合适"
   ]
  },
  {
   "cell_type": "markdown",
   "id": "1364515e-b2eb-40f6-9405-a8cbf7158153",
   "metadata": {
    "tags": []
   },
   "source": [
    "### resize事件\n",
    "- 调整窗口大小事件\n",
    "- window.innerWidth当前屏幕的宽度"
   ]
  },
  {
   "cell_type": "markdown",
   "id": "e0c202b3-026f-4d21-bb7d-d1db197635f9",
   "metadata": {},
   "source": [
    "## 定时器\n",
    "- window.setTimeout(调用函数, [延迟的毫秒数]);\n",
    "- window.setInterval(回调函数, [间隔的毫秒数]);\n",
    "- window.clearInterval(intervalID); 取消先前通过setInterval()建立的定时器"
   ]
  },
  {
   "cell_type": "markdown",
   "id": "9c521ca7-0195-40ed-8f34-e20438f841a6",
   "metadata": {},
   "source": [
    "## this\n",
    "- 一般情况下this的最终指向的是那个调用它的地方\n",
    "- 全局作用域或者普通函数中this执行window"
   ]
  },
  {
   "cell_type": "markdown",
   "id": "b6a73c55-cd92-417b-a8a1-6cf6cb99708d",
   "metadata": {},
   "source": [
    "## location对象\n",
    "- 属性\n",
    "    - location.href 整个URL\n",
    "    - location.host\n",
    "    - location.port\n",
    "    - location.pathname 路径\n",
    "    - location.search 参数\n",
    "    - location.hash `#`后面的内容，常见于链接锚点\n",
    "- 方法\n",
    "    - location.assign() 跟href一样,可跳转页面(也称为重定向页面)\n",
    "    - location.replace() 替换当前页面,不记录历史,不能后退\n",
    "    - location.reload() 重新加载页面"
   ]
  },
  {
   "cell_type": "markdown",
   "id": "c4d6690a-6536-4b3a-af29-b1cf6bd98a1b",
   "metadata": {},
   "source": [
    "## navigator对象\n",
    "- 包含有关浏览器的信息,最常用的是userAgent"
   ]
  },
  {
   "cell_type": "markdown",
   "id": "b6ebf3ce-997c-4e0a-9237-5f60f2ab9c43",
   "metadata": {},
   "source": [
    "## history对象\n",
    "- 包含用户访问过的URL\n",
    "- back() 后退\n",
    "- forward() 前进\n",
    "- go(参数) 前进或后退,go(1)前进一个页面,go(-1)后退一个页面"
   ]
  }
 ],
 "metadata": {
  "kernelspec": {
   "display_name": "Python 3 (ipykernel)",
   "language": "python",
   "name": "python3"
  },
  "language_info": {
   "codemirror_mode": {
    "name": "ipython",
    "version": 3
   },
   "file_extension": ".py",
   "mimetype": "text/x-python",
   "name": "python",
   "nbconvert_exporter": "python",
   "pygments_lexer": "ipython3",
   "version": "3.10.7"
  }
 },
 "nbformat": 4,
 "nbformat_minor": 5
}
