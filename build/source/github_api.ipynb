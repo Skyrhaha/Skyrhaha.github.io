{
 "cells": [
  {
   "cell_type": "markdown",
   "id": "aa2a2b30-f537-401a-8271-65e29fe654a7",
   "metadata": {},
   "source": [
    "# github api\n",
    "- https://docs.github.com/en/rest?apiVersion=2022-11-28"
   ]
  },
  {
   "cell_type": "markdown",
   "id": "99a4b072-a3e2-4b80-ab0e-204e09d7224b",
   "metadata": {},
   "source": [
    "## 准备"
   ]
  },
  {
   "cell_type": "code",
   "execution_count": null,
   "id": "1d7747a1-0263-4201-8def-e0095f67321d",
   "metadata": {
    "tags": []
   },
   "outputs": [],
   "source": [
    "import requests\n",
    "import json\n",
    "import base64\n",
    "\n",
    "# config in .ipython/profile_default/startup/00-github_api_config.py\n",
    "# owner = '<owner>'\n",
    "# repo = '<repo>'\n",
    "# github_personal_access_token = '<github personal access token>'\n",
    "\n",
    "owner = owner\n",
    "repo = repo\n",
    "github_personal_access_token = github_personal_access_token\n",
    "domain = 'https://api.github.com'\n",
    "\n",
    "\n",
    "def http_get(uri=None, **kargs):\n",
    "\n",
    "    url = f\"{domain}{uri}\"\n",
    "    print(f'get {url} ...')\n",
    "\n",
    "    res = requests.get(url=url, headers={\n",
    "        'Accept': 'application/vnd.github+json',\n",
    "        'Authorization': f'Bearer {github_personal_access_token}',\n",
    "        'X-GitHub-Api-Version': '2022-11-28'\n",
    "    }, params=kargs)\n",
    "\n",
    "    if res.status_code != 200:\n",
    "        print(f\"{res.status_code=}, {res.text=}\")\n",
    "        raise Exception(f\"{res.status_code=}, {res.text=}\")\n",
    "\n",
    "    result = json.loads(res.text)\n",
    "    # print(res.text)\n",
    "\n",
    "    # print(f\"{type(result)=}\")\n",
    "    return result"
   ]
  },
  {
   "cell_type": "markdown",
   "id": "f262fa9c-f730-4f35-9e45-cd828a7b09f7",
   "metadata": {},
   "source": [
    "# 获取文件内容与提交信息"
   ]
  },
  {
   "cell_type": "markdown",
   "id": "58b31c08-3868-4f96-8fcb-63af4305fa94",
   "metadata": {
    "tags": []
   },
   "source": [
    "## get a branch 获取分支的tree_sha\n",
    "- https://docs.github.com/en/rest/branches/branches?apiVersion=2022-11-28#get-a-branch"
   ]
  },
  {
   "cell_type": "code",
   "execution_count": null,
   "id": "99ac0461-cef9-4571-8fc9-50f38b129077",
   "metadata": {
    "tags": []
   },
   "outputs": [],
   "source": [
    "# curl -L \\\n",
    "#   -H \"Accept: application/vnd.github+json\" \\\n",
    "#   -H \"Authorization: Bearer <YOUR-TOKEN>\"\\\n",
    "#   -H \"X-GitHub-Api-Version: 2022-11-28\" \\\n",
    "#   https://api.github.com/repos/OWNER/REPO/branches/BRANCH\n",
    "\n",
    "def get_a_branch(branch):\n",
    "    uri = f\"/repos/{owner}/{repo}/branches/{branch}\"\n",
    "    return http_get(uri=uri)\n",
    "\n",
    "\n",
    "result = get_a_branch('main')\n",
    "tree_sha = result.get('commit').get('commit').get('tree').get('sha')\n",
    "\n",
    "print(f\"{tree_sha=}\")"
   ]
  },
  {
   "cell_type": "markdown",
   "id": "986bd108-cef1-488f-88a6-ac8b1fc9baf1",
   "metadata": {},
   "source": [
    "## get a tree 获取tree清单\n",
    "- https://docs.github.com/en/rest/git/trees?apiVersion=2022-11-28#get-a-tree"
   ]
  },
  {
   "cell_type": "code",
   "execution_count": null,
   "id": "bd249783-98dc-4850-aaba-c2931028ff32",
   "metadata": {
    "tags": []
   },
   "outputs": [],
   "source": [
    "# curl -L \\\n",
    "#   -H \"Accept: application/vnd.github+json\" \\\n",
    "#   -H \"Authorization: Bearer <YOUR-TOKEN>\"\\\n",
    "#   -H \"X-GitHub-Api-Version: 2022-11-28\" \\\n",
    "#   https://api.github.com/repos/OWNER/REPO/git/trees/TREE_SHA\n",
    "def get_a_tree(tree_sha):\n",
    "    uri = f\"/repos/{owner}/{repo}/git/trees/{tree_sha}?recursive=true\"\n",
    "    return http_get(uri)\n",
    "\n",
    "\n",
    "result = get_a_tree(tree_sha)\n",
    "\n",
    "file_list = []\n",
    "for e in result.get('tree'):\n",
    "    path = e.get('path')\n",
    "    type = e.get('type')\n",
    "    sha = e.get('sha')\n",
    "\n",
    "    # print('\\n---------------------------------')\n",
    "    # print(f\"{path=}, {type=}, {sha=}\")\n",
    "\n",
    "    if type == 'blob':\n",
    "        file_list.append({\n",
    "            'path': path,\n",
    "            'sha': sha\n",
    "        })\n",
    "\n",
    "print(file_list)"
   ]
  },
  {
   "cell_type": "markdown",
   "id": "6b2bd376-2234-4926-a3f2-d4a04c7f9677",
   "metadata": {},
   "source": [
    "## get a blob 获取文件内容\n",
    "- https://docs.github.com/en/rest/git/blobs?apiVersion=2022-11-28#get-a-blob"
   ]
  },
  {
   "cell_type": "code",
   "execution_count": null,
   "id": "d4553b2e-30dc-4eb5-838d-7618fbc9b678",
   "metadata": {
    "tags": []
   },
   "outputs": [],
   "source": [
    "# curl -L \\\n",
    "#   -H \"Accept: application/vnd.github+json\" \\\n",
    "#   -H \"Authorization: Bearer <YOUR-TOKEN>\"\\\n",
    "#   -H \"X-GitHub-Api-Version: 2022-11-28\" \\\n",
    "#   https://api.github.com/repos/OWNER/REPO/git/blobs/FILE_SHA\n",
    "def get_a_blob(file_sha):\n",
    "    uri = f'/repos/{owner}/{repo}/git/blobs/{file_sha}'\n",
    "    return http_get(uri=uri)\n",
    "\n",
    "\n",
    "for file in file_list:\n",
    "    result = get_a_blob(file.get('sha'))\n",
    "    content = result.get('content')\n",
    "    content = base64.b64decode(content).decode(encoding='utf-8')\n",
    "    file.setdefault('content', content)\n",
    "\n",
    "print(file_list)"
   ]
  },
  {
   "cell_type": "markdown",
   "id": "c7bba640-7d48-4515-b6e7-88000c120760",
   "metadata": {},
   "source": [
    "## list commits 获取提交信息\n",
    "- https://docs.github.com/en/rest/commits/commits?apiVersion=2022-11-28#list-commits"
   ]
  },
  {
   "cell_type": "code",
   "execution_count": null,
   "id": "03a65110-d12d-4f1d-bdec-881048e16662",
   "metadata": {
    "tags": []
   },
   "outputs": [],
   "source": [
    "# curl -L \\\n",
    "#   -H \"Accept: application/vnd.github+json\" \\\n",
    "#   -H \"Authorization: Bearer <YOUR-TOKEN>\"\\\n",
    "#   -H \"X-GitHub-Api-Version: 2022-11-28\" \\\n",
    "#   https://api.github.com/repos/OWNER/REPO/commits\n",
    "def list_commits(path=None):\n",
    "    uri = f'/repos/{owner}/{repo}/commits'\n",
    "    return http_get(uri=uri, path=path)\n",
    "\n",
    "\n",
    "for file in file_list:\n",
    "    path = file.get('path')\n",
    "    result = list_commits(path)\n",
    "    result = map(lambda item: {\n",
    "        'message': item.get('commit').get('message'),\n",
    "        'committer': item.get('commit').get('committer')\n",
    "    }, result)\n",
    "    # print(list(result))\n",
    "    file.setdefault('commit', list(result))\n",
    "\n",
    "\n",
    "print(json.dumps(file_list, indent=4))"
   ]
  }
 ],
 "metadata": {
  "kernelspec": {
   "display_name": "Python 3 (ipykernel)",
   "language": "python",
   "name": "python3"
  },
  "language_info": {
   "codemirror_mode": {
    "name": "ipython",
    "version": 3
   },
   "file_extension": ".py",
   "mimetype": "text/x-python",
   "name": "python",
   "nbconvert_exporter": "python",
   "pygments_lexer": "ipython3",
   "version": "3.10.7"
  }
 },
 "nbformat": 4,
 "nbformat_minor": 5
}
