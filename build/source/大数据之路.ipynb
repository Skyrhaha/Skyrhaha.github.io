{
 "cells": [
  {
   "cell_type": "markdown",
   "id": "b25ac82c-f34e-444b-8f05-5cb1fca7111b",
   "metadata": {},
   "source": [
    "# 数据技术\n",
    "# 数据模型\n",
    "    - 典型的数仓建设方法论\n",
    "        - ER模型\n",
    "        - 维度模型\n",
    "        - Data Vault模型\n",
    "        - Anchor模型\n",
    "    - 演变\n",
    "        - ODS+DSS -> ODL+BDL+IDL+ADL -> OneData\n",
    "## 名词术语\n",
    "- 数据域\n",
    "- 业务过程(事件)\n",
    "- 度量/原子指标: 如支付金额\n",
    "- 时间周期\n",
    "- 修饰类型: 如终端类型\n",
    "- 修饰词: 如手机支付、卡支付\n",
    "- 维度(实体对象): 如地域维度、时间维度\n",
    "- 维度属性: 如地域维度中的国家、省、市、区等\n",
    "- 派生指标: 原子指标+多个修饰词(可选)+时间周期, 如近一年的车票支付金额\n",
    "\n",
    "## 模型层次\n",
    "1. ODS\n",
    "1. CDM\n",
    "    - DWD\n",
    "    - DWS\n",
    "1. ADS\n",
    "\n",
    "# 数据管理\n",
    "# 数据应用"
   ]
  }
 ],
 "metadata": {
  "kernelspec": {
   "display_name": "Python 3 (ipykernel)",
   "language": "python",
   "name": "python3"
  },
  "language_info": {
   "codemirror_mode": {
    "name": "ipython",
    "version": 3
   },
   "file_extension": ".py",
   "mimetype": "text/x-python",
   "name": "python",
   "nbconvert_exporter": "python",
   "pygments_lexer": "ipython3",
   "version": "3.10.7"
  },
  "toc-autonumbering": true
 },
 "nbformat": 4,
 "nbformat_minor": 5
}
