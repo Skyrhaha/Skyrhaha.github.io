{
 "cells": [
  {
   "attachments": {},
   "cell_type": "markdown",
   "id": "5c9d5742-c789-4e13-b7b9-58d9d4dc502c",
   "metadata": {},
   "source": [
    "# 参考资料\n",
    "- 官方文档: https://docs.python.org/3/\n",
    "- 此项目整理了各种应用场景下的python库信息: https://github.com/vinta/awesome-python\n",
    "- 此项目整理了各种jupyerlab插件: https://github.com/mauhai/awesome-jupyterlab\n",
    "- SparkSQL文档 https://spark.apache.org/docs/latest/sql-ref-functions.html\n",
    "- Spark Structured Streaming文档 https://spark.apache.org/docs/latest/structured-streaming-programming-guide.html\n",
    "- PySpark文档 https://spark.apache.org/docs/latest/api/python/index.html"
   ]
  },
  {
   "attachments": {},
   "cell_type": "markdown",
   "id": "2969b148-c1c4-481e-a386-524f43cb9467",
   "metadata": {
    "tags": []
   },
   "source": [
    "# python基本命令"
   ]
  },
  {
   "attachments": {},
   "cell_type": "markdown",
   "id": "07c9f8a2-e467-41f3-8ecb-0bf4c9b00f12",
   "metadata": {},
   "source": [
    "## python查看版本`python -V`"
   ]
  },
  {
   "cell_type": "code",
   "execution_count": 1,
   "id": "f783be8a-8fb8-4f8d-88f6-08d5f8b3c3d0",
   "metadata": {},
   "outputs": [
    {
     "name": "stdout",
     "output_type": "stream",
     "text": [
      "Python 3.10.7\n",
      "Python 3.10.7\n"
     ]
    },
    {
     "data": {
      "text/plain": [
       "'3.10.7 (tags/v3.10.7:6cc6b13, Sep  5 2022, 14:08:36) [MSC v.1933 64 bit (AMD64)]'"
      ]
     },
     "execution_count": 1,
     "metadata": {},
     "output_type": "execute_result"
    }
   ],
   "source": [
    "!python -V\n",
    "!python --version\n",
    "\n",
    "import sys\n",
    "sys.version"
   ]
  },
  {
   "cell_type": "code",
   "execution_count": 2,
   "id": "47886673-23f2-42b6-b0f9-1445589587c8",
   "metadata": {},
   "outputs": [
    {
     "name": "stdout",
     "output_type": "stream",
     "text": [
      "8.5.0\n"
     ]
    }
   ],
   "source": [
    "!ipython3 notebook --version"
   ]
  },
  {
   "attachments": {},
   "cell_type": "markdown",
   "id": "120c9665-e235-4419-a6e4-765325e3790e",
   "metadata": {
    "tags": []
   },
   "source": [
    "## 交互式修改提示符\n",
    "1. 创建$HOME/.pythonstartup文件(python代码)\n",
    "    ```python\n",
    "    import sys\n",
    "\n",
    "    sys.ps1=' '\n",
    "    sys.ps2=' '\n",
    "    ```\n",
    "2. 编辑.bash_profile设置环境变量export PYTHONSTARTUP=~/.pythonstartup\n",
    "3. python进入交互模式(提示符已修改)"
   ]
  },
  {
   "cell_type": "code",
   "execution_count": 16,
   "id": "ce6d9875-dea9-4034-8942-a5fb3c5be7b2",
   "metadata": {},
   "outputs": [
    {
     "data": {
      "text/plain": [
       "'In : '"
      ]
     },
     "execution_count": 16,
     "metadata": {},
     "output_type": "execute_result"
    }
   ],
   "source": [
    "import sys\n",
    "sys.ps1"
   ]
  },
  {
   "cell_type": "code",
   "execution_count": 13,
   "id": "5fa7f847-2273-4ecd-96be-e893d613fd9e",
   "metadata": {
    "tags": []
   },
   "outputs": [
    {
     "data": {
      "text/plain": [
       "'...: '"
      ]
     },
     "execution_count": 13,
     "metadata": {},
     "output_type": "execute_result"
    }
   ],
   "source": [
    "sys.ps2"
   ]
  },
  {
   "attachments": {},
   "cell_type": "markdown",
   "id": "4732bcfd-f13f-4f16-b684-cd26971de5b3",
   "metadata": {},
   "source": [
    "## 包安装`pip install <package-name>`"
   ]
  },
  {
   "cell_type": "code",
   "execution_count": null,
   "id": "b40f254c-1c1d-4470-8203-258302d9b630",
   "metadata": {},
   "outputs": [],
   "source": [
    "!pip install pandas\n",
    "!pip install pandas -i https://pypi.tuna.tsinghua.edu.cn/simple"
   ]
  },
  {
   "attachments": {},
   "cell_type": "markdown",
   "id": "56637799-6dae-4646-8361-dfca492e450f",
   "metadata": {},
   "source": [
    "## 查看安装包信息`pip show <package-name>`"
   ]
  },
  {
   "cell_type": "code",
   "execution_count": 17,
   "id": "9d393a1c-c791-45ae-9357-b124a882de64",
   "metadata": {},
   "outputs": [
    {
     "name": "stdout",
     "output_type": "stream",
     "text": [
      "Name: jupyterlab\n",
      "Version: 3.5.2\n",
      "Summary: JupyterLab computational environment\n",
      "Home-page: https://jupyter.org\n",
      "Author: Jupyter Development Team\n",
      "Author-email: jupyter@googlegroups.com\n",
      "License: \n",
      "Location: c:\\users\\dell\\appdata\\local\\programs\\python\\python310\\lib\\site-packages\n",
      "Requires: ipython, jinja2, jupyter-core, jupyter-server, jupyterlab-server, nbclassic, notebook, packaging, tomli, tornado\n",
      "Required-by: ipydrawio, jupyterlab-drawio\n"
     ]
    }
   ],
   "source": [
    "!pip show jupyterlab"
   ]
  },
  {
   "attachments": {},
   "cell_type": "markdown",
   "id": "812d175f-4d35-4628-b676-322e8395357c",
   "metadata": {},
   "source": [
    "## 查看所有已安装的包`pip list`"
   ]
  },
  {
   "cell_type": "code",
   "execution_count": null,
   "id": "1a20a2a5-1a93-4941-90d9-9b4dfa7202da",
   "metadata": {
    "tags": []
   },
   "outputs": [],
   "source": [
    "!pip list"
   ]
  },
  {
   "cell_type": "code",
   "execution_count": null,
   "id": "f62c8d37-b485-476b-a10b-8e123960d962",
   "metadata": {},
   "outputs": [],
   "source": [
    "import sys\n",
    "sys.path"
   ]
  },
  {
   "attachments": {},
   "cell_type": "markdown",
   "id": "3c18032b-750b-4778-9f9d-53ff7ba657cf",
   "metadata": {},
   "source": [
    "# 基础操作"
   ]
  },
  {
   "attachments": {},
   "cell_type": "markdown",
   "id": "71e3906b-b844-49a0-a6e4-b8ff632a94bf",
   "metadata": {},
   "source": [
    "## r 忽略反斜杠`\\`"
   ]
  },
  {
   "attachments": {},
   "cell_type": "markdown",
   "id": "30ff301c-eac4-47eb-9f6b-f61ece1e9a78",
   "metadata": {},
   "source": [
    "## `*`与`**`\n",
    "- `*`: 余参收集\n",
    "- `**`: 关键字余参收集"
   ]
  },
  {
   "cell_type": "code",
   "execution_count": 2,
   "id": "88bd0ce1-0698-48f1-9226-e7890d0722fe",
   "metadata": {
    "tags": []
   },
   "outputs": [
    {
     "name": "stdout",
     "output_type": "stream",
     "text": [
      "(1, 'b', 3)\n",
      "(1, 2, 3)\n",
      "{'a': 1, 'b': 2, 'c': 3}\n",
      "a=aa b=2 c=cc\n"
     ]
    }
   ],
   "source": [
    "def fun1(*params):\n",
    "    print(params)\n",
    "\n",
    "fun1(1, 'b', 3)\n",
    "\n",
    "p=(1,2,3)\n",
    "fun1(*p)\n",
    "\n",
    "def fun2(**params):\n",
    "    print(params)\n",
    "\n",
    "fun2(a=1,b=2,c=3)\n",
    "\n",
    "def fun3(a, b, c):\n",
    "    print(f\"a={a} b={b} c={c}\")\n",
    "p={'a': 'aa', 'b': 2, 'c': 'cc'}\n",
    "fun3(**p)"
   ]
  },
  {
   "cell_type": "code",
   "execution_count": 3,
   "id": "324f2614-f116-4487-a0aa-eba4047cc4f0",
   "metadata": {
    "tags": []
   },
   "outputs": [
    {
     "name": "stdout",
     "output_type": "stream",
     "text": [
      "params=('a', 'b', 'c')\n",
      "['a', 'b', 'c']\n",
      "('a', 'b', 'c') 3\n",
      "k1='aa'\n",
      "k2='bb'\n",
      "params=('aaa', 'bbb')\n",
      "['aaa', 'bbb']\n",
      "('aaa', 'bbb') 2\n",
      "k1=''\n",
      "k2=''\n"
     ]
    }
   ],
   "source": [
    "def myfun(*params, k1='', k2=''):\n",
    "    print(f\"{params=}\")\n",
    "    print(list(params))\n",
    "    print(str(params), len(params))\n",
    "    # p = *params\n",
    "    # print(p, type(p))\n",
    "    print(f\"{k1=}\")\n",
    "    print(f\"{k2=}\")\n",
    "    \n",
    "myfun('a', 'b', 'c', k1='aa', k2='bb')\n",
    "myfun('aaa','bbb')"
   ]
  },
  {
   "attachments": {},
   "cell_type": "markdown",
   "id": "9c4e0135-03f2-4e6c-8b80-3f3ddecf14bf",
   "metadata": {},
   "source": [
    "## 属性删除del <attribute>"
   ]
  },
  {
   "cell_type": "code",
   "execution_count": 17,
   "id": "95dcea6c-e086-49dd-83f4-d9e1fb063a4b",
   "metadata": {},
   "outputs": [
    {
     "name": "stdout",
     "output_type": "stream",
     "text": [
      "['__class__', '__delattr__', '__dict__', '__dir__', '__doc__', '__eq__', '__format__', '__ge__', '__getattribute__', '__gt__', '__hash__', '__init__', '__init_subclass__', '__le__', '__lt__', '__module__', '__ne__', '__new__', '__reduce__', '__reduce_ex__', '__repr__', '__setattr__', '__sizeof__', '__str__', '__subclasshook__', '__weakref__', 'a', 'b']\n",
      "['__class__', '__delattr__', '__dict__', '__dir__', '__doc__', '__eq__', '__format__', '__ge__', '__getattribute__', '__gt__', '__hash__', '__init__', '__init_subclass__', '__le__', '__lt__', '__module__', '__ne__', '__new__', '__reduce__', '__reduce_ex__', '__repr__', '__setattr__', '__sizeof__', '__str__', '__subclasshook__', '__weakref__', 'b']\n"
     ]
    }
   ],
   "source": [
    "class Demo:\n",
    "    a=1\n",
    "    b=1\n",
    "\n",
    "print(dir(Demo))\n",
    "del Demo.a\n",
    "print(dir(Demo))"
   ]
  },
  {
   "attachments": {},
   "cell_type": "markdown",
   "id": "16c56166-db2d-47c9-85cb-5850c86bab5e",
   "metadata": {},
   "source": [
    "## global vs nonlocal\n",
    "- global在函数里声明使用全局变量\n",
    "- nonlocal使用介于全局变量(不是全局变量)与局部变量之间"
   ]
  },
  {
   "cell_type": "code",
   "execution_count": 23,
   "id": "8ebd494b-6f5a-496b-afb7-197ca0b8024b",
   "metadata": {},
   "outputs": [
    {
     "name": "stdout",
     "output_type": "stream",
     "text": [
      "after do_local spam='test spam'\n",
      "after do_nonlocal spam='nonlocal spam'\n",
      "after do_global spam='nonlocal spam'\n",
      "i'm global spam='global spam'\n"
     ]
    }
   ],
   "source": [
    "def scope_test():\n",
    "    def do_local():\n",
    "        spam='local spam'\n",
    "        \n",
    "    def do_nonlocal():\n",
    "        nonlocal spam\n",
    "        spam = 'nonlocal spam'\n",
    "    \n",
    "    def do_global():\n",
    "        global spam\n",
    "        spam = 'global spam'\n",
    "    \n",
    "    spam = 'test spam'\n",
    "    \n",
    "    do_local()\n",
    "    print(f'after do_local {spam=}')\n",
    "    \n",
    "    do_nonlocal()\n",
    "    print(f'after do_nonlocal {spam=}')\n",
    "    \n",
    "    do_global()\n",
    "    print(f'after do_global {spam=}')\n",
    "\n",
    "scope_test()\n",
    "print(f\"i'm global {spam=}\")"
   ]
  },
  {
   "attachments": {},
   "cell_type": "markdown",
   "id": "3acf0c05-b39e-448b-950b-a219571f88c0",
   "metadata": {},
   "source": [
    "## stepping"
   ]
  },
  {
   "cell_type": "code",
   "execution_count": 6,
   "id": "3e6af1eb-a4ed-4967-8af8-4b44fececae1",
   "metadata": {
    "tags": []
   },
   "outputs": [
    {
     "name": "stdout",
     "output_type": "stream",
     "text": [
      "[1, 3, 5]\n",
      "[5, 4, 3, 2, 1]\n",
      "1\n",
      "2\n",
      "3\n",
      "4\n",
      "5\n"
     ]
    },
    {
     "data": {
      "text/plain": [
       "5"
      ]
     },
     "execution_count": 6,
     "metadata": {},
     "output_type": "execute_result"
    }
   ],
   "source": [
    "a=[1,2,3,4,5]\n",
    "\n",
    "print(a[::2])\n",
    "print(a[::-1])\n",
    "\n",
    "[ print(i) for i in iter(a) ]\n",
    "a=iter(a)\n",
    "next(a)\n",
    "next(a)\n",
    "next(a)\n",
    "next(a)\n",
    "next(a)"
   ]
  },
  {
   "attachments": {},
   "cell_type": "markdown",
   "id": "1747dbc8-bde9-42ef-a31c-2674ad9a719f",
   "metadata": {},
   "source": [
    "## is not"
   ]
  },
  {
   "cell_type": "code",
   "execution_count": 190,
   "id": "27b3d111-3555-4c3d-afa5-057bc30b9d13",
   "metadata": {},
   "outputs": [
    {
     "name": "stdout",
     "output_type": "stream",
     "text": [
      "a is not True\n"
     ]
    }
   ],
   "source": [
    "a='abc'\n",
    "\n",
    "if a is not True:\n",
    "    print('a is not True')"
   ]
  },
  {
   "attachments": {},
   "cell_type": "markdown",
   "id": "c5d6d39d-44bc-4c88-bc4f-480359227ddb",
   "metadata": {
    "tags": []
   },
   "source": [
    "# built-in function"
   ]
  },
  {
   "cell_type": "code",
   "execution_count": 81,
   "id": "6b5a047c-5cae-4684-8a39-db4858bb1fd5",
   "metadata": {},
   "outputs": [
    {
     "name": "stdout",
     "output_type": "stream",
     "text": [
      "all(arr)=False\n",
      "any(arr)=True\n",
      "ascii('abc')=\"'abc'\"\n",
      "bin(11)='0b1011'\n",
      "format(11,'#b')='0b1011'\n",
      "format(11,'b')='1011'\n",
      "bool(1)=True bool(0)=False bool(2)=True\n",
      "[(1, 'a'), (2, 'b'), (3, 'c')]\n",
      "[1, 2]\n",
      "[1, 2]\n"
     ]
    }
   ],
   "source": [
    "arr=[0,1,2,3]\n",
    "print(f\"{all(arr)=}\")\n",
    "print(f\"{any(arr)=}\")\n",
    "\n",
    "print(f\"{ascii('abc')=}\")\n",
    "\n",
    "print(f\"{bin(11)=}\")\n",
    "print(f\"{format(11,'#b')=}\")\n",
    "print(f\"{format(11,'b')=}\")\n",
    "\n",
    "print(f\"{bool(1)=} {bool(0)=} {bool(2)=}\")\n",
    "\n",
    "seasons = ['a','b','c']\n",
    "print(list(enumerate(seasons,start=1)))\n",
    "\n",
    "x=10\n",
    "r=eval('x+1')\n",
    "r\n",
    "\n",
    "arr=[1,3,2,9]\n",
    "[ e for e in arr if e <3 ]\n",
    "print(list(filter(lambda x: x<3, arr)))\n",
    "print([e for e in filter(lambda x: x<3, arr)])"
   ]
  },
  {
   "attachments": {},
   "cell_type": "markdown",
   "id": "e2d2ab9b-29f0-458d-ab20-810c4060b937",
   "metadata": {
    "tags": []
   },
   "source": [
    "## dir() 查看模块定义的所有名字\n",
    "- dir(moduleName) 查看指定模块\n",
    "- dir() 查看当前模块\n",
    "- dir()不列出built-in内容,built-in使用dir(builtins)查看"
   ]
  },
  {
   "cell_type": "code",
   "execution_count": 50,
   "id": "4c755c25-bde3-44d3-8885-d7713f14d8f7",
   "metadata": {
    "collapsed": true,
    "jupyter": {
     "outputs_hidden": true
    },
    "tags": []
   },
   "outputs": [
    {
     "data": {
      "text/plain": [
       "['ArithmeticError',\n",
       " 'AssertionError',\n",
       " 'AttributeError',\n",
       " 'BaseException',\n",
       " 'BlockingIOError',\n",
       " 'BrokenPipeError',\n",
       " 'BufferError',\n",
       " 'BytesWarning',\n",
       " 'ChildProcessError',\n",
       " 'ConnectionAbortedError',\n",
       " 'ConnectionError',\n",
       " 'ConnectionRefusedError',\n",
       " 'ConnectionResetError',\n",
       " 'DeprecationWarning',\n",
       " 'EOFError',\n",
       " 'Ellipsis',\n",
       " 'EncodingWarning',\n",
       " 'EnvironmentError',\n",
       " 'Exception',\n",
       " 'False',\n",
       " 'FileExistsError',\n",
       " 'FileNotFoundError',\n",
       " 'FloatingPointError',\n",
       " 'FutureWarning',\n",
       " 'GeneratorExit',\n",
       " 'IOError',\n",
       " 'ImportError',\n",
       " 'ImportWarning',\n",
       " 'IndentationError',\n",
       " 'IndexError',\n",
       " 'InterruptedError',\n",
       " 'IsADirectoryError',\n",
       " 'KeyError',\n",
       " 'KeyboardInterrupt',\n",
       " 'LookupError',\n",
       " 'MemoryError',\n",
       " 'ModuleNotFoundError',\n",
       " 'NameError',\n",
       " 'None',\n",
       " 'NotADirectoryError',\n",
       " 'NotImplemented',\n",
       " 'NotImplementedError',\n",
       " 'OSError',\n",
       " 'OverflowError',\n",
       " 'PendingDeprecationWarning',\n",
       " 'PermissionError',\n",
       " 'ProcessLookupError',\n",
       " 'RecursionError',\n",
       " 'ReferenceError',\n",
       " 'ResourceWarning',\n",
       " 'RuntimeError',\n",
       " 'RuntimeWarning',\n",
       " 'StopAsyncIteration',\n",
       " 'StopIteration',\n",
       " 'SyntaxError',\n",
       " 'SyntaxWarning',\n",
       " 'SystemError',\n",
       " 'SystemExit',\n",
       " 'TabError',\n",
       " 'TimeoutError',\n",
       " 'True',\n",
       " 'TypeError',\n",
       " 'UnboundLocalError',\n",
       " 'UnicodeDecodeError',\n",
       " 'UnicodeEncodeError',\n",
       " 'UnicodeError',\n",
       " 'UnicodeTranslateError',\n",
       " 'UnicodeWarning',\n",
       " 'UserWarning',\n",
       " 'ValueError',\n",
       " 'Warning',\n",
       " 'WindowsError',\n",
       " 'ZeroDivisionError',\n",
       " '__IPYTHON__',\n",
       " '__build_class__',\n",
       " '__debug__',\n",
       " '__doc__',\n",
       " '__import__',\n",
       " '__loader__',\n",
       " '__name__',\n",
       " '__package__',\n",
       " '__spec__',\n",
       " 'abs',\n",
       " 'aiter',\n",
       " 'all',\n",
       " 'anext',\n",
       " 'any',\n",
       " 'ascii',\n",
       " 'bin',\n",
       " 'bool',\n",
       " 'breakpoint',\n",
       " 'bytearray',\n",
       " 'bytes',\n",
       " 'callable',\n",
       " 'chr',\n",
       " 'classmethod',\n",
       " 'compile',\n",
       " 'complex',\n",
       " 'copyright',\n",
       " 'credits',\n",
       " 'delattr',\n",
       " 'dict',\n",
       " 'dir',\n",
       " 'display',\n",
       " 'divmod',\n",
       " 'enumerate',\n",
       " 'eval',\n",
       " 'exec',\n",
       " 'execfile',\n",
       " 'filter',\n",
       " 'float',\n",
       " 'format',\n",
       " 'frozenset',\n",
       " 'get_ipython',\n",
       " 'getattr',\n",
       " 'globals',\n",
       " 'hasattr',\n",
       " 'hash',\n",
       " 'help',\n",
       " 'hex',\n",
       " 'id',\n",
       " 'input',\n",
       " 'int',\n",
       " 'isinstance',\n",
       " 'issubclass',\n",
       " 'iter',\n",
       " 'len',\n",
       " 'license',\n",
       " 'list',\n",
       " 'locals',\n",
       " 'map',\n",
       " 'max',\n",
       " 'memoryview',\n",
       " 'min',\n",
       " 'next',\n",
       " 'object',\n",
       " 'oct',\n",
       " 'open',\n",
       " 'ord',\n",
       " 'pow',\n",
       " 'print',\n",
       " 'property',\n",
       " 'range',\n",
       " 'repr',\n",
       " 'reversed',\n",
       " 'round',\n",
       " 'runfile',\n",
       " 'set',\n",
       " 'setattr',\n",
       " 'slice',\n",
       " 'sorted',\n",
       " 'staticmethod',\n",
       " 'str',\n",
       " 'sum',\n",
       " 'super',\n",
       " 'tuple',\n",
       " 'type',\n",
       " 'vars',\n",
       " 'zip']"
      ]
     },
     "execution_count": 50,
     "metadata": {},
     "output_type": "execute_result"
    }
   ],
   "source": [
    "dir(sys)\n",
    "dir()\n",
    "\n",
    "import string\n",
    "dir(string)\n",
    "\n",
    "import builtins\n",
    "dir(builtins)"
   ]
  },
  {
   "attachments": {},
   "cell_type": "markdown",
   "id": "0bd7c6f5-65a4-45e2-98d8-b223228bc229",
   "metadata": {},
   "source": [
    "## isinstance(obj, `<type>`)"
   ]
  },
  {
   "cell_type": "code",
   "execution_count": 51,
   "id": "4aa8c047-01a1-4383-9395-f54313008c2b",
   "metadata": {},
   "outputs": [
    {
     "name": "stdout",
     "output_type": "stream",
     "text": [
      "True\n"
     ]
    }
   ],
   "source": [
    "class D:\n",
    "    pass\n",
    "\n",
    "class C(D):\n",
    "    pass\n",
    "\n",
    "c=C()\n",
    "print(isinstance(c, D))"
   ]
  },
  {
   "attachments": {},
   "cell_type": "markdown",
   "id": "e4d41dc1-ae94-4f0f-988d-993f542d5354",
   "metadata": {},
   "source": [
    "## issubclass(`<subtype>`,`<type>`)"
   ]
  },
  {
   "cell_type": "code",
   "execution_count": 52,
   "id": "fc1718b3-8650-4f98-8f8e-0492d798ee5f",
   "metadata": {},
   "outputs": [
    {
     "name": "stdout",
     "output_type": "stream",
     "text": [
      "True\n"
     ]
    }
   ],
   "source": [
    "print(issubclass(C,D))"
   ]
  },
  {
   "attachments": {},
   "cell_type": "markdown",
   "id": "5101654d-0c3f-40b0-a9da-8c3e6e4fe03a",
   "metadata": {},
   "source": [
    "## enumerate(iterable, start=0)"
   ]
  },
  {
   "cell_type": "code",
   "execution_count": 84,
   "id": "3b39f041-4065-4ad8-b173-4786bf487306",
   "metadata": {},
   "outputs": [
    {
     "name": "stdout",
     "output_type": "stream",
     "text": [
      "0 Spring\n",
      "1 Summer\n",
      "2 Fall\n",
      "3 Winter\n"
     ]
    }
   ],
   "source": [
    "seasons=['Spring', 'Summer', 'Fall', 'Winter']\n",
    "for i,v in enumerate(seasons):\n",
    "    print(i,v)"
   ]
  },
  {
   "attachments": {},
   "cell_type": "markdown",
   "id": "903fd523-ada4-49c9-8269-71608d13b74e",
   "metadata": {},
   "source": [
    "## zip(*iterables, strict=False)"
   ]
  },
  {
   "cell_type": "code",
   "execution_count": 85,
   "id": "0390efa8-2f9f-44f6-ae4b-076f743b74a4",
   "metadata": {},
   "outputs": [
    {
     "name": "stdout",
     "output_type": "stream",
     "text": [
      "name lancelot\n",
      "quest the holy grail\n",
      "favorite color blue\n"
     ]
    }
   ],
   "source": [
    "questions=['name', 'quest', 'favorite color']\n",
    "answers=['lancelot', 'the holy grail', 'blue']\n",
    "\n",
    "for q,a in zip(questions, answers):\n",
    "    print(q,a)"
   ]
  },
  {
   "attachments": {},
   "cell_type": "markdown",
   "id": "4f6863a9-cd72-4d46-822e-651c11dd2369",
   "metadata": {},
   "source": [
    "# Modules"
   ]
  },
  {
   "cell_type": "code",
   "execution_count": 40,
   "id": "f3ea1028-a685-418d-ab41-a68dfd792b0f",
   "metadata": {},
   "outputs": [
    {
     "name": "stdout",
     "output_type": "stream",
     "text": [
      "0 1 1 2 3 5 8 "
     ]
    },
    {
     "data": {
      "text/plain": [
       "['__builtins__',\n",
       " '__cached__',\n",
       " '__doc__',\n",
       " '__file__',\n",
       " '__loader__',\n",
       " '__name__',\n",
       " '__package__',\n",
       " '__spec__',\n",
       " 'fib',\n",
       " 'fib2']"
      ]
     },
     "execution_count": 40,
     "metadata": {},
     "output_type": "execute_result"
    }
   ],
   "source": [
    "import fibo\n",
    "\n",
    "fibo.__name__\n",
    "\n",
    "fibo.fib(10)\n",
    "fibo.fib2(10)\n",
    "\n",
    "dir(fibo)"
   ]
  },
  {
   "attachments": {},
   "cell_type": "markdown",
   "id": "5873f8e3-42b9-45d3-bdee-26843e8c276b",
   "metadata": {},
   "source": [
    "## 模块查找规则\n",
    "- 先在build-in模块查找\n",
    "- 然后在sys.path的目录下查找,sys.path is initialized form these locations:\n",
    "    - the directory containing the input script/or the current directory when no file is specified\n",
    "    - PYTHONPATH(a list of directory names,with the same syntax as the shell variable PATH)\n",
    "    - the installation-dependent default(by convention including a `site-packages` directory,handled by the site module)\n",
    "- sys.path.append修改sys.path"
   ]
  },
  {
   "cell_type": "code",
   "execution_count": 39,
   "id": "596f5ec0-5abb-486c-bef4-41bfc720b63f",
   "metadata": {},
   "outputs": [
    {
     "data": {
      "text/plain": [
       "'not set'"
      ]
     },
     "execution_count": 39,
     "metadata": {},
     "output_type": "execute_result"
    }
   ],
   "source": [
    "import sys\n",
    "import os\n",
    "\n",
    "# show built-in modules\n",
    "sys.builtin_module_names\n",
    "\n",
    "sys.path\n",
    "\n",
    "os.getenv('PYTHONPATH','not set')"
   ]
  },
  {
   "attachments": {},
   "cell_type": "markdown",
   "id": "420cdc2f-4d92-44a7-90f7-5e6039e64842",
   "metadata": {},
   "source": [
    "# Errors and Exceptions"
   ]
  },
  {
   "cell_type": "code",
   "execution_count": 6,
   "id": "32a77b65-1e20-4712-a7c5-117d26dcdd1f",
   "metadata": {},
   "outputs": [
    {
     "name": "stdout",
     "output_type": "stream",
     "text": [
      "Unexcepted err=ValueError(\"invalid literal for int() with base 10: 'def fib(n):'\"), type(err)=<class 'ValueError'>\n"
     ]
    }
   ],
   "source": [
    "import sys\n",
    "\n",
    "try :\n",
    "    f=open('fibo.py')\n",
    "    s=f.readline()\n",
    "    i=int(s.strip())\n",
    "except OSError as err:\n",
    "    print('OS error:', err)\n",
    "# except ValueError as err:\n",
    "#     print('Value error:', err)\n",
    "except Exception as err:\n",
    "    print(f'Unexcepted {err=}, {type(err)=}')"
   ]
  },
  {
   "cell_type": "code",
   "execution_count": 10,
   "id": "5399ca2c-449d-47cc-a6f2-48530b64e772",
   "metadata": {},
   "outputs": [
    {
     "ename": "NameError",
     "evalue": "",
     "output_type": "error",
     "traceback": [
      "\u001b[1;31m---------------------------------------------------------------------------\u001b[0m",
      "\u001b[1;31mNameError\u001b[0m                                 Traceback (most recent call last)",
      "Cell \u001b[1;32mIn [10], line 1\u001b[0m\n\u001b[1;32m----> 1\u001b[0m \u001b[38;5;28;01mraise\u001b[39;00m \u001b[38;5;167;01mNameError\u001b[39;00m\n",
      "\u001b[1;31mNameError\u001b[0m: "
     ]
    }
   ],
   "source": [
    "raise NameError"
   ]
  },
  {
   "cell_type": "code",
   "execution_count": 11,
   "id": "adf0c40e-6af2-41ca-b9d0-e18734e3e8ca",
   "metadata": {},
   "outputs": [
    {
     "ename": "NameError",
     "evalue": "name error",
     "output_type": "error",
     "traceback": [
      "\u001b[1;31m---------------------------------------------------------------------------\u001b[0m",
      "\u001b[1;31mNameError\u001b[0m                                 Traceback (most recent call last)",
      "Cell \u001b[1;32mIn [11], line 1\u001b[0m\n\u001b[1;32m----> 1\u001b[0m \u001b[38;5;28;01mraise\u001b[39;00m \u001b[38;5;167;01mNameError\u001b[39;00m(\u001b[38;5;124m'\u001b[39m\u001b[38;5;124mname error\u001b[39m\u001b[38;5;124m'\u001b[39m)\n",
      "\u001b[1;31mNameError\u001b[0m: name error"
     ]
    }
   ],
   "source": [
    "raise NameError('name error')"
   ]
  },
  {
   "cell_type": "code",
   "execution_count": 9,
   "id": "1e67ea13-248e-45a5-b99e-aa630241f37a",
   "metadata": {},
   "outputs": [
    {
     "ename": "FileNotFoundError",
     "evalue": "[Errno 2] No such file or directory: 'my.txt'",
     "output_type": "error",
     "traceback": [
      "\u001b[1;31m---------------------------------------------------------------------------\u001b[0m",
      "\u001b[1;31mFileNotFoundError\u001b[0m                         Traceback (most recent call last)",
      "Cell \u001b[1;32mIn [9], line 2\u001b[0m\n\u001b[0;32m      1\u001b[0m \u001b[38;5;28;01mtry\u001b[39;00m:\n\u001b[1;32m----> 2\u001b[0m     f\u001b[38;5;241m=\u001b[39m\u001b[38;5;28;43mopen\u001b[39;49m\u001b[43m(\u001b[49m\u001b[38;5;124;43m'\u001b[39;49m\u001b[38;5;124;43mmy.txt\u001b[39;49m\u001b[38;5;124;43m'\u001b[39;49m\u001b[43m)\u001b[49m\n\u001b[0;32m      3\u001b[0m \u001b[38;5;28;01mexcept\u001b[39;00m \u001b[38;5;167;01mOSError\u001b[39;00m \u001b[38;5;28;01mas\u001b[39;00m err:\n\u001b[0;32m      4\u001b[0m     \u001b[38;5;28;01mraise\u001b[39;00m\n",
      "\u001b[1;31mFileNotFoundError\u001b[0m: [Errno 2] No such file or directory: 'my.txt'"
     ]
    }
   ],
   "source": [
    "try:\n",
    "    f=open('my.txt')\n",
    "except OSError as err:\n",
    "    raise"
   ]
  },
  {
   "attachments": {},
   "cell_type": "markdown",
   "id": "d5fd00c2-f448-4bac-9fd2-5fde88679bc6",
   "metadata": {},
   "source": [
    "# Classes"
   ]
  },
  {
   "attachments": {},
   "cell_type": "markdown",
   "id": "780bd212-64ef-4a50-a648-e4e887ab05b4",
   "metadata": {},
   "source": [
    "## 类定义 "
   ]
  },
  {
   "cell_type": "code",
   "execution_count": 10,
   "id": "0854846d-acfb-4d62-8ec6-bf88e40019a0",
   "metadata": {},
   "outputs": [
    {
     "name": "stdout",
     "output_type": "stream",
     "text": [
      "['_MyClass__version', '__class__', '__delattr__', '__dict__', '__dir__', '__doc__', '__eq__', '__format__', '__ge__', '__getattribute__', '__gt__', '__hash__', '__init__', '__init_subclass__', '__le__', '__lt__', '__module__', '__ne__', '__new__', '__reduce__', '__reduce_ex__', '__repr__', '__setattr__', '__sizeof__', '__str__', '__subclasshook__', '__weakref__', 'f', 'i']\n",
      "MyClass.__doc__='class MyClass'\n",
      "['_MyClass__version', '__class__', '__delattr__', '__dict__', '__dir__', '__doc__', '__eq__', '__format__', '__ge__', '__getattribute__', '__gt__', '__hash__', '__init__', '__init_subclass__', '__le__', '__lt__', '__module__', '__ne__', '__new__', '__reduce__', '__reduce_ex__', '__repr__', '__setattr__', '__sizeof__', '__str__', '__subclasshook__', '__weakref__', 'data', 'f', 'i']\n",
      "x.counter=16\n",
      "do f\n",
      "do f\n",
      "d1.kind='kind' d2.kind='kind' d1.name='a' d2.name='b'\n",
      "<class '__main__.Dog'>\n",
      "True\n"
     ]
    }
   ],
   "source": [
    "class MyClass:\n",
    "    \"\"\"class MyClass\"\"\"\n",
    "\n",
    "    # 私有属性，只能在类内部使用\n",
    "    __version='1.0'\n",
    "    \n",
    "    i=1\n",
    "    \n",
    "    # 魔法方法: 构造方法\n",
    "    def __init__(self):\n",
    "        self.data=[]\n",
    "\n",
    "    # 私有方法,只能在类内部使用\n",
    "    def __version(self):\n",
    "        print(f\"version: {self.__version}\")\n",
    "        \n",
    "    def f(self):\n",
    "        print('do f')\n",
    "\n",
    "print(dir(MyClass))\n",
    "print(f'{MyClass.__doc__=}')\n",
    "\n",
    "x=MyClass()\n",
    "print(dir(x))\n",
    "\n",
    "# data attributes 无需定义\n",
    "x.counter = 1\n",
    "while x.counter < 10:\n",
    "    x.counter = x.counter * 2\n",
    "print(f\"{x.counter=}\")\n",
    "del x.counter\n",
    "\n",
    "# x.f() vs MyClass.f(x)\n",
    "x.f()\n",
    "MyClass.f(x)\n",
    "\n",
    "# class variable vs instance variable\n",
    "class Dog:\n",
    "    kind='kind' # class variable\n",
    "\n",
    "    def __init__(self,name=''):\n",
    "        self.name=name\n",
    "\n",
    "d1=Dog('a')\n",
    "d2=Dog('b')\n",
    "print(f\"{d1.kind=} {d2.kind=} {d1.name=} {d2.name=}\")\n",
    "print(d1.__class__)\n",
    "\n",
    "print(isinstance(d1, Dog))"
   ]
  },
  {
   "cell_type": "code",
   "execution_count": 56,
   "id": "b9ff574f-b069-44a5-be3b-b97822962da9",
   "metadata": {},
   "outputs": [
    {
     "name": "stdout",
     "output_type": "stream",
     "text": [
      "e.name='A' e.dept='DD' e.salary=100\n"
     ]
    },
    {
     "ename": "AttributeError",
     "evalue": "'Employee' object has no attribute '__func__'",
     "output_type": "error",
     "traceback": [
      "\u001b[1;31m---------------------------------------------------------------------------\u001b[0m",
      "\u001b[1;31mAttributeError\u001b[0m                            Traceback (most recent call last)",
      "Cell \u001b[1;32mIn [56], line 11\u001b[0m\n\u001b[0;32m      9\u001b[0m e\u001b[38;5;241m=\u001b[39mEmployee(\u001b[38;5;124m'\u001b[39m\u001b[38;5;124mA\u001b[39m\u001b[38;5;124m'\u001b[39m, \u001b[38;5;124m'\u001b[39m\u001b[38;5;124mDD\u001b[39m\u001b[38;5;124m'\u001b[39m, \u001b[38;5;241m100\u001b[39m)\n\u001b[0;32m     10\u001b[0m \u001b[38;5;28mprint\u001b[39m(\u001b[38;5;124mf\u001b[39m\u001b[38;5;124m\"\u001b[39m\u001b[38;5;132;01m{\u001b[39;00me\u001b[38;5;241m.\u001b[39mname\u001b[38;5;132;01m=}\u001b[39;00m\u001b[38;5;124m \u001b[39m\u001b[38;5;132;01m{\u001b[39;00me\u001b[38;5;241m.\u001b[39mdept\u001b[38;5;132;01m=}\u001b[39;00m\u001b[38;5;124m \u001b[39m\u001b[38;5;132;01m{\u001b[39;00me\u001b[38;5;241m.\u001b[39msalary\u001b[38;5;132;01m=}\u001b[39;00m\u001b[38;5;124m\"\u001b[39m)\n\u001b[1;32m---> 11\u001b[0m \u001b[38;5;28mprint\u001b[39m(\u001b[43me\u001b[49m\u001b[38;5;241;43m.\u001b[39;49m\u001b[38;5;18;43m__func__\u001b[39;49m)\n",
      "\u001b[1;31mAttributeError\u001b[0m: 'Employee' object has no attribute '__func__'"
     ]
    }
   ],
   "source": [
    "from dataclasses import dataclass\n",
    "\n",
    "@dataclass\n",
    "class Employee:\n",
    "    name: str\n",
    "    dept: str\n",
    "    salary: int\n",
    "\n",
    "e=Employee('A', 'DD', 100)\n",
    "print(f\"{e.name=} {e.dept=} {e.salary=}\")\n"
   ]
  },
  {
   "attachments": {},
   "cell_type": "markdown",
   "id": "8ebabb6a-bac3-45a8-9924-5b1d9bc927c1",
   "metadata": {},
   "source": [
    "## 多继承"
   ]
  },
  {
   "cell_type": "code",
   "execution_count": 15,
   "id": "4d58dffa-d8ed-4c7a-83d1-c05d2fe2f9a8",
   "metadata": {
    "tags": []
   },
   "outputs": [
    {
     "name": "stdout",
     "output_type": "stream",
     "text": [
      "name=child age=child\n",
      "child working...\n",
      "child shopping...\n",
      "child\n"
     ]
    }
   ],
   "source": [
    "class Person:\n",
    "    def __init__(self, name, age):\n",
    "        self.name = name\n",
    "        self.age = age\n",
    "        \n",
    "    def show(self):\n",
    "        print(f\"name={self.name} age={self.name}\")\n",
    "\n",
    "class Father(Person):\n",
    "    def work(self):\n",
    "        print(f\"{self.name} working...\")\n",
    "\n",
    "class Mother(Person):\n",
    "    def shopping(self):\n",
    "        print(f\"{self.name} shopping...\")\n",
    "\n",
    "class Child(Father,Mother,Person):\n",
    "    def __init__(self, fname,fage,mname,mage, name, age):\n",
    "        Father.__init__(self, fname,fage)\n",
    "        Mother.__init__(self, mname,mage)\n",
    "        Person.__init__(self,name,age)\n",
    "\n",
    "child=Child('fname', 40, 'mm', 35, 'child', 10)\n",
    "child.show()\n",
    "child.work()\n",
    "child.shopping()\n",
    "print(child.name)"
   ]
  },
  {
   "attachments": {},
   "cell_type": "markdown",
   "id": "3acec3b7-2677-4058-a996-9431136389cf",
   "metadata": {},
   "source": [
    "### 父类调用\n",
    "- 方式一: super().父类方法()\n",
    "- 方式二: 父类.父类方法(self,...)"
   ]
  },
  {
   "attachments": {},
   "cell_type": "markdown",
   "id": "8fdec7ee-a905-4bd8-a2b7-471dd4c9b185",
   "metadata": {},
   "source": [
    "## 类型注解"
   ]
  },
  {
   "cell_type": "code",
   "execution_count": 20,
   "id": "320e20e2-510b-4b04-82c1-f66e8f45c4fe",
   "metadata": {
    "tags": []
   },
   "outputs": [
    {
     "name": "stdout",
     "output_type": "stream",
     "text": [
      "<class 'int'>\n",
      "<class 'list'>\n"
     ]
    }
   ],
   "source": [
    "# 变量类型注解\n",
    "var1: int = 0\n",
    "print(type(var1))\n",
    "\n",
    "# 对形参进行类型注解,对函数的返回值进行类型注解\n",
    "def add(x:int, y:int) -> int:\n",
    "    return x+y\n",
    "\n",
    "add(1,2)\n",
    "\n",
    "# Union类型注解\n",
    "from typing import Union\n",
    "\n",
    "my_list: list[Union[str,int]] = [1,2,'test']\n",
    "print(type(my_list))"
   ]
  },
  {
   "attachments": {},
   "cell_type": "markdown",
   "id": "4f17236c-1678-467d-a20c-6d826f9c2400",
   "metadata": {},
   "source": [
    "## 多态"
   ]
  },
  {
   "cell_type": "code",
   "execution_count": 21,
   "id": "0988090d-26cc-482f-9869-34463c28fe11",
   "metadata": {
    "tags": []
   },
   "outputs": [
    {
     "name": "stdout",
     "output_type": "stream",
     "text": [
      "wang wang\n",
      "miao miao\n"
     ]
    }
   ],
   "source": [
    "class Animal:\n",
    "    def speak(self):\n",
    "        pass\n",
    "\n",
    "class Dog(Animal):\n",
    "    def speak(self):\n",
    "        print(\"wang wang\")\n",
    "\n",
    "class Cat(Animal):\n",
    "    def speak(self):\n",
    "        print(\"miao miao\")\n",
    "        \n",
    "def make_noise(a: Animal):\n",
    "    a.speak()\n",
    "\n",
    "dog=Dog()\n",
    "cat=Cat()\n",
    "make_noise(dog)\n",
    "make_noise(cat)"
   ]
  },
  {
   "attachments": {},
   "cell_type": "markdown",
   "id": "6636c262-5f30-4d67-a351-d682fdec455f",
   "metadata": {},
   "source": [
    "# 高级特性"
   ]
  },
  {
   "attachments": {},
   "cell_type": "markdown",
   "id": "4c1cbbf4-6be2-4531-91bc-5199e1746fba",
   "metadata": {},
   "source": [
    "## 闭包"
   ]
  },
  {
   "attachments": {},
   "cell_type": "markdown",
   "id": "e34e8f26-aea7-4935-ab0f-bb9f9308a094",
   "metadata": {
    "tags": []
   },
   "source": [
    "### 使用global全局变量\n",
    "- 代码不够干净\n",
    "- 存在全局变量被篡改的风险"
   ]
  },
  {
   "cell_type": "code",
   "execution_count": 23,
   "id": "e78ec791-b4a7-4442-8ca7-26718ecb162f",
   "metadata": {
    "tags": []
   },
   "outputs": [
    {
     "name": "stdout",
     "output_type": "stream",
     "text": [
      "count=3\n"
     ]
    }
   ],
   "source": [
    "count=0\n",
    "\n",
    "def counter():\n",
    "    global count\n",
    "    # count=-1\n",
    "    \n",
    "    count += 1\n",
    "\n",
    "counter()\n",
    "counter()\n",
    "counter()\n",
    "print(f\"count={count}\")"
   ]
  },
  {
   "attachments": {},
   "cell_type": "markdown",
   "id": "acc29c9d-9b37-44e2-a9ba-21f1aca883a9",
   "metadata": {},
   "source": [
    "### 闭包实现"
   ]
  },
  {
   "cell_type": "code",
   "execution_count": 24,
   "id": "a8f56324-d385-4b09-bf2d-cb92bcd46761",
   "metadata": {
    "tags": []
   },
   "outputs": [
    {
     "name": "stdout",
     "output_type": "stream",
     "text": [
      "6\n"
     ]
    }
   ],
   "source": [
    "def outer_func(count):\n",
    "    def inner_func():\n",
    "        nonlocal count\n",
    "        count += 1\n",
    "        return count\n",
    "    \n",
    "    return inner_func\n",
    "\n",
    "fn=outer_func(3)\n",
    "fn()\n",
    "fn()\n",
    "print(fn())"
   ]
  },
  {
   "attachments": {},
   "cell_type": "markdown",
   "id": "f9034955-8597-4b97-98ac-268d6b5cec90",
   "metadata": {},
   "source": [
    "## 装饰器"
   ]
  },
  {
   "cell_type": "code",
   "execution_count": 25,
   "id": "d8f1cc0a-33ab-4301-903c-f75f55bfa4a3",
   "metadata": {
    "tags": []
   },
   "outputs": [
    {
     "name": "stdout",
     "output_type": "stream",
     "text": [
      "before ...\n",
      "biz process...\n",
      "after ...\n"
     ]
    }
   ],
   "source": [
    "def outer(func):\n",
    "    def inner():\n",
    "        print(\"before ...\")\n",
    "        func()\n",
    "        print(\"after ...\")\n",
    "    return inner\n",
    "\n",
    "@outer\n",
    "def bizfun():\n",
    "    print(\"biz process...\")\n",
    "\n",
    "bizfun()"
   ]
  },
  {
   "attachments": {},
   "cell_type": "markdown",
   "id": "132e2b43-7b0e-4a61-84c3-4b22ac20ee8c",
   "metadata": {},
   "source": [
    "### 带参数装饰器"
   ]
  },
  {
   "cell_type": "code",
   "execution_count": 26,
   "id": "06228824-e3e5-440d-845c-1c5f5f4fb5fd",
   "metadata": {
    "tags": []
   },
   "outputs": [
    {
     "name": "stdout",
     "output_type": "stream",
     "text": [
      "param=xxx wraper before...\n",
      "exec bizfun2...\n",
      "bizfun2 process...\n",
      "param=xxx wraper after...\n"
     ]
    }
   ],
   "source": [
    "def mylog(param):\n",
    "    def wraper(func):\n",
    "        def inner(*args, **kwargs):\n",
    "            print(f\"param={param} wraper before...\")\n",
    "            print(f\"exec {func.__name__}...\")\n",
    "            func(*args, **kwargs)\n",
    "            print(f\"param={param} wraper after...\")\n",
    "        return inner\n",
    "    return wraper\n",
    "\n",
    "@mylog('xxx')\n",
    "def bizfun2():\n",
    "    print(\"bizfun2 process...\")\n",
    "    \n",
    "bizfun2()"
   ]
  },
  {
   "attachments": {},
   "cell_type": "markdown",
   "id": "9afac0b9-712b-4c3a-99fd-91f8bec22e1e",
   "metadata": {},
   "source": [
    "### 函数装饰器封装进类"
   ]
  },
  {
   "cell_type": "code",
   "execution_count": 27,
   "id": "90a947b0-8512-4297-84ca-ff2716cabed8",
   "metadata": {
    "tags": []
   },
   "outputs": [
    {
     "name": "stdout",
     "output_type": "stream",
     "text": [
      "exec f ...\n",
      "hi decorate\n",
      "exec f2,args:(1, 2)\n",
      "f2 hi decrote\n"
     ]
    }
   ],
   "source": [
    "class HiDecorate:\n",
    "    def info(self,func):\n",
    "        print(f\"exec {func.__name__} ...\")\n",
    "        return func()\n",
    "    \n",
    "    def argsinfo(self,func):\n",
    "        def wrap(*args):\n",
    "            print(f\"exec {func.__name__},args:{args}\")\n",
    "            return func(*args)\n",
    "        return wrap\n",
    "    \n",
    "decorate=HiDecorate()\n",
    "\n",
    "@decorate.info\n",
    "def f():\n",
    "    print(\"hi decorate\")\n",
    "\n",
    "# f() # 直接调用报错\n",
    "\n",
    "@decorate.argsinfo\n",
    "def f2(a,b):\n",
    "    print('f2 hi decrote')\n",
    "f2(1,2)"
   ]
  },
  {
   "attachments": {},
   "cell_type": "markdown",
   "id": "fdf02cbb-523a-4e5c-b45f-52315adfefef",
   "metadata": {
    "tags": []
   },
   "source": [
    "### functools.wraps\n",
    "- 还原因装饰器导致的__name__属性被修改为wrapper的__name__"
   ]
  },
  {
   "cell_type": "code",
   "execution_count": 28,
   "id": "ffe22314-5265-49ea-913d-bf88e43a8ba4",
   "metadata": {
    "tags": []
   },
   "outputs": [
    {
     "name": "stdout",
     "output_type": "stream",
     "text": [
      "exec [test] spent 1.0009815692901611s\n",
      "test\n"
     ]
    }
   ],
   "source": [
    "import time\n",
    "import functools\n",
    "\n",
    "def timer(func):\n",
    "    @functools.wraps(func)\n",
    "    def wrapper1():\n",
    "        s=time.time()\n",
    "        func()\n",
    "        e=time.time()\n",
    "        print(f\"exec [{func.__name__}] spent {e-s}s\")\n",
    "    return wrapper1\n",
    "\n",
    "@timer\n",
    "def test():\n",
    "    time.sleep(1)\n",
    "\n",
    "test()\n",
    "print(test.__name__)"
   ]
  },
  {
   "attachments": {},
   "cell_type": "markdown",
   "id": "5785c9b0-2465-408d-b6e8-66d550f85790",
   "metadata": {},
   "source": [
    "### 类装饰器"
   ]
  },
  {
   "cell_type": "code",
   "execution_count": 29,
   "id": "42efa356-3556-4899-862e-2e0b75624512",
   "metadata": {
    "tags": []
   },
   "outputs": [
    {
     "name": "stdout",
     "output_type": "stream",
     "text": [
      "exec [test2] spent 1.0057063102722168s\n",
      "test2\n"
     ]
    }
   ],
   "source": [
    "import time\n",
    "\n",
    "class Timer():\n",
    "    def __init__(self, func):\n",
    "        self.func=func\n",
    "        self.__name__=func.__name__\n",
    "        \n",
    "    def __call__(self):\n",
    "        s=time.time()\n",
    "        self.func()\n",
    "        e=time.time()\n",
    "        print(f\"exec [{self.func.__name__}] spent {e-s}s\")  \n",
    "\n",
    "@Timer # 等价于 test2=Timer(func)\n",
    "def test2():\n",
    "    time.sleep(1)\n",
    "\n",
    "test2()\n",
    "print(test2.__name__)"
   ]
  },
  {
   "attachments": {},
   "cell_type": "markdown",
   "id": "95c244f3-100b-43da-bad8-08d4bdf12e5c",
   "metadata": {},
   "source": [
    "### `__call__`\n",
    "- magic method\n",
    "- 作用是把一个类的实例化对象变成可调用的对象\n",
    "- 使用callable(obj)可检测对象是否可以被调用"
   ]
  },
  {
   "cell_type": "code",
   "execution_count": 30,
   "id": "8b62ee59-992e-4b45-ab59-3385deafcd96",
   "metadata": {
    "tags": []
   },
   "outputs": [
    {
     "name": "stdout",
     "output_type": "stream",
     "text": [
      "False\n",
      "True\n",
      "我是可以被调用的P2实例\n"
     ]
    }
   ],
   "source": [
    "class P1:\n",
    "    pass\n",
    "\n",
    "p1=P1()\n",
    "print(callable(p1))\n",
    "# p1()\n",
    "\n",
    "class P2:\n",
    "    def __call__(self):\n",
    "        print('我是可以被调用的P2实例')\n",
    "\n",
    "p2=P2()\n",
    "print(callable(p2))\n",
    "p2()"
   ]
  },
  {
   "attachments": {},
   "cell_type": "markdown",
   "id": "427c905b-328f-46d9-acee-7e5f1a6d0dad",
   "metadata": {},
   "source": [
    "## 设计模式"
   ]
  },
  {
   "attachments": {},
   "cell_type": "markdown",
   "id": "2a184587-2d59-4552-a29c-3a9cd098a707",
   "metadata": {},
   "source": [
    "### 单例模式\n",
    "- 将需要单例模式的类放在独立的文件中并实例化一个对象\n",
    "- 其它使用的地方通过 `from <单例模块> import <单例对象>`的方式使用即为单例模式\n",
    "```python\n",
    "# 单例.py\n",
    "class SS:\n",
    "    pass\n",
    "\n",
    "s=SS()\n",
    "\n",
    "# ref.py\n",
    "from 单例 import s\n",
    "\n",
    "a=s\n",
    "b=s\n",
    "\n",
    "```"
   ]
  },
  {
   "cell_type": "code",
   "execution_count": 32,
   "id": "d7886b57-4d1b-4469-963d-b61a0271652a",
   "metadata": {
    "tags": []
   },
   "outputs": [
    {
     "name": "stdout",
     "output_type": "stream",
     "text": [
      "s1=1660063275696 s2=1660043121168\n"
     ]
    }
   ],
   "source": [
    "class S1:\n",
    "    pass\n",
    "\n",
    "s1=S1()\n",
    "s2=S1()\n",
    "\n",
    "print(f\"s1={id(s1)} s2={id(s2)}\")"
   ]
  },
  {
   "attachments": {},
   "cell_type": "markdown",
   "id": "19ab352f-904b-4496-8b9c-1798191599c4",
   "metadata": {
    "tags": []
   },
   "source": [
    "### 工厂模式"
   ]
  },
  {
   "attachments": {},
   "cell_type": "markdown",
   "id": "9fa87795-cb20-4f35-862a-b833756212c6",
   "metadata": {
    "tags": []
   },
   "source": [
    "## 并发编程\n",
    " - python对并发编程的支持\n",
    "    - 多线程 threading,利用CPU和IO可以同时执行原理\n",
    "    - 多进程 multiprocessing,利用多核CPU真正的并行执行\n",
    "    - 异步IO asyncio, 在单线程利用CPU和IO同时执行的原来，实现函数异步执行\n",
    "    - 使用Lock对资源进行加锁\n",
    "    - 使用Queue事项不同线程/进程间数据通信,实现生产者-消费者模式\n",
    "    - 使用线程池Pool/进程池Pook\n",
    "    - 使用subprocess启动外部程序的进程，并进行输入输出交互\n",
    "- 怎么选择多线程/多进程/多协程?\n",
    "    - 单线程\n",
    "    - 多线程 threading,利用CPU和IO可以同时执行原理\n",
    "    - 多CPU并行 multiprocessing,利用多核CPU真正的并行执行\n",
    "    - 多机器并行 spark等\n",
    "- CPU密集型 vs I/O密集型\n",
    "    - CPU密集型(CPU bound): 也叫计算密集型，是指I/O在很短的时间完成，CPU需要大量的计算和处理,特点是CPU占用率高;如压缩解压缩、加密解密、正则表达式搜索\n",
    "    - IO密集型(I/O bound):是系统运作大部分的状况是CPU在等待I/O(内存/硬盘)的读/写,CPU占用率较低;如文件处理、网络爬虫、读写数据库\n",
    "- Thread/Process/Coroutine\n",
    "    - 多线程Thread(threading)\n",
    "        - 相比进程: python多线程只能并发执行，不能利用多CPU(GIL)\n",
    "        - 相比协程: 有线程开销\n",
    "    - 多进程Process(multiprocessing)\n",
    "    - 多协程Coroutine(asyncio)\n",
    "        - 支持库有限制(如requests不支持)\n",
    "- 对比选择\n",
    "任务特点|选择|\n",
    " -- | -- |\n",
    "任务为CPU密集型 | 多进程 |\n",
    "任务I/O密集型，不需要超多任务 | 多线程 |\n",
    "任务I/O密集型，需要超多任务 | 多协程 |"
   ]
  },
  {
   "attachments": {},
   "cell_type": "markdown",
   "id": "2cf83b6b-17b4-46ec-bbc4-6bf704500f0f",
   "metadata": {},
   "source": [
    "### GIL (Global Interpreter Lock)\n",
    "全局解释器锁: 是计算机程序设计语言解释器用于同步线程的一种机制，它使得任何时刻仅有一个线程在执行,即使在多核处理器上，使用GIL的解释器也只允许同一时间执行一个线程\n",
    "- When a thread is running,it holds the GIL\n",
    "- GIL released on I/O(read,write,send,recv,etc.)\n",
    "- 参考: http://www.dabeaz.com/python/UnderstandingGIL.pdf"
   ]
  },
  {
   "attachments": {},
   "cell_type": "markdown",
   "id": "ec85342a-d73d-4f7c-92d3-29c69b47df1d",
   "metadata": {},
   "source": [
    "### 示列-多线程"
   ]
  },
  {
   "cell_type": "code",
   "execution_count": null,
   "id": "b1ee204b-426e-4d12-bede-80d2c53e0718",
   "metadata": {
    "tags": []
   },
   "outputs": [],
   "source": [
    "import requests\n",
    "import time\n",
    "\n",
    "urls = [\n",
    "    f\"https://www.cnblogs.com/#p{page}\"\n",
    "    for page in range(1,50+1)\n",
    "]\n",
    "print(urls)\n",
    "\n",
    "def craw(url):\n",
    "    r = requests.get(url)\n",
    "    print(url, len(r.text))\n",
    "    \n",
    "# craw(urls[0])\n",
    "\n",
    "def single_thread():\n",
    "    print(\"single_thread begin...\")\n",
    "    for url in urls:\n",
    "        craw(url)\n",
    "\n",
    "import threading\n",
    "\n",
    "def multi_thread():\n",
    "    threads = []\n",
    "    for url in urls:\n",
    "        threads.append(\n",
    "            threading.Thread(target=craw, args=(url,))\n",
    "        )\n",
    "        \n",
    "    for t in threads:\n",
    "        t.start()\n",
    "    for t in threads:\n",
    "        t.join()\n",
    "\n",
    "# single_thread()\n",
    "multi_thread()"
   ]
  },
  {
   "attachments": {},
   "cell_type": "markdown",
   "id": "cf9a0886-c182-4eff-bc70-792d699c2413",
   "metadata": {},
   "source": [
    "### 示例-producer/counsumer\n",
    "- 多组建的pipeline技术架构\n",
    "- 多线程数据通信queue.Queue: 线程安全\n",
    "    - import queue\n",
    "    - 创建 q=queue.Queue()\n",
    "    - 添加 q.put(item)\n",
    "    - 读取 q.get(item)\n",
    "    - 查看元素多少 q.qsize()\n",
    "    - 判空 q.empty()\n",
    "    - 判断是否已满 q.full()"
   ]
  },
  {
   "cell_type": "code",
   "execution_count": null,
   "id": "9a836bc6-304c-4ce3-bd4f-03e7719958b7",
   "metadata": {
    "tags": []
   },
   "outputs": [],
   "source": [
    "import queue\n",
    "import requests\n",
    "import time\n",
    "from bs4 import BeautifulSoup\n",
    "\n",
    "urls = [\n",
    "    f\"https://www.cnblogs.com/#p{page}\"\n",
    "    for page in range(1,50+1)\n",
    "]\n",
    "# print(urls)\n",
    "\n",
    "def craw(url):\n",
    "    r = requests.get(url)\n",
    "    # print(url, len(r.text))\n",
    "    return r.text\n",
    "\n",
    "def parse(html):\n",
    "    soup = BeautifulSoup(html, 'html.parser')\n",
    "    links = soup.find_all(\"a\", class_=\"post-item-title\")\n",
    "    return [ (link[\"href\"], link.get_text()) for link in links ]\n",
    "\n",
    "for e in parse(craw(urls[2])):\n",
    "    print(e)\n",
    "\n",
    "    \n",
    "import queue\n",
    "import time\n",
    "import random\n",
    "import threading\n",
    "\n",
    "def do_craw(url_queue:queue.Queue, html_queue: queue.Queue):\n",
    "    while True:\n",
    "        url=url_queue.get()\n",
    "        html = craw(url)\n",
    "        html_queue.put(html)\n",
    "        \n",
    "        print(f\"thread name={threading.current_thread().name} url={url} url_queue size={url_queue.qsize()}\")\n",
    "        time.sleep(random.randint(1,2))\n",
    "        \n",
    "def do_parse(html_queue: queue.Queue, fout):\n",
    "    while True:\n",
    "        html = html_queue.get()\n",
    "        res = parse(html)\n",
    "        for e in res:\n",
    "            fout.write(str(e) + \"\\n\")\n",
    "            \n",
    "        print(f\"thread name={threading.current_thread().name} url={url} html_queue size={html_queue.qsize()}\")\n",
    "        time.sleep(random.randint(1,2))\n",
    "        \n",
    "\n",
    "url_queue = queue.Queue()\n",
    "html_queue = queue.Queue()\n",
    "for url in urls:\n",
    "    url_queue.put(url)\n",
    "\n",
    "for idx in range(3):\n",
    "    t=threading.Thread(target=do_craw, args=(url_queue, html_queue), name=f\"craw{idx}\")\n",
    "    t.start()\n",
    "\n",
    "fout = open(\"data/craw.data.txt\",\"w\")\n",
    "for idx in range(2):\n",
    "    t=threading.Thread(target=do_parse,args=(html_queue,fout), name=f\"parse{idx}\")\n",
    "    t.start()"
   ]
  },
  {
   "attachments": {},
   "cell_type": "markdown",
   "id": "3d46851e-83a7-4fbc-bf6b-1d608737ae2c",
   "metadata": {},
   "source": [
    "### 示例-Lock用于解决线程安全\n",
    "- try-finally模式\n",
    "```python\n",
    "import threading\n",
    "lock=threading.Lock()\n",
    "lock.acquire()\n",
    "\n",
    "try:\n",
    "    # do something\n",
    "finally:\n",
    "    lock.release()\n",
    "```\n",
    "\n",
    "- with模式\n",
    "```python\n",
    "import threading\n",
    "\n",
    "lock = threading.Lock()\n",
    "with lock:\n",
    "    # do something\n",
    "```"
   ]
  },
  {
   "attachments": {},
   "cell_type": "markdown",
   "id": "6630a302-30f0-49fd-b9dd-13f1183c72ab",
   "metadata": {},
   "source": [
    "## 字节码\n",
    "- 查看字节码 dis.dis(x)\n",
    "- code object介绍"
   ]
  },
  {
   "attachments": {},
   "cell_type": "markdown",
   "id": "69ed7064-1320-4593-b977-608db149d5b4",
   "metadata": {},
   "source": [
    "# 库"
   ]
  },
  {
   "attachments": {},
   "cell_type": "markdown",
   "id": "9baabfa3-7819-4ba4-bfdd-8791f5ff7d6b",
   "metadata": {},
   "source": [
    "## os"
   ]
  },
  {
   "cell_type": "code",
   "execution_count": null,
   "id": "1bc97b6b-d29e-4063-bad0-d2a41162ca19",
   "metadata": {
    "tags": []
   },
   "outputs": [],
   "source": [
    "import os\n",
    "\n",
    "print(os.getcwd())\n",
    "os.system('ls -l')\n",
    "dir(os)\n",
    "help(os)"
   ]
  },
  {
   "attachments": {},
   "cell_type": "markdown",
   "id": "769d61c5-0893-4cd4-9e13-1defb87fc178",
   "metadata": {},
   "source": [
    "## shutil"
   ]
  },
  {
   "cell_type": "code",
   "execution_count": null,
   "id": "2b19876f-bf4f-4104-b0c5-fa3acd144e73",
   "metadata": {},
   "outputs": [],
   "source": [
    "import shutil\n",
    "\n",
    "help(shutil)"
   ]
  },
  {
   "attachments": {},
   "cell_type": "markdown",
   "id": "87a8a0c3-06ca-4ed9-8f32-121dc0ce096a",
   "metadata": {},
   "source": [
    "## glob"
   ]
  },
  {
   "cell_type": "code",
   "execution_count": 96,
   "id": "686efeb7-0ea5-40e5-bc30-4229236d669e",
   "metadata": {},
   "outputs": [
    {
     "name": "stdout",
     "output_type": "stream",
     "text": [
      "['fibo.py']\n"
     ]
    }
   ],
   "source": [
    "import glob\n",
    "print(glob.glob('*.py'))"
   ]
  },
  {
   "attachments": {},
   "cell_type": "markdown",
   "id": "00eaabd8-1037-47ce-9965-84dea22b9316",
   "metadata": {
    "tags": []
   },
   "source": [
    "## string\n",
    "### Template模板字符串"
   ]
  },
  {
   "cell_type": "code",
   "execution_count": 23,
   "id": "6893538a-cdf8-4386-8660-c9f4543bb361",
   "metadata": {},
   "outputs": [
    {
     "data": {
      "text/plain": [
       "'hello, xx'"
      ]
     },
     "execution_count": 23,
     "metadata": {},
     "output_type": "execute_result"
    }
   ],
   "source": [
    "from string import Template\n",
    "\n",
    "t=Template('hello, ${name}')\n",
    "t.substitute(name='xx')"
   ]
  },
  {
   "attachments": {},
   "cell_type": "markdown",
   "id": "5cacc662-d969-4adf-b06d-3a9f2e62deb6",
   "metadata": {},
   "source": [
    "## logging\n",
    "- https://stackoverflow.com/questions/18786912/get-output-from-the-logging-module-in-ipython-notebook"
   ]
  },
  {
   "cell_type": "code",
   "execution_count": 191,
   "id": "f28d989d-5148-4c66-b60f-e8f18c84fe4c",
   "metadata": {},
   "outputs": [
    {
     "name": "stdout",
     "output_type": "stream",
     "text": [
      "<class 'int'>\n",
      "20\n",
      "23-04-15 15:41:50 |   DEBUG|1157483613.py:17|<module>| Debugging information\n",
      "23-04-15 15:41:50 |    INFO|1157483613.py:18|<module>| Informational message\n",
      "23-04-15 15:41:50 | WARNING|1157483613.py:19|<module>| warning: config file server.conf not found!\n",
      "23-04-15 15:41:50 |   ERROR|1157483613.py:20|<module>| error\n",
      "23-04-15 15:41:50 |CRITICAL|1157483613.py:21|<module>| critical error -- shutting down\n",
      "23-04-15 15:41:50 |    INFO|1157483613.py:24|func| funcName test\n"
     ]
    }
   ],
   "source": [
    "import logging\n",
    "import importlib\n",
    "\n",
    "importlib.reload(logging)\n",
    "\n",
    "print(type(logging.INFO))\n",
    "print(logging.INFO)\n",
    "\n",
    "logging.basicConfig(level=logging.INFO)\n",
    "\n",
    "importlib.reload(logging)\n",
    "logging.basicConfig(format='%(asctime)s |%(levelname)8s|%(filename)s:%(lineno)d|%(funcName)s| %(message)s',\n",
    "                    level=logging.DEBUG, \n",
    "                    datefmt='%y-%m-%d %H:%M:%S',\n",
    "                    stream=sys.stdout)\n",
    "\n",
    "logging.debug('Debugging information')\n",
    "logging.info('Informational message')\n",
    "logging.warning('warning: config file %s not found!', 'server.conf')\n",
    "logging.error('error')\n",
    "logging.critical('critical error -- shutting down')\n",
    "\n",
    "def func():\n",
    "    logging.info('funcName test')\n",
    "\n",
    "func()"
   ]
  },
  {
   "attachments": {},
   "cell_type": "markdown",
   "id": "251d789d-ad12-43ec-95cd-c76bf60933bb",
   "metadata": {},
   "source": [
    "## smtplib\n",
    "https://www.runoob.com/python3/python3-smtp.html"
   ]
  },
  {
   "attachments": {},
   "cell_type": "markdown",
   "id": "28fc83ee-677f-4f82-9225-f69b7b301a94",
   "metadata": {},
   "source": [
    "## apscheduler\n",
    "- 任务调度\n",
    "- 类似有schedule,celery\n",
    "- 文档 https://apscheduler.readthedocs.io/en/3.x/userguide.html\n",
    "- github https://github.com/agronholm/apscheduler/tree/3.x/examples/?at=master\n",
    "\n",
    "### basic concepts\n",
    "APScheduler has four kinds of components\n",
    "- triggers\n",
    "- job stores\n",
    "- executors\n",
    "- schedulers\n",
    "\n",
    "### 选择\n",
    "- scheduler: BlockingScheduler vs BackgroundScheduler\n",
    "- trigger: date, interval, cron\n",
    "- jobstore: memery vs persist(db)\n",
    "- executor: ThreadPoolExecutor vs ProcessPoolExecutor\n"
   ]
  },
  {
   "cell_type": "code",
   "execution_count": null,
   "id": "76a72abd-07b7-4d14-8346-f61404debeeb",
   "metadata": {
    "tags": []
   },
   "outputs": [],
   "source": [
    "pip install apscheduler"
   ]
  },
  {
   "attachments": {},
   "cell_type": "markdown",
   "id": "b7df00f0-8775-481b-89c6-124e425fe90d",
   "metadata": {},
   "source": [
    "### 示列"
   ]
  },
  {
   "cell_type": "code",
   "execution_count": null,
   "id": "3afab4ba-e9a8-49b9-8a89-2d639b9c91ec",
   "metadata": {},
   "outputs": [],
   "source": [
    "import time\n",
    "import json\n",
    "import os\n",
    "from apscheduler.schedulers.blocking import BlockingScheduler\n",
    "from apscheduler.schedulers.background import BackgroundScheduler\n",
    "from apscheduler.triggers.interval import IntervalTrigger\n",
    "from datetime import datetime\n",
    "\n",
    "def myjob():\n",
    "    event={\n",
    "        'taskId': 'sc export'\n",
    "    }\n",
    "    print(f\"send event : {datetime.now().strftime('%Y-%m-%d %H:%M:%S')} {json.dumps(event)}...\")\n",
    "    \n",
    "# bs=BlockingScheduler()\n",
    "bs=BackgroundScheduler()\n",
    "trigger=IntervalTrigger(seconds=5)\n",
    "bs.add_job(myjob, trigger)\n",
    "\n",
    "bs.start()\n",
    "\n",
    "print('Press Ctrl+{0} to exit'.format('Break' if os.name == 'nt' else 'C'))\n",
    "\n",
    "try:\n",
    "    # This is here to simulate application activity (which keeps the main thread alive).\n",
    "    while True:\n",
    "        print(\"sleep...\")\n",
    "        time.sleep(2)\n",
    "except (KeyboardInterrupt, SystemExit):\n",
    "    print(\"bs shutdown...\")\n",
    "    # Not strictly necessary if daemonic mode is enabled but should be done if possible\n",
    "    bs.shutdown()"
   ]
  },
  {
   "cell_type": "code",
   "execution_count": null,
   "id": "aca9eef5-cfa1-4f30-a484-e762ab90126a",
   "metadata": {},
   "outputs": [],
   "source": [
    "bs.shutdown()"
   ]
  },
  {
   "cell_type": "code",
   "execution_count": 38,
   "id": "efc1bb57-9d52-4e91-acf2-a0ffb0ef2d6a",
   "metadata": {
    "tags": []
   },
   "outputs": [
    {
     "data": {
      "text/plain": [
       "<CronTrigger (month='may-aug', day='1-15', day_of_week='*', hour='0', minute='0', timezone='Asia/Shanghai')>"
      ]
     },
     "execution_count": 38,
     "metadata": {},
     "output_type": "execute_result"
    }
   ],
   "source": [
    "from apscheduler.triggers.cron import CronTrigger\n",
    "\n",
    "CronTrigger.from_crontab('0 0 1-15 may-aug *')"
   ]
  }
 ],
 "metadata": {
  "kernelspec": {
   "display_name": "Python 3 (ipykernel)",
   "language": "python",
   "name": "python3"
  },
  "language_info": {
   "codemirror_mode": {
    "name": "ipython",
    "version": 3
   },
   "file_extension": ".py",
   "mimetype": "text/x-python",
   "name": "python",
   "nbconvert_exporter": "python",
   "pygments_lexer": "ipython3",
   "version": "3.10.7"
  },
  "toc-autonumbering": true,
  "toc-showmarkdowntxt": false
 },
 "nbformat": 4,
 "nbformat_minor": 5
}
